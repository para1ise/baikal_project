{
 "cells": [
  {
   "cell_type": "markdown",
   "metadata": {},
   "source": [
    "# Import modules and init in gee\n"
   ]
  },
  {
   "cell_type": "code",
   "execution_count": null,
   "metadata": {},
   "outputs": [],
   "source": [
    "import copy\n",
    "import pickle\n",
    "import itertools\n",
    "import os\n",
    "\n",
    "import numpy as np\n",
    "import matplotlib.pyplot as plt\n",
    "import pandas as pd\n",
    "\n",
    "from sklearn.linear_model import LinearRegression\n",
    "from sklearn.svm import SVR\n",
    "from sklearn.preprocessing import StandardScaler\n",
    "from sklearn.model_selection import GridSearchCV, cross_validate, train_test_split\n",
    "from sklearn.metrics import mean_absolute_error, mean_squared_error, make_scorer, mean_absolute_percentage_error\n",
    "from sklearn.pipeline import make_pipeline\n",
    "from sklearn.ensemble import RandomForestRegressor\n",
    "\n",
    "from scipy.stats.mstats import theilslopes\n",
    "from hampel import hampel\n",
    "\n",
    "\n",
    "plt.rcParams['axes.edgecolor'] = 'blue'\n",
    "plt.rcParams['figure.figsize'] = [14, 7]"
   ]
  },
  {
   "cell_type": "code",
   "execution_count": 2,
   "metadata": {},
   "outputs": [],
   "source": [
    "import ee\n",
    "import geemap.core as geemap"
   ]
  },
  {
   "cell_type": "code",
   "execution_count": 3,
   "metadata": {},
   "outputs": [
    {
     "data": {
      "text/html": [
       "\n",
       "            <style>\n",
       "                .geemap-dark {\n",
       "                    --jp-widgets-color: white;\n",
       "                    --jp-widgets-label-color: white;\n",
       "                    --jp-ui-font-color1: white;\n",
       "                    --jp-layout-color2: #454545;\n",
       "                    background-color: #383838;\n",
       "                }\n",
       "\n",
       "                .geemap-dark .jupyter-button {\n",
       "                    --jp-layout-color3: #383838;\n",
       "                }\n",
       "\n",
       "                .geemap-colab {\n",
       "                    background-color: var(--colab-primary-surface-color, white);\n",
       "                }\n",
       "\n",
       "                .geemap-colab .jupyter-button {\n",
       "                    --jp-layout-color3: var(--colab-primary-surface-color, white);\n",
       "                }\n",
       "            </style>\n",
       "            "
      ],
      "text/plain": [
       "<IPython.core.display.HTML object>"
      ]
     },
     "metadata": {},
     "output_type": "display_data"
    },
    {
     "data": {
      "text/plain": [
       "True"
      ]
     },
     "execution_count": 3,
     "metadata": {},
     "output_type": "execute_result"
    }
   ],
   "source": [
    "ee.Authenticate()"
   ]
  },
  {
   "cell_type": "code",
   "execution_count": 4,
   "metadata": {},
   "outputs": [
    {
     "data": {
      "text/html": [
       "\n",
       "            <style>\n",
       "                .geemap-dark {\n",
       "                    --jp-widgets-color: white;\n",
       "                    --jp-widgets-label-color: white;\n",
       "                    --jp-ui-font-color1: white;\n",
       "                    --jp-layout-color2: #454545;\n",
       "                    background-color: #383838;\n",
       "                }\n",
       "\n",
       "                .geemap-dark .jupyter-button {\n",
       "                    --jp-layout-color3: #383838;\n",
       "                }\n",
       "\n",
       "                .geemap-colab {\n",
       "                    background-color: var(--colab-primary-surface-color, white);\n",
       "                }\n",
       "\n",
       "                .geemap-colab .jupyter-button {\n",
       "                    --jp-layout-color3: var(--colab-primary-surface-color, white);\n",
       "                }\n",
       "            </style>\n",
       "            "
      ],
      "text/plain": [
       "<IPython.core.display.HTML object>"
      ]
     },
     "metadata": {},
     "output_type": "display_data"
    }
   ],
   "source": [
    "ee.Initialize(project='ee-airgit1')"
   ]
  },
  {
   "cell_type": "code",
   "execution_count": null,
   "metadata": {},
   "outputs": [
    {
     "data": {
      "text/html": [
       "\n",
       "            <style>\n",
       "                .geemap-dark {\n",
       "                    --jp-widgets-color: white;\n",
       "                    --jp-widgets-label-color: white;\n",
       "                    --jp-ui-font-color1: white;\n",
       "                    --jp-layout-color2: #454545;\n",
       "                    background-color: #383838;\n",
       "                }\n",
       "\n",
       "                .geemap-dark .jupyter-button {\n",
       "                    --jp-layout-color3: #383838;\n",
       "                }\n",
       "\n",
       "                .geemap-colab {\n",
       "                    background-color: var(--colab-primary-surface-color, white);\n",
       "                }\n",
       "\n",
       "                .geemap-colab .jupyter-button {\n",
       "                    --jp-layout-color3: var(--colab-primary-surface-color, white);\n",
       "                }\n",
       "            </style>\n",
       "            "
      ],
      "text/plain": [
       "<IPython.core.display.HTML object>"
      ]
     },
     "metadata": {},
     "output_type": "display_data"
    }
   ],
   "source": [
    "_df_all = pd.read_csv(\"../data/processed/chl_data.csv\")\n",
    "THRESHOLD = _df_all['CHL'].quantile(0.95)\n",
    "df_all = _df_all[_df_all['CHL'] <= THRESHOLD]"
   ]
  },
  {
   "cell_type": "markdown",
   "metadata": {},
   "source": [
    "# Implementation\n"
   ]
  },
  {
   "cell_type": "markdown",
   "metadata": {},
   "source": [
    "## Function definition"
   ]
  },
  {
   "cell_type": "markdown",
   "metadata": {},
   "source": [
    "### scale and mask"
   ]
  },
  {
   "cell_type": "code",
   "execution_count": 9,
   "metadata": {},
   "outputs": [
    {
     "data": {
      "text/html": [
       "\n",
       "            <style>\n",
       "                .geemap-dark {\n",
       "                    --jp-widgets-color: white;\n",
       "                    --jp-widgets-label-color: white;\n",
       "                    --jp-ui-font-color1: white;\n",
       "                    --jp-layout-color2: #454545;\n",
       "                    background-color: #383838;\n",
       "                }\n",
       "\n",
       "                .geemap-dark .jupyter-button {\n",
       "                    --jp-layout-color3: #383838;\n",
       "                }\n",
       "\n",
       "                .geemap-colab {\n",
       "                    background-color: var(--colab-primary-surface-color, white);\n",
       "                }\n",
       "\n",
       "                .geemap-colab .jupyter-button {\n",
       "                    --jp-layout-color3: var(--colab-primary-surface-color, white);\n",
       "                }\n",
       "            </style>\n",
       "            "
      ],
      "text/plain": [
       "<IPython.core.display.HTML object>"
      ]
     },
     "metadata": {},
     "output_type": "display_data"
    }
   ],
   "source": [
    "def scale_msi(image):\n",
    "    opticalBands = image.select(['B1', 'B2', 'B3', 'B4', 'B5', 'B6', 'B7', 'B8', 'B8A']).multiply(0.0001)\n",
    "    return image.addBands(opticalBands, None, True)\n",
    "\n",
    "\n",
    "def mask_S2_clouds(image):\n",
    "    qa = image.select('QA60')\n",
    "    cloudBitMask = 1 << 10\n",
    "    cirrusBitMask = 1 << 11\n",
    "    opticalBands = image.select(['B1', 'B2', 'B3', 'B4', 'B5', 'B6', 'B7', 'B8', 'B8A'])\n",
    "    \n",
    "    mask_gt = opticalBands.select(['B1', 'B2', 'B3', 'B4', 'B5', 'B6', 'B7', 'B8', 'B8A']) \\\n",
    "        .reduce(ee.Reducer.min()).gt(0)\n",
    "    mask = qa.bitwiseAnd(cloudBitMask).eq(0) \\\n",
    "        .And(qa.bitwiseAnd(cirrusBitMask).eq(0))\n",
    "    return image.updateMask(mask.And(mask_gt))"
   ]
  },
  {
   "cell_type": "markdown",
   "metadata": {},
   "source": [
    "### preproc images"
   ]
  },
  {
   "cell_type": "code",
   "execution_count": null,
   "metadata": {},
   "outputs": [
    {
     "data": {
      "text/html": [
       "\n",
       "            <style>\n",
       "                .geemap-dark {\n",
       "                    --jp-widgets-color: white;\n",
       "                    --jp-widgets-label-color: white;\n",
       "                    --jp-ui-font-color1: white;\n",
       "                    --jp-layout-color2: #454545;\n",
       "                    background-color: #383838;\n",
       "                }\n",
       "\n",
       "                .geemap-dark .jupyter-button {\n",
       "                    --jp-layout-color3: #383838;\n",
       "                }\n",
       "\n",
       "                .geemap-colab {\n",
       "                    background-color: var(--colab-primary-surface-color, white);\n",
       "                }\n",
       "\n",
       "                .geemap-colab .jupyter-button {\n",
       "                    --jp-layout-color3: var(--colab-primary-surface-color, white);\n",
       "                }\n",
       "            </style>\n",
       "            "
      ],
      "text/plain": [
       "<IPython.core.display.HTML object>"
      ]
     },
     "metadata": {},
     "output_type": "display_data"
    }
   ],
   "source": [
    "def preproc(ic: ee.ImageCollection, df: pd.DataFrame) -> list:\n",
    "    \"\"\"Mapping of id (datetime) to Image\n",
    "\n",
    "    Args:\n",
    "        ic (ee.ImageCollection): initial dataset\n",
    "        df (pd.DataFrame): .csv\n",
    "    \n",
    "    Returns:\n",
    "        dictionary of [ee.Image, dict of bands reduceRegion]\n",
    "    \"\"\"\n",
    "    \n",
    "    dict_stats = {key: value for key, value in zip(df.index.to_list(), df['datetime'].to_list())}\n",
    "    for i in dict_stats:\n",
    "        date_of_observation = ee.Date(df['datetime'][i])\n",
    "        start_date = date_of_observation.advance(-1, 'day')\n",
    "        end_date = date_of_observation.advance(1, 'day')\n",
    "        \n",
    "        img = ic.filterDate(start_date, end_date) \\\n",
    "            .filterBounds(ee.Geometry.Point(float(df['LONGITUDE'][i]), float(df['LATITUDE'][i]))) \\\n",
    "                .map(scale_msi).map(mask_S2_clouds)\n",
    "        found_stats = [None, None]\n",
    "        if img.size().getInfo():\n",
    "            img = img.toList(img.size())\n",
    "            for j in range(img.length().getInfo()):\n",
    "                v_mean = ee.Image(img.get(j)).reduceRegion(\n",
    "                            reducer=ee.Reducer.median(),\n",
    "                            geometry=ee.Geometry.Point(float(df['LONGITUDE'][i]), float(df['LATITUDE'][i])),\n",
    "                            scale=20\n",
    "                        ).getInfo()\n",
    "                if v_mean['B3'] is not None:\n",
    "                    found_stats[0] = ee.Image(img.get(j))\n",
    "                    found_stats[1] = v_mean\n",
    "                    break\n",
    "        dict_stats[i] = found_stats\n",
    "        \n",
    "    for k, v in list(dict_stats.items()):\n",
    "        if v[1] is None:\n",
    "            del dict_stats[k]\n",
    "    return dict_stats"
   ]
  },
  {
   "cell_type": "markdown",
   "metadata": {},
   "source": [
    "### caclulation statistics"
   ]
  },
  {
   "cell_type": "code",
   "execution_count": 11,
   "metadata": {},
   "outputs": [
    {
     "data": {
      "text/html": [
       "\n",
       "            <style>\n",
       "                .geemap-dark {\n",
       "                    --jp-widgets-color: white;\n",
       "                    --jp-widgets-label-color: white;\n",
       "                    --jp-ui-font-color1: white;\n",
       "                    --jp-layout-color2: #454545;\n",
       "                    background-color: #383838;\n",
       "                }\n",
       "\n",
       "                .geemap-dark .jupyter-button {\n",
       "                    --jp-layout-color3: #383838;\n",
       "                }\n",
       "\n",
       "                .geemap-colab {\n",
       "                    background-color: var(--colab-primary-surface-color, white);\n",
       "                }\n",
       "\n",
       "                .geemap-colab .jupyter-button {\n",
       "                    --jp-layout-color3: var(--colab-primary-surface-color, white);\n",
       "                }\n",
       "            </style>\n",
       "            "
      ],
      "text/plain": [
       "<IPython.core.display.HTML object>"
      ]
     },
     "metadata": {},
     "output_type": "display_data"
    }
   ],
   "source": [
    "def mae_log(in_situ, pred):\n",
    "    res = 0\n",
    "    y_pred_pos = np.maximum(np.array(pred), 0.01)\n",
    "    for i, ai in enumerate(in_situ):\n",
    "        res += abs(np.log10(y_pred_pos[i]) - np.log10(ai))\n",
    "    res /= len(in_situ)\n",
    "    return 10 ** res\n",
    "\n",
    "\n",
    "def bias_log(in_situ, pred):\n",
    "    res = 0\n",
    "    y_pred_pos = np.maximum(np.array(pred), 0.01)\n",
    "    for i, ai in enumerate(in_situ):\n",
    "        res += np.log10(y_pred_pos[i]) - np.log10(ai)\n",
    "    res /= len(in_situ)\n",
    "    return 10 ** res\n",
    "\n",
    "\n",
    "def r2_cov(y, y_pred):\n",
    "    y = np.array(y)\n",
    "    y_pred = np.array(y_pred)\n",
    "    y_bar = y.mean()\n",
    "    y_pred_bar = y_pred.mean()\n",
    "    return np.pow(np.sum((y - y_bar) * (y_pred - y_pred_bar)) /\n",
    "                  np.sqrt(np.sum(np.pow(y - y_bar, 2)) * np.sum(np.pow(y_pred - y_pred_bar, 2))), 2)\n",
    "    \n",
    "    \n",
    "def bias(in_situ, pred):\n",
    "    res = 0\n",
    "    for i, ai in enumerate(in_situ):\n",
    "        res += (pred[i] - ai)\n",
    "    return res / len(in_situ)\n",
    "\n",
    "\n",
    "def sen_slope(list_in_situ, list_calc):\n",
    "    return theilslopes(list_in_situ, list_calc).slope\n",
    "\n",
    "\n",
    "def std(in_situ, pred):\n",
    "    return np.std(np.array(pred) - np.array(in_situ))\n",
    "\n",
    "\n",
    "def calculate_statistics(list_in_situ, list_calc):\n",
    "    arr = [r2_cov(list_in_situ, list_calc), bias_log(list_in_situ, list_calc),\n",
    "            bias(list_in_situ, list_calc), mae_log(list_in_situ, list_calc), mean_absolute_error(list_in_situ, list_calc),\n",
    "            np.sqrt(mean_squared_error(list_in_situ, list_calc)), std(list_in_situ, list_calc),\n",
    "            sen_slope(list_calc, list_in_situ), mean_absolute_percentage_error(list_in_situ, list_calc) * 100]\n",
    "    return list(map(lambda x: round(x, 3), arr))"
   ]
  },
  {
   "cell_type": "markdown",
   "metadata": {},
   "source": [
    "### draw and estimated chl"
   ]
  },
  {
   "cell_type": "code",
   "execution_count": null,
   "metadata": {},
   "outputs": [
    {
     "data": {
      "text/html": [
       "\n",
       "            <style>\n",
       "                .geemap-dark {\n",
       "                    --jp-widgets-color: white;\n",
       "                    --jp-widgets-label-color: white;\n",
       "                    --jp-ui-font-color1: white;\n",
       "                    --jp-layout-color2: #454545;\n",
       "                    background-color: #383838;\n",
       "                }\n",
       "\n",
       "                .geemap-dark .jupyter-button {\n",
       "                    --jp-layout-color3: #383838;\n",
       "                }\n",
       "\n",
       "                .geemap-colab {\n",
       "                    background-color: var(--colab-primary-surface-color, white);\n",
       "                }\n",
       "\n",
       "                .geemap-colab .jupyter-button {\n",
       "                    --jp-layout-color3: var(--colab-primary-surface-color, white);\n",
       "                }\n",
       "            </style>\n",
       "            "
      ],
      "text/plain": [
       "<IPython.core.display.HTML object>"
      ]
     },
     "metadata": {},
     "output_type": "display_data"
    }
   ],
   "source": [
    "def draw_graphic(list1: list, list2: list, name_algo: str, save_folder: str = None):\n",
    "    x = np.array(copy.deepcopy(list1)).reshape((-1, 1))\n",
    "    y1 = np.array(copy.deepcopy(list2))\n",
    "    model = LinearRegression().fit(x, y1)\n",
    "    x_dots = np.linspace(x.min(), x.max(), 100).reshape((-1, 1))\n",
    "    y_pred = model.predict(x_dots)\n",
    "    \n",
    "    plt.figure()\n",
    "    plt.scatter(x, y1, c=[(0.7, 0.2, 0.9)], s=150,\n",
    "                edgecolor='black', \n",
    "                linewidth=1.5,         \n",
    "                alpha=0.9,           \n",
    "                marker='o',           \n",
    "                zorder=3)\n",
    "    plt.plot(x_dots, y_pred, 'b', label='linear regression')\n",
    "    plt.plot(x_dots, (st := theilslopes(list2, list1)).slope * x_dots + st.intercept, color='green', label='Theil–Sen estimator')\n",
    "    plt.plot(x_dots, x_dots, '--', color='black', label='1:1 line')\n",
    "    plt.xlabel(f\"in_situ, Ug/L\\nN = {len(list1) if 1 else 0}, Sen\\'s slope = {st.slope:.3f}\", fontsize=16, labelpad=10)\n",
    "    plt.ylabel(f\"{name_algo}, Ug/L\", fontsize=16, labelpad=10)\n",
    "    plt.legend(fontsize=12)\n",
    "    plt.grid(True, linestyle='--', alpha=0.7)\n",
    "    \n",
    "    if save_folder:\n",
    "        os.makedirs(f\"graphics/{save_folder}\", exist_ok=True)\n",
    "        filename = f\"{name_algo}.png\"\n",
    "        save_path = os.path.join(f\"graphics/{save_folder}\", filename)\n",
    "        \n",
    "        plt.savefig(save_path, bbox_inches=\"tight\")\n",
    "        plt.close()\n",
    "    else:\n",
    "        plt.show()\n",
    "        \n",
    "    return round(std(list1, list2), 3)\n",
    "    \n",
    "    \n",
    "def calculate_statistics_and_draw_graphic(df_in_situ: pd.DataFrame, **kwargs):\n",
    "    dict_in_situ = {key: value for key, value in zip(df_in_situ.index.to_list(), df_in_situ['CHL'].to_list())}\n",
    "    statistics = dict()\n",
    "    for algo_name, algo_dict in kwargs.items():\n",
    "        tmp_copy_calc = copy.deepcopy(algo_dict)\n",
    "        for k, v in tmp_copy_calc.items():\n",
    "            if v is None or v <= 0 or np.isnan(v) or abs(dict_in_situ[k] - tmp_copy_calc[k]) > 100:\n",
    "                del algo_dict[k]\n",
    "        tmp_copy_in_situ = copy.deepcopy(dict_in_situ)\n",
    "        for k in list(tmp_copy_in_situ.keys()):\n",
    "            if k not in algo_dict:\n",
    "                del tmp_copy_in_situ[k]\n",
    "        \n",
    "        in_situ_values = list(tmp_copy_in_situ.values())\n",
    "        calc_chl = list(algo_dict.values())\n",
    "        if len(calc_chl) > 3:\n",
    "            statistics[algo_name] = [*(_tmp := calculate_statistics(in_situ_values, calc_chl)), len(calc_chl), tmp_copy_in_situ, algo_dict]\n",
    "            slope = draw_graphic(in_situ_values, calc_chl, algo_name, save_folder=\"regional\")\n",
    "        else:\n",
    "            display(f\"Incorrect estimated values (count = {len(calc_chl)}): {algo_name}\")\n",
    "        \n",
    "    return statistics"
   ]
  },
  {
   "cell_type": "markdown",
   "metadata": {},
   "source": [
    "### formulae in articles"
   ]
  },
  {
   "cell_type": "markdown",
   "metadata": {},
   "source": [
    "#### Beck"
   ]
  },
  {
   "cell_type": "code",
   "execution_count": 13,
   "metadata": {},
   "outputs": [
    {
     "data": {
      "text/html": [
       "\n",
       "            <style>\n",
       "                .geemap-dark {\n",
       "                    --jp-widgets-color: white;\n",
       "                    --jp-widgets-label-color: white;\n",
       "                    --jp-ui-font-color1: white;\n",
       "                    --jp-layout-color2: #454545;\n",
       "                    background-color: #383838;\n",
       "                }\n",
       "\n",
       "                .geemap-dark .jupyter-button {\n",
       "                    --jp-layout-color3: #383838;\n",
       "                }\n",
       "\n",
       "                .geemap-colab {\n",
       "                    background-color: var(--colab-primary-surface-color, white);\n",
       "                }\n",
       "\n",
       "                .geemap-colab .jupyter-button {\n",
       "                    --jp-layout-color3: var(--colab-primary-surface-color, white);\n",
       "                }\n",
       "            </style>\n",
       "            "
      ],
      "text/plain": [
       "<IPython.core.display.HTML object>"
      ]
     },
     "metadata": {},
     "output_type": "display_data"
    }
   ],
   "source": [
    "def beck(values: dict):\n",
    "    ndci = (values['B5'] - values['B4']) / (values['B5'] + values['B4']) \n",
    "    flh_violet = values['B3'] - (values['B4'] + ((665 - 560.5) / (665 - 490.5) * (values['B2'] - values['B4'])))\n",
    "    _2bda = values['B5'] / values['B4']\n",
    "    _3bda = ((1 / values['B4']) - (1 / values['B5'])) * values['B8A']\n",
    "    \n",
    "    ndci_chl = None if (_ndci := 0.388 * ndci - 18.844) < 0 else _ndci\n",
    "    flh_violet_chl = None if (_flh_violet_chl := -0.033 * flh_violet + 53.064) < 0 else _flh_violet_chl\n",
    "    _2bda_chl = None if (__2bda_chl := _2bda * 86.148 - 51.94) < 0 else __2bda_chl\n",
    "    _3bda_chl = None if (__3bda_chl := 156.286 * _3bda + 35.982) < 0 else __3bda_chl\n",
    "    return ndci_chl, flh_violet_chl, _2bda_chl, _3bda_chl"
   ]
  },
  {
   "cell_type": "markdown",
   "metadata": {},
   "source": [
    "#### Molkov"
   ]
  },
  {
   "cell_type": "code",
   "execution_count": null,
   "metadata": {},
   "outputs": [
    {
     "data": {
      "text/html": [
       "\n",
       "            <style>\n",
       "                .geemap-dark {\n",
       "                    --jp-widgets-color: white;\n",
       "                    --jp-widgets-label-color: white;\n",
       "                    --jp-ui-font-color1: white;\n",
       "                    --jp-layout-color2: #454545;\n",
       "                    background-color: #383838;\n",
       "                }\n",
       "\n",
       "                .geemap-dark .jupyter-button {\n",
       "                    --jp-layout-color3: #383838;\n",
       "                }\n",
       "\n",
       "                .geemap-colab {\n",
       "                    background-color: var(--colab-primary-surface-color, white);\n",
       "                }\n",
       "\n",
       "                .geemap-colab .jupyter-button {\n",
       "                    --jp-layout-color3: var(--colab-primary-surface-color, white);\n",
       "                }\n",
       "            </style>\n",
       "            "
      ],
      "text/plain": [
       "<IPython.core.display.HTML object>"
      ]
     },
     "metadata": {},
     "output_type": "display_data"
    }
   ],
   "source": [
    "def molkov_linear(x, a, b):\n",
    "    a = np.array(a)\n",
    "    b = np.array(b)\n",
    "    return None if x is None or (_ := a * x + b) < 0 else _\n",
    "    \n",
    "    \n",
    "def molkov_poly(x, a, b, c):\n",
    "    a = np.array(a)\n",
    "    b = np.array(b)\n",
    "    c = np.array(c)\n",
    "    return None if x is None or (_ := a * np.pow(x, 2) + b * x + c) < 0 else _ \n",
    "\n",
    "\n",
    "def molkov_exp(x, a, b):\n",
    "    a = np.array(a)\n",
    "    b = np.array(b)\n",
    "    return None if x is None else a * np.exp(b * x)\n",
    "    \n",
    "    \n",
    "def molkov_power1(x, a, b):\n",
    "    a = np.array(a)\n",
    "    b = np.array(b)\n",
    "    return None if x is None else a * np.pow(x, b)\n",
    "    \n",
    "\n",
    "def molkov_power2(x, a, b, c):\n",
    "    a = np.array(a)\n",
    "    b = np.array(b)\n",
    "    c = np.array(c)\n",
    "    return None if (x is None) or np.any(a * x + b < 0) else np.pow((a * x + b), c)\n",
    "        \n",
    "\n",
    "def molkov(values: dict) -> tuple:\n",
    "    \"\"\"For each values of bands calculate indecies, which looks like lists [lin, poly, exp, p1, p2]\n",
    "\n",
    "    Returns:\n",
    "        tuple of lists: dim = 8: ndci_list, _2bda_list, _3bda_list, ph_list, \\n\n",
    "        _2b_linear_result, _2b_poly_result, ndci_linear_result, ndci_poly_result\n",
    "    \"\"\"\n",
    "    \n",
    "    ndci = (values['B5'] - values['B4']) / (values['B5'] + values['B4'])\n",
    "    _2bda = values['B5'] / values['B4']\n",
    "    _3bda = ((1 / values['B4']) - (1 / values['B5'])) * values['B6']\n",
    "    ph = values['B5'] - (values['B6'] + values['B4']) / 2\n",
    "    \n",
    "    ndci_list, _2bda_list, _3bda_list, ph_list = np.zeros(5, dtype=np.float64), np.zeros(5, dtype=np.float64), \\\n",
    "        np.zeros(5, dtype=np.float64), np.zeros(5, dtype=np.float64)\n",
    "    \n",
    "    ndci_list[0], _2bda_list[0], _3bda_list[0], ph_list[0] = molkov_linear(ndci, 90.101, 13.75), \\\n",
    "        molkov_linear(_2bda, 24.463, -8.356), molkov_linear(_3bda, 35.812, 19.24), molkov_linear(ph, 2340.123, 9.185)\n",
    "    \n",
    "    ndci_list[1], _2bda_list[1], _3bda_list[1], ph_list[1] = molkov_poly(ndci, 88.757, 52.715, 15.06), \\\n",
    "        molkov_poly(_2bda, -2.155, 33.034, -15.59), molkov_poly(_3bda, -10.227, 52.867, 16.91), molkov_poly(ph, -17567.0, 2814.313, 7.11)\n",
    "    \n",
    "    ndci_list[2], _2bda_list[2], _3bda_list[2], ph_list[2] = molkov_exp(ndci, 16.365, 2.754), \\\n",
    "        molkov_exp(_2bda, 12.546, 0.526), molkov_exp(_3bda, 25.114, 0.554), molkov_exp(ph, 17.808, 52.313)\n",
    "    \n",
    "    ndci_list[3], _2bda_list[3], _3bda_list[3], ph_list[3] = None, molkov_power1(_2bda, 17.346, 1.198), \\\n",
    "        None, molkov_power1(ph, 890.568, 0.708)\n",
    "    \n",
    "    ndci_list[4], _2bda_list[4], _3bda_list[4], ph_list[4] = molkov_power2(ndci, 6.251, 3.359, 2.217), \\\n",
    "        molkov_power2(_2bda, 96.806, -61.71, 0.764), molkov_power2(_3bda, 4373.068, 296.6, 0.479), molkov_power2(ph, 7834.173, 8.051, 0.789)\n",
    "    \n",
    "    _2b_linear_result = molkov_linear(_2bda, 64.536, -57.8)\n",
    "    _2b_poly_result = molkov_poly(_2bda, -73.669, 252.808, -176.68)\n",
    "    ndci_linear_result = molkov_linear(ndci, 167.293, 4.756)\n",
    "    ndci_poly_result = molkov_poly(ndci, -300.26, 235.556, 1.586)\n",
    "    return ndci_list, _2bda_list, _3bda_list, ph_list, \\\n",
    "        _2b_linear_result, _2b_poly_result, ndci_linear_result, ndci_poly_result\n",
    "\n",
    "\n",
    "def convert_molkov_dict(index_dict: dict) -> tuple:\n",
    "    \"\"\"For each pair flatten lists to dict: id: [0, 1, 2, ...] -> dict(id: 0), dict(id: 1), ...\n",
    "\n",
    "    Returns:\n",
    "        tuple of dicts\n",
    "    \"\"\"\n",
    "    _0, _1, _2, _3, _4 = dict(), dict(), dict(), dict(), dict()\n",
    "    for k, v in index_dict.items():\n",
    "        _0[k] = v[0]\n",
    "        _1[k] = v[1]\n",
    "        _2[k] = v[2]\n",
    "        _3[k] = v[3]\n",
    "        _4[k] = v[4]\n",
    "    return _0, _1, _2, _3, _4"
   ]
  },
  {
   "cell_type": "markdown",
   "metadata": {},
   "source": [
    "#### Li"
   ]
  },
  {
   "cell_type": "code",
   "execution_count": 15,
   "metadata": {},
   "outputs": [
    {
     "data": {
      "text/html": [
       "\n",
       "            <style>\n",
       "                .geemap-dark {\n",
       "                    --jp-widgets-color: white;\n",
       "                    --jp-widgets-label-color: white;\n",
       "                    --jp-ui-font-color1: white;\n",
       "                    --jp-layout-color2: #454545;\n",
       "                    background-color: #383838;\n",
       "                }\n",
       "\n",
       "                .geemap-dark .jupyter-button {\n",
       "                    --jp-layout-color3: #383838;\n",
       "                }\n",
       "\n",
       "                .geemap-colab {\n",
       "                    background-color: var(--colab-primary-surface-color, white);\n",
       "                }\n",
       "\n",
       "                .geemap-colab .jupyter-button {\n",
       "                    --jp-layout-color3: var(--colab-primary-surface-color, white);\n",
       "                }\n",
       "            </style>\n",
       "            "
      ],
      "text/plain": [
       "<IPython.core.display.HTML object>"
      ]
     },
     "metadata": {},
     "output_type": "display_data"
    }
   ],
   "source": [
    "def li_candidate13(x, a0, a1, a2, a3, a4):\n",
    "    \"\"\"\n",
    "    Args:\n",
    "        x: np.log10(values['B2'] / values['B3'])\n",
    "    \"\"\"\n",
    "    return np.pow(10, a0 + a1 * x + a2 * np.pow(x, 2) + a3 * np.pow(x, 3) + a4 * np.pow(x, 4))\n",
    "\n",
    "\n",
    "def li_candidate(values: dict):\n",
    "    \"\"\"\n",
    "    ndci = None if values['B5'] < values['B4'] else (values['B5'] - values['B4']) / (values['B5'] + values['B4']) \n",
    "    _2bda1 = values['B6'] / values['B5']\n",
    "    _2bda2 = values['B5'] / values['B4']\n",
    "    _3bda = None if values['B5'] < values['B4'] else ((1 / values['B4']) - (1 / values['B5'])) * values['B6']\n",
    "    \"\"\"\n",
    "    \n",
    "    chl11 = None if (__chl11 := 136.3 * (values['B6'] / values['B4']) - 16.2) < 0 else __chl11\n",
    "    \n",
    "    chl12 = None if (__chl12 := 25.28 * (_chl12 := values['B5'] / values['B4'])**2 + 14.85 * _chl12 - 15.18) < 0 else __chl12\n",
    "    \n",
    "    chl13 = np.pow(10, 0.2389 - 1.9369 * (_chl13 := np.log10(values['B2'] / values['B3'])) +\n",
    "                   1.7627 * _chl13**2 - 3.0777 * _chl13**3 - 0.1054 * _chl13**4)\n",
    "    \n",
    "    \n",
    "    chl211 = None if \\\n",
    "        (__chl211 := 117.42 * ((1 / values['B4']) - (1 / values['B5'])) * values['B6'] + 23.09) < 0 else __chl211\n",
    "        \n",
    "    chl212 = None if \\\n",
    "        (__chl212 := 232.329 * ((1 / values['B4']) - (1 / values['B5'])) * values['B6'] + 23.174) < 0 else __chl212\n",
    "        \n",
    "    chl213 = None if \\\n",
    "        (__chl213 := 315.50 * (_chl213 := ((1 / values['B4'] - 1 / values['B5']) * values['B6']))**2 +\n",
    "                      215.95 * _chl213 + 25.66) < 0 else __chl213\n",
    "        \n",
    "    chl22 = None if values['B6'] == values['B5'] or (__chl22 := \\\n",
    "        161.24 * (((1 / values['B4']) - (1 / values['B5'])) / ((1 / values['B6']) - (1 / values['B5']))) + 28.04) < 0 else __chl22\n",
    "    return chl11, chl12, chl13, chl211, chl212, chl213, chl22"
   ]
  },
  {
   "cell_type": "markdown",
   "metadata": {},
   "source": [
    "#### Makwinja"
   ]
  },
  {
   "cell_type": "code",
   "execution_count": null,
   "metadata": {},
   "outputs": [
    {
     "data": {
      "text/html": [
       "\n",
       "            <style>\n",
       "                .geemap-dark {\n",
       "                    --jp-widgets-color: white;\n",
       "                    --jp-widgets-label-color: white;\n",
       "                    --jp-ui-font-color1: white;\n",
       "                    --jp-layout-color2: #454545;\n",
       "                    background-color: #383838;\n",
       "                }\n",
       "\n",
       "                .geemap-dark .jupyter-button {\n",
       "                    --jp-layout-color3: #383838;\n",
       "                }\n",
       "\n",
       "                .geemap-colab {\n",
       "                    background-color: var(--colab-primary-surface-color, white);\n",
       "                }\n",
       "\n",
       "                .geemap-colab .jupyter-button {\n",
       "                    --jp-layout-color3: var(--colab-primary-surface-color, white);\n",
       "                }\n",
       "            </style>\n",
       "            "
      ],
      "text/plain": [
       "<IPython.core.display.HTML object>"
      ]
     },
     "metadata": {},
     "output_type": "display_data"
    }
   ],
   "source": [
    "def makwinja(values: dict):\n",
    "    ndci = (values['B5'] - values['B4']) / (values['B5'] + values['B4'])\n",
    "    return None if (_ndci := 431.98 * ndci**2 + 104 * ndci + 9.547) < 0 else _ndci"
   ]
  },
  {
   "cell_type": "markdown",
   "metadata": {},
   "source": [
    "#### Boldanova"
   ]
  },
  {
   "cell_type": "code",
   "execution_count": null,
   "metadata": {},
   "outputs": [
    {
     "data": {
      "text/html": [
       "\n",
       "            <style>\n",
       "                .geemap-dark {\n",
       "                    --jp-widgets-color: white;\n",
       "                    --jp-widgets-label-color: white;\n",
       "                    --jp-ui-font-color1: white;\n",
       "                    --jp-layout-color2: #454545;\n",
       "                    background-color: #383838;\n",
       "                }\n",
       "\n",
       "                .geemap-dark .jupyter-button {\n",
       "                    --jp-layout-color3: #383838;\n",
       "                }\n",
       "\n",
       "                .geemap-colab {\n",
       "                    background-color: var(--colab-primary-surface-color, white);\n",
       "                }\n",
       "\n",
       "                .geemap-colab .jupyter-button {\n",
       "                    --jp-layout-color3: var(--colab-primary-surface-color, white);\n",
       "                }\n",
       "            </style>\n",
       "            "
      ],
      "text/plain": [
       "<IPython.core.display.HTML object>"
      ]
     },
     "metadata": {},
     "output_type": "display_data"
    }
   ],
   "source": [
    "def boldanova(values: dict):\n",
    "    boldanova_b3 = None if (_boldanova_b3 := 3635.4 * (values['B3'])**2 - 185.7 * values['B3'] + 3.5) < 0 else _boldanova_b3\n",
    "    return boldanova_b3"
   ]
  },
  {
   "cell_type": "markdown",
   "metadata": {},
   "source": [
    "#### Karimi"
   ]
  },
  {
   "cell_type": "code",
   "execution_count": 18,
   "metadata": {},
   "outputs": [
    {
     "data": {
      "text/html": [
       "\n",
       "            <style>\n",
       "                .geemap-dark {\n",
       "                    --jp-widgets-color: white;\n",
       "                    --jp-widgets-label-color: white;\n",
       "                    --jp-ui-font-color1: white;\n",
       "                    --jp-layout-color2: #454545;\n",
       "                    background-color: #383838;\n",
       "                }\n",
       "\n",
       "                .geemap-dark .jupyter-button {\n",
       "                    --jp-layout-color3: #383838;\n",
       "                }\n",
       "\n",
       "                .geemap-colab {\n",
       "                    background-color: var(--colab-primary-surface-color, white);\n",
       "                }\n",
       "\n",
       "                .geemap-colab .jupyter-button {\n",
       "                    --jp-layout-color3: var(--colab-primary-surface-color, white);\n",
       "                }\n",
       "            </style>\n",
       "            "
      ],
      "text/plain": [
       "<IPython.core.display.HTML object>"
      ]
     },
     "metadata": {},
     "output_type": "display_data"
    }
   ],
   "source": [
    "def karimi(values: dict):\n",
    "    _2bda = None if values['B4'] == 0 else \\\n",
    "        np.exp(3.4 * (__2bda := values['B5'] / values['B4'])**2 - 6.6 * __2bda + 4.9)\n",
    "    ndci = np.exp(5.83 * (_ndci := (values['B5'] - values['B4']) / (values['B5'] + values['B4']))**2 + 0.075 * _ndci + 1.72)\n",
    "    _3bda = np.exp(2.6 * (__3bda := ((1 / values['B4']) - (1 / values['B5'])) * values['B8A'])**2 - 0.2 * __3bda + 1.74)\n",
    "    return _2bda, ndci, _3bda"
   ]
  },
  {
   "cell_type": "markdown",
   "metadata": {},
   "source": [
    "#### O'Reilly"
   ]
  },
  {
   "cell_type": "code",
   "execution_count": null,
   "metadata": {},
   "outputs": [
    {
     "data": {
      "text/html": [
       "\n",
       "            <style>\n",
       "                .geemap-dark {\n",
       "                    --jp-widgets-color: white;\n",
       "                    --jp-widgets-label-color: white;\n",
       "                    --jp-ui-font-color1: white;\n",
       "                    --jp-layout-color2: #454545;\n",
       "                    background-color: #383838;\n",
       "                }\n",
       "\n",
       "                .geemap-dark .jupyter-button {\n",
       "                    --jp-layout-color3: #383838;\n",
       "                }\n",
       "\n",
       "                .geemap-colab {\n",
       "                    background-color: var(--colab-primary-surface-color, white);\n",
       "                }\n",
       "\n",
       "                .geemap-colab .jupyter-button {\n",
       "                    --jp-layout-color3: var(--colab-primary-surface-color, white);\n",
       "                }\n",
       "            </style>\n",
       "            "
      ],
      "text/plain": [
       "<IPython.core.display.HTML object>"
      ]
     },
     "metadata": {},
     "output_type": "display_data"
    }
   ],
   "source": [
    "def oc3_msi(x, a0, a1, a2, a3, a4):\n",
    "    \"\"\"\n",
    "    Args:\n",
    "        x: np.log10(max(values['B1'], values['B2']) / values['B3']))\n",
    "    \"\"\"\n",
    "    return np.pow(10, a0 + a1 * x + a2 * np.pow(x, 2) + a3 * np.pow(x, 3) + a4 * np.pow(x, 4))\n",
    "\n",
    "\n",
    "def oreilly(values: dict):\n",
    "    oc3 = np.pow(10., 0.30963 - \\\n",
    "        2.40052 * (_oc3 := np.log10(max(values['B1'], values['B2']) / values['B3'])) + \\\n",
    "            1.28932 * _oc3**2 + 0.52802 * _oc3**3 - 1.33825 * _oc3**4)\n",
    "    \n",
    "    return oc3  # , oc4, oc5, oc6"
   ]
  },
  {
   "cell_type": "markdown",
   "metadata": {},
   "source": [
    "### main"
   ]
  },
  {
   "cell_type": "code",
   "execution_count": null,
   "metadata": {},
   "outputs": [
    {
     "data": {
      "text/html": [
       "\n",
       "            <style>\n",
       "                .geemap-dark {\n",
       "                    --jp-widgets-color: white;\n",
       "                    --jp-widgets-label-color: white;\n",
       "                    --jp-ui-font-color1: white;\n",
       "                    --jp-layout-color2: #454545;\n",
       "                    background-color: #383838;\n",
       "                }\n",
       "\n",
       "                .geemap-dark .jupyter-button {\n",
       "                    --jp-layout-color3: #383838;\n",
       "                }\n",
       "\n",
       "                .geemap-colab {\n",
       "                    background-color: var(--colab-primary-surface-color, white);\n",
       "                }\n",
       "\n",
       "                .geemap-colab .jupyter-button {\n",
       "                    --jp-layout-color3: var(--colab-primary-surface-color, white);\n",
       "                }\n",
       "            </style>\n",
       "            "
      ],
      "text/plain": [
       "<IPython.core.display.HTML object>"
      ]
     },
     "metadata": {},
     "output_type": "display_data"
    }
   ],
   "source": [
    "def main(dict_stats: dict, df: pd.DataFrame, article: str):\n",
    "    \"\"\"Draw graphics and calculate satistics for each algo\n",
    "\n",
    "    Args:\n",
    "        df (pd.DataFrame): .csv\n",
    "\n",
    "    Returns:\n",
    "        {name_algo: []}\n",
    "    \"\"\"\n",
    "    \n",
    "    statistics = {}\n",
    "    match article:\n",
    "        case \"beck\":\n",
    "            beck_ndci_chl = dict()\n",
    "            beck_flh_violet_chl = dict()\n",
    "            beck_2bda_chl = dict()\n",
    "            beck_3bda_chl = dict()\n",
    "            for k, v in dict_stats.items():\n",
    "                v_mean = v[1]\n",
    "                beck_ndci_chl[k], beck_flh_violet_chl[k], beck_2bda_chl[k], beck_3bda_chl[k] = beck(v_mean)\n",
    "            statistics.update(calculate_statistics_and_draw_graphic(df, beck_ndci=beck_ndci_chl, beck_flh_violet=beck_flh_violet_chl, \\\n",
    "                    beck_2bda=beck_2bda_chl, beck_3bda=beck_3bda_chl))\n",
    "        \n",
    "        case \"molkov\":\n",
    "            molkov_ndci = dict()\n",
    "            molkov_2bda = dict()\n",
    "            molkov_3bda = dict()\n",
    "            molkov_ph = dict()\n",
    "            \n",
    "            molkov_2b_linear_result = dict()\n",
    "            molkov_2b_poly_result = dict()\n",
    "            molkov_ndci_linear_result = dict()\n",
    "            molkov_ndci_poly_result = dict()\n",
    "            for k, v in dict_stats.items():\n",
    "                v_mean = v[1]\n",
    "                molkov_ndci[k], molkov_2bda[k], molkov_3bda[k], molkov_ph[k], \\\n",
    "                    molkov_2b_linear_result[k], molkov_2b_poly_result[k], \\\n",
    "                        molkov_ndci_linear_result[k], molkov_ndci_poly_result[k] = molkov(v_mean)\n",
    "            molkov_ndci_list_of_dict = convert_molkov_dict(molkov_ndci)\n",
    "            molkov_2bda_list_of_dict = convert_molkov_dict(molkov_2bda)\n",
    "            molkov_3bda_list_of_dict = convert_molkov_dict(molkov_3bda)\n",
    "            molkov_ph_list_of_dict = convert_molkov_dict(molkov_ph)\n",
    "            statistics.update(\n",
    "                calculate_statistics_and_draw_graphic(df,\n",
    "                                                      molkov_ndci_linear=molkov_ndci_list_of_dict[0], molkov_ndci_poly=molkov_ndci_list_of_dict[1],\n",
    "                                                      molkov_ndci_exp=molkov_ndci_list_of_dict[2], molkov_ndci_power2=molkov_ndci_list_of_dict[4],\n",
    "                                                      \n",
    "                                                      molkov_2b_linear=molkov_2bda_list_of_dict[0], molkov_2b_poly=molkov_2bda_list_of_dict[1],\n",
    "                                                      molkov_2b_exp=molkov_2bda_list_of_dict[2], molkov_2b_power1=molkov_2bda_list_of_dict[3],\n",
    "                                                      molkov_2b_power2=molkov_2bda_list_of_dict[4],\n",
    "                                                      \n",
    "                                                      molkov_3b_linear=molkov_3bda_list_of_dict[0], molkov_3b_poly=molkov_3bda_list_of_dict[1],\n",
    "                                                      molkov_3b_exp=molkov_3bda_list_of_dict[2], molkov_3b_power2=molkov_3bda_list_of_dict[4],\n",
    "                                                      \n",
    "                                                      molkov_ph_linear=molkov_ph_list_of_dict[0], molkov_ph_poly=molkov_ph_list_of_dict[1],\n",
    "                                                      molkov_ph_exp=molkov_ph_list_of_dict[2], molkov_ph_power1=molkov_ph_list_of_dict[3],\n",
    "                                                      molkov_ph_power2=molkov_ph_list_of_dict[4],\n",
    "                                                      \n",
    "                                                      molkov_2b_linear_result=molkov_2b_linear_result, molkov_2b_poly_result=molkov_2b_poly_result,\n",
    "                                                      molkov_ndci_linear_result=molkov_ndci_linear_result, molkov_ndci_poly_result=molkov_ndci_poly_result))\n",
    "        \n",
    "\n",
    "        case \"li\":\n",
    "            li_candidate11 = dict()\n",
    "            li_candidate12 = dict()\n",
    "            li_candidate13 = dict()\n",
    "            li_candidate211 = dict()\n",
    "            li_candidate212 = dict()\n",
    "            li_candidate213 = dict()\n",
    "            li_candidate22 = dict()\n",
    "            for k, v in dict_stats.items():\n",
    "                v_mean = v[1]\n",
    "                li_candidate11[k], li_candidate12[k], li_candidate13[k], li_candidate211[k], li_candidate212[k], \\\n",
    "                    li_candidate213[k], li_candidate22[k] = li_candidate(v_mean)\n",
    "                print(k, li_candidate13[k], df.loc[k, 'CHL'])\n",
    "            statistics.update(calculate_statistics_and_draw_graphic(df, li11=li_candidate11, li12=li_candidate12,\n",
    "                                                                    li13=li_candidate13, li211=li_candidate211,\n",
    "                                                                    li212=li_candidate212, li213=li_candidate213,\n",
    "                                                                    li22=li_candidate22))\n",
    "            \n",
    "        case \"makwinja\":\n",
    "            makwinja_ndci = dict()\n",
    "            for k, v in dict_stats.items():\n",
    "                v_mean = v[1]\n",
    "                makwinja_ndci[k] = makwinja(v_mean)\n",
    "            statistics.update(calculate_statistics_and_draw_graphic(df, makwinja_ndci=makwinja_ndci))\n",
    "            \n",
    "        case \"boldanova\":\n",
    "            boldanova_b3 = dict()\n",
    "            \n",
    "            for k, v in dict_stats.items():\n",
    "                v_mean = v[1]\n",
    "                boldanova_b3[k] = boldanova(v_mean)\n",
    "            statistics.update(calculate_statistics_and_draw_graphic(df, boldanova_b3=boldanova_b3))\n",
    "        \n",
    "        case \"karimi\":\n",
    "            karimi_2bda = dict()\n",
    "            karimi_ndci = dict()\n",
    "            karimi_3bda = dict()\n",
    "            for k, v in dict_stats.items():\n",
    "                v_mean = v[1]\n",
    "                karimi_2bda[k], karimi_ndci[k], karimi_3bda[k] = karimi(v_mean)\n",
    "            statistics.update(calculate_statistics_and_draw_graphic(df, karimi_2bda=karimi_2bda, karimi_ndci=karimi_ndci,\n",
    "                                                                    karimi_3bda=karimi_3bda))\n",
    "            \n",
    "        case \"oreilly\":\n",
    "            oreilly_oc3 = dict()\n",
    "            for k, v in dict_stats.items():\n",
    "                v_mean = v[1]\n",
    "                oreilly_oc3[k] = oreilly(v_mean)\n",
    "            statistics.update(calculate_statistics_and_draw_graphic(df, oc3_msi=oreilly_oc3))\n",
    "            \n",
    "    return statistics"
   ]
  },
  {
   "cell_type": "code",
   "execution_count": null,
   "metadata": {},
   "outputs": [
    {
     "data": {
      "text/html": [
       "\n",
       "            <style>\n",
       "                .geemap-dark {\n",
       "                    --jp-widgets-color: white;\n",
       "                    --jp-widgets-label-color: white;\n",
       "                    --jp-ui-font-color1: white;\n",
       "                    --jp-layout-color2: #454545;\n",
       "                    background-color: #383838;\n",
       "                }\n",
       "\n",
       "                .geemap-dark .jupyter-button {\n",
       "                    --jp-layout-color3: #383838;\n",
       "                }\n",
       "\n",
       "                .geemap-colab {\n",
       "                    background-color: var(--colab-primary-surface-color, white);\n",
       "                }\n",
       "\n",
       "                .geemap-colab .jupyter-button {\n",
       "                    --jp-layout-color3: var(--colab-primary-surface-color, white);\n",
       "                }\n",
       "            </style>\n",
       "            "
      ],
      "text/plain": [
       "<IPython.core.display.HTML object>"
      ]
     },
     "metadata": {},
     "output_type": "display_data"
    }
   ],
   "source": [
    "def convert_stat_dict_to_list_stat_and_values(arg_dict):\n",
    "    \"\"\"\n",
    "    Args:\n",
    "        arg_dict: {\"name_algo1\": [r2, bias, mae, n, {id: in situ}, {id: calculated}], \"name_algo2\": ...}\n",
    "    \n",
    "    Return: [{statustics (4 keys)}, {\"name_algo\" : [{id: in situ}, {id: calculated}]}]\n",
    "    \"\"\"\n",
    "    \n",
    "    statistics_dict = {}\n",
    "    data_dict = {}\n",
    "    for algo_name, algo_list in arg_dict.items():\n",
    "        statistics_dict[algo_name] = algo_list[:-2]\n",
    "        data_dict[algo_name] = [algo_list[-2], algo_list[-1]]\n",
    "    return [statistics_dict, data_dict]"
   ]
  },
  {
   "cell_type": "markdown",
   "metadata": {},
   "source": [
    "## EDA"
   ]
  },
  {
   "cell_type": "code",
   "execution_count": 24,
   "metadata": {},
   "outputs": [
    {
     "data": {
      "text/html": [
       "\n",
       "            <style>\n",
       "                .geemap-dark {\n",
       "                    --jp-widgets-color: white;\n",
       "                    --jp-widgets-label-color: white;\n",
       "                    --jp-ui-font-color1: white;\n",
       "                    --jp-layout-color2: #454545;\n",
       "                    background-color: #383838;\n",
       "                }\n",
       "\n",
       "                .geemap-dark .jupyter-button {\n",
       "                    --jp-layout-color3: #383838;\n",
       "                }\n",
       "\n",
       "                .geemap-colab {\n",
       "                    background-color: var(--colab-primary-surface-color, white);\n",
       "                }\n",
       "\n",
       "                .geemap-colab .jupyter-button {\n",
       "                    --jp-layout-color3: var(--colab-primary-surface-color, white);\n",
       "                }\n",
       "            </style>\n",
       "            "
      ],
      "text/plain": [
       "<IPython.core.display.HTML object>"
      ]
     },
     "metadata": {},
     "output_type": "display_data"
    }
   ],
   "source": [
    "ic_msi = (\n",
    "    ee.ImageCollection(\"COPERNICUS/S2_SR_HARMONIZED\") \n",
    "    .filterDate('2018-05-25', '2023-09-29')\n",
    ")\n",
    "\n",
    "cci_lakes_path = \"CCI_lakes/Chlorophyll-a - Global 1km - v2.1.0 - Lakes cci.csv\""
   ]
  },
  {
   "cell_type": "code",
   "execution_count": 26,
   "metadata": {},
   "outputs": [
    {
     "data": {
      "text/html": [
       "\n",
       "            <style>\n",
       "                .geemap-dark {\n",
       "                    --jp-widgets-color: white;\n",
       "                    --jp-widgets-label-color: white;\n",
       "                    --jp-ui-font-color1: white;\n",
       "                    --jp-layout-color2: #454545;\n",
       "                    background-color: #383838;\n",
       "                }\n",
       "\n",
       "                .geemap-dark .jupyter-button {\n",
       "                    --jp-layout-color3: #383838;\n",
       "                }\n",
       "\n",
       "                .geemap-colab {\n",
       "                    background-color: var(--colab-primary-surface-color, white);\n",
       "                }\n",
       "\n",
       "                .geemap-colab .jupyter-button {\n",
       "                    --jp-layout-color3: var(--colab-primary-surface-color, white);\n",
       "                }\n",
       "            </style>\n",
       "            "
      ],
      "text/plain": [
       "<IPython.core.display.HTML object>"
      ]
     },
     "metadata": {},
     "output_type": "display_data"
    }
   ],
   "source": [
    "with open(\"supplement/data_sent2.pickle\", \"rb\") as file:\n",
    "    dict_stats = pickle.load(file)"
   ]
  },
  {
   "cell_type": "code",
   "execution_count": 28,
   "metadata": {},
   "outputs": [
    {
     "data": {
      "text/html": [
       "\n",
       "            <style>\n",
       "                .geemap-dark {\n",
       "                    --jp-widgets-color: white;\n",
       "                    --jp-widgets-label-color: white;\n",
       "                    --jp-ui-font-color1: white;\n",
       "                    --jp-layout-color2: #454545;\n",
       "                    background-color: #383838;\n",
       "                }\n",
       "\n",
       "                .geemap-dark .jupyter-button {\n",
       "                    --jp-layout-color3: #383838;\n",
       "                }\n",
       "\n",
       "                .geemap-colab {\n",
       "                    background-color: var(--colab-primary-surface-color, white);\n",
       "                }\n",
       "\n",
       "                .geemap-colab .jupyter-button {\n",
       "                    --jp-layout-color3: var(--colab-primary-surface-color, white);\n",
       "                }\n",
       "            </style>\n",
       "            "
      ],
      "text/plain": [
       "<IPython.core.display.HTML object>"
      ]
     },
     "metadata": {},
     "output_type": "display_data"
    }
   ],
   "source": [
    "dict_stats = {k: v for k, v in dict_stats.items() if k in df_all.index}"
   ]
  },
  {
   "cell_type": "markdown",
   "metadata": {},
   "source": [
    "# Results"
   ]
  },
  {
   "cell_type": "markdown",
   "metadata": {},
   "source": [
    "### graphics"
   ]
  },
  {
   "cell_type": "markdown",
   "metadata": {},
   "source": [
    "#### Beck (USA, 2016)"
   ]
  },
  {
   "cell_type": "code",
   "execution_count": 29,
   "metadata": {},
   "outputs": [
    {
     "data": {
      "text/html": [
       "\n",
       "            <style>\n",
       "                .geemap-dark {\n",
       "                    --jp-widgets-color: white;\n",
       "                    --jp-widgets-label-color: white;\n",
       "                    --jp-ui-font-color1: white;\n",
       "                    --jp-layout-color2: #454545;\n",
       "                    background-color: #383838;\n",
       "                }\n",
       "\n",
       "                .geemap-dark .jupyter-button {\n",
       "                    --jp-layout-color3: #383838;\n",
       "                }\n",
       "\n",
       "                .geemap-colab {\n",
       "                    background-color: var(--colab-primary-surface-color, white);\n",
       "                }\n",
       "\n",
       "                .geemap-colab .jupyter-button {\n",
       "                    --jp-layout-color3: var(--colab-primary-surface-color, white);\n",
       "                }\n",
       "            </style>\n",
       "            "
      ],
      "text/plain": [
       "<IPython.core.display.HTML object>"
      ]
     },
     "metadata": {},
     "output_type": "display_data"
    },
    {
     "data": {
      "text/plain": [
       "'Incorrect estimated values (count = 0): beck_ndci'"
      ]
     },
     "metadata": {},
     "output_type": "display_data"
    }
   ],
   "source": [
    "beck_data = main(dict_stats, df_all, \"beck\")"
   ]
  },
  {
   "cell_type": "markdown",
   "metadata": {},
   "source": [
    "#### Molkov (Russia, 2019)"
   ]
  },
  {
   "cell_type": "code",
   "execution_count": null,
   "metadata": {},
   "outputs": [
    {
     "data": {
      "text/html": [
       "\n",
       "            <style>\n",
       "                .geemap-dark {\n",
       "                    --jp-widgets-color: white;\n",
       "                    --jp-widgets-label-color: white;\n",
       "                    --jp-ui-font-color1: white;\n",
       "                    --jp-layout-color2: #454545;\n",
       "                    background-color: #383838;\n",
       "                }\n",
       "\n",
       "                .geemap-dark .jupyter-button {\n",
       "                    --jp-layout-color3: #383838;\n",
       "                }\n",
       "\n",
       "                .geemap-colab {\n",
       "                    background-color: var(--colab-primary-surface-color, white);\n",
       "                }\n",
       "\n",
       "                .geemap-colab .jupyter-button {\n",
       "                    --jp-layout-color3: var(--colab-primary-surface-color, white);\n",
       "                }\n",
       "            </style>\n",
       "            "
      ],
      "text/plain": [
       "<IPython.core.display.HTML object>"
      ]
     },
     "metadata": {},
     "output_type": "display_data"
    },
    {
     "name": "stderr",
     "output_type": "stream",
     "text": [
      "/tmp/ipykernel_131732/3343679121.py:23: RuntimeWarning: invalid value encountered in power\n",
      "  return None if x is None else a * np.pow(x, b)\n"
     ]
    }
   ],
   "source": [
    "molkov_data = main(dict_stats, df_all, \"molkov\")"
   ]
  },
  {
   "cell_type": "markdown",
   "metadata": {},
   "source": [
    "#### Li (China, 2021)"
   ]
  },
  {
   "cell_type": "code",
   "execution_count": 31,
   "metadata": {},
   "outputs": [
    {
     "data": {
      "text/html": [
       "\n",
       "            <style>\n",
       "                .geemap-dark {\n",
       "                    --jp-widgets-color: white;\n",
       "                    --jp-widgets-label-color: white;\n",
       "                    --jp-ui-font-color1: white;\n",
       "                    --jp-layout-color2: #454545;\n",
       "                    background-color: #383838;\n",
       "                }\n",
       "\n",
       "                .geemap-dark .jupyter-button {\n",
       "                    --jp-layout-color3: #383838;\n",
       "                }\n",
       "\n",
       "                .geemap-colab {\n",
       "                    background-color: var(--colab-primary-surface-color, white);\n",
       "                }\n",
       "\n",
       "                .geemap-colab .jupyter-button {\n",
       "                    --jp-layout-color3: var(--colab-primary-surface-color, white);\n",
       "                }\n",
       "            </style>\n",
       "            "
      ],
      "text/plain": [
       "<IPython.core.display.HTML object>"
      ]
     },
     "metadata": {},
     "output_type": "display_data"
    },
    {
     "name": "stdout",
     "output_type": "stream",
     "text": [
      "45 2.1843892880305984 1.36\n",
      "46 0.44776668396669755 0.2\n",
      "47 0.5679629478282973 0.83\n",
      "48 0.8860349876068655 0.55\n",
      "49 0.9912159450676816 1.39\n",
      "67 1.626588348495786 1.25\n",
      "69 1.4825182893181714 0.82\n",
      "80 1.2182414330428675 2.21\n",
      "82 1.246397662252578 1.38\n",
      "83 0.9599170329587549 1.8\n",
      "85 1.4428875793283125 2.21\n",
      "86 1.6727632337337797 2.22\n",
      "87 1.559390601062593 2.48\n",
      "90 1.0380329325499642 1.94\n",
      "91 2.467047046220739 1.94\n",
      "96 1.1813368985208208 1.39\n",
      "98 1.3274995819190698 2.45\n",
      "112 0.6398047037900125 0.72\n",
      "113 0.6001928576581911 0.73\n",
      "117 0.9087933622285738 0.76\n",
      "120 0.7641367407703529 1.2\n",
      "121 1.3747756090708094 1.6\n",
      "128 1.831750828831712 1.67\n",
      "129 1.6223833927790372 1.93\n",
      "134 0.9909318701206898 1.4\n",
      "138 0.9284839546822096 1.9\n",
      "139 0.954653434422241 1.61\n",
      "140 0.8023613114228302 2.36\n",
      "141 3.1985159292052217 2.03\n",
      "142 1.5755360956939224 0.9\n",
      "143 1.0524427636160452 0.47\n",
      "144 1.2077971742175602 0.89\n",
      "145 1.9106595314867747 0.45\n",
      "150 0.6106550505008213 0.89\n",
      "151 0.9608950565906039 1.81\n",
      "165 1.0620756815715187 2.35\n",
      "168 1.1160893532388683 2.15\n",
      "169 1.072524970415214 2.88\n",
      "173 1.3424899323964379 1.86\n",
      "179 1.5533643052878916 0.83\n",
      "180 1.8754267463810246 1.26\n",
      "182 1.1023406443179395 2.21\n",
      "183 1.2888112615890948 0.91\n",
      "184 1.5606880303161998 2.32\n",
      "185 1.4333867517790633 1.25\n",
      "188 1.5579610268295425 0.65\n",
      "189 1.5843470928568593 1.09\n",
      "191 1.3121419280919002 1.28\n",
      "192 1.0501523584701067 1.72\n",
      "193 1.5888786641945558 2.87\n",
      "194 1.497855288295265 1.54\n",
      "195 1.4429648075222405 2.03\n",
      "201 1.4096269124558145 0.71\n",
      "203 1.6716914730500534 2.7\n",
      "204 1.249020783946387 1.96\n",
      "205 1.045713437111071 1.73\n",
      "206 1.1789834773560806 1.65\n",
      "208 1.2984985828707623 1.41\n",
      "210 1.7458380661549082 2.18\n",
      "212 0.6614033718494774 1.29\n",
      "214 1.5812759813767256 0.67\n",
      "218 1.3755688435287163 0.41\n",
      "219 0.9468330325404932 1.85\n",
      "220 0.944745429757515 1.7\n",
      "221 1.146547791351945 1.49\n",
      "222 1.353727016412914 1.08\n",
      "225 1.893554770598523 2.1\n",
      "226 1.5826750427290435 1.04\n",
      "228 1.3131650602763993 1.08\n",
      "229 0.9005123305067073 0.73\n",
      "230 1.3675722997264146 1.13\n",
      "231 1.5236144135607994 0.51\n",
      "232 1.2746323643359978 0.25\n",
      "233 0.5223938741676221 0.16\n",
      "234 0.959486648346154 0.86\n",
      "235 1.5722233784931712 0.62\n",
      "236 1.4632886340655729 1.13\n",
      "241 1.915135637373777 0.91\n",
      "242 1.3029979948286883 1.02\n",
      "243 1.4712627770316338 1.02\n",
      "244 1.5687368883121788 1.04\n",
      "245 1.5541674486066612 1.04\n",
      "246 1.5151874954942375 0.89\n",
      "250 0.6674156442325213 0.43\n",
      "252 1.1463547040565227 1.28\n",
      "262 1.5884817203862442 1.28\n",
      "274 1.3747756090708094 1.6\n",
      "312 1.2932278875212198 1.31127923529412\n",
      "315 1.1823024314880866 1.05882352941176\n",
      "316 1.0602300454169715 1.88103352941176\n"
     ]
    }
   ],
   "source": [
    "li_candidate_data = main(dict_stats, df_all, \"li\")"
   ]
  },
  {
   "cell_type": "markdown",
   "metadata": {},
   "source": [
    "#### Makwinja (Africa-Japan, 2022)"
   ]
  },
  {
   "cell_type": "code",
   "execution_count": 32,
   "metadata": {},
   "outputs": [
    {
     "data": {
      "text/html": [
       "\n",
       "            <style>\n",
       "                .geemap-dark {\n",
       "                    --jp-widgets-color: white;\n",
       "                    --jp-widgets-label-color: white;\n",
       "                    --jp-ui-font-color1: white;\n",
       "                    --jp-layout-color2: #454545;\n",
       "                    background-color: #383838;\n",
       "                }\n",
       "\n",
       "                .geemap-dark .jupyter-button {\n",
       "                    --jp-layout-color3: #383838;\n",
       "                }\n",
       "\n",
       "                .geemap-colab {\n",
       "                    background-color: var(--colab-primary-surface-color, white);\n",
       "                }\n",
       "\n",
       "                .geemap-colab .jupyter-button {\n",
       "                    --jp-layout-color3: var(--colab-primary-surface-color, white);\n",
       "                }\n",
       "            </style>\n",
       "            "
      ],
      "text/plain": [
       "<IPython.core.display.HTML object>"
      ]
     },
     "metadata": {},
     "output_type": "display_data"
    }
   ],
   "source": [
    "makwinja_data = main(dict_stats, df_all, \"makwinja\")"
   ]
  },
  {
   "cell_type": "markdown",
   "metadata": {},
   "source": [
    "#### Boldanova (Russia, 2022)"
   ]
  },
  {
   "cell_type": "code",
   "execution_count": 33,
   "metadata": {},
   "outputs": [
    {
     "data": {
      "text/html": [
       "\n",
       "            <style>\n",
       "                .geemap-dark {\n",
       "                    --jp-widgets-color: white;\n",
       "                    --jp-widgets-label-color: white;\n",
       "                    --jp-ui-font-color1: white;\n",
       "                    --jp-layout-color2: #454545;\n",
       "                    background-color: #383838;\n",
       "                }\n",
       "\n",
       "                .geemap-dark .jupyter-button {\n",
       "                    --jp-layout-color3: #383838;\n",
       "                }\n",
       "\n",
       "                .geemap-colab {\n",
       "                    background-color: var(--colab-primary-surface-color, white);\n",
       "                }\n",
       "\n",
       "                .geemap-colab .jupyter-button {\n",
       "                    --jp-layout-color3: var(--colab-primary-surface-color, white);\n",
       "                }\n",
       "            </style>\n",
       "            "
      ],
      "text/plain": [
       "<IPython.core.display.HTML object>"
      ]
     },
     "metadata": {},
     "output_type": "display_data"
    }
   ],
   "source": [
    "boldanova_data = main(dict_stats, df_all, \"boldanova\")"
   ]
  },
  {
   "cell_type": "markdown",
   "metadata": {},
   "source": [
    "#### Karimi (Iran, 2024)"
   ]
  },
  {
   "cell_type": "code",
   "execution_count": 34,
   "metadata": {},
   "outputs": [
    {
     "data": {
      "text/html": [
       "\n",
       "            <style>\n",
       "                .geemap-dark {\n",
       "                    --jp-widgets-color: white;\n",
       "                    --jp-widgets-label-color: white;\n",
       "                    --jp-ui-font-color1: white;\n",
       "                    --jp-layout-color2: #454545;\n",
       "                    background-color: #383838;\n",
       "                }\n",
       "\n",
       "                .geemap-dark .jupyter-button {\n",
       "                    --jp-layout-color3: #383838;\n",
       "                }\n",
       "\n",
       "                .geemap-colab {\n",
       "                    background-color: var(--colab-primary-surface-color, white);\n",
       "                }\n",
       "\n",
       "                .geemap-colab .jupyter-button {\n",
       "                    --jp-layout-color3: var(--colab-primary-surface-color, white);\n",
       "                }\n",
       "            </style>\n",
       "            "
      ],
      "text/plain": [
       "<IPython.core.display.HTML object>"
      ]
     },
     "metadata": {},
     "output_type": "display_data"
    }
   ],
   "source": [
    "karimi_data = main(dict_stats, df_all, \"karimi\")"
   ]
  },
  {
   "cell_type": "markdown",
   "metadata": {},
   "source": [
    "#### O'Reilly (USA, 2019)"
   ]
  },
  {
   "cell_type": "code",
   "execution_count": 35,
   "metadata": {},
   "outputs": [
    {
     "data": {
      "text/html": [
       "\n",
       "            <style>\n",
       "                .geemap-dark {\n",
       "                    --jp-widgets-color: white;\n",
       "                    --jp-widgets-label-color: white;\n",
       "                    --jp-ui-font-color1: white;\n",
       "                    --jp-layout-color2: #454545;\n",
       "                    background-color: #383838;\n",
       "                }\n",
       "\n",
       "                .geemap-dark .jupyter-button {\n",
       "                    --jp-layout-color3: #383838;\n",
       "                }\n",
       "\n",
       "                .geemap-colab {\n",
       "                    background-color: var(--colab-primary-surface-color, white);\n",
       "                }\n",
       "\n",
       "                .geemap-colab .jupyter-button {\n",
       "                    --jp-layout-color3: var(--colab-primary-surface-color, white);\n",
       "                }\n",
       "            </style>\n",
       "            "
      ],
      "text/plain": [
       "<IPython.core.display.HTML object>"
      ]
     },
     "metadata": {},
     "output_type": "display_data"
    }
   ],
   "source": [
    "oreilly_data = main(dict_stats, df_all, \"oreilly\")"
   ]
  },
  {
   "cell_type": "markdown",
   "metadata": {},
   "source": [
    "### statistics"
   ]
  },
  {
   "cell_type": "code",
   "execution_count": 36,
   "metadata": {},
   "outputs": [
    {
     "data": {
      "text/html": [
       "\n",
       "            <style>\n",
       "                .geemap-dark {\n",
       "                    --jp-widgets-color: white;\n",
       "                    --jp-widgets-label-color: white;\n",
       "                    --jp-ui-font-color1: white;\n",
       "                    --jp-layout-color2: #454545;\n",
       "                    background-color: #383838;\n",
       "                }\n",
       "\n",
       "                .geemap-dark .jupyter-button {\n",
       "                    --jp-layout-color3: #383838;\n",
       "                }\n",
       "\n",
       "                .geemap-colab {\n",
       "                    background-color: var(--colab-primary-surface-color, white);\n",
       "                }\n",
       "\n",
       "                .geemap-colab .jupyter-button {\n",
       "                    --jp-layout-color3: var(--colab-primary-surface-color, white);\n",
       "                }\n",
       "            </style>\n",
       "            "
      ],
      "text/plain": [
       "<IPython.core.display.HTML object>"
      ]
     },
     "metadata": {},
     "output_type": "display_data"
    }
   ],
   "source": [
    "columns = ['R^2', 'Bias_log', 'Bias', 'MAE_log', 'MAE',\t'RMSE', 'std', 'SS', 'MAPE', 'N']"
   ]
  },
  {
   "cell_type": "markdown",
   "metadata": {},
   "source": [
    "#### Beck"
   ]
  },
  {
   "cell_type": "code",
   "execution_count": 37,
   "metadata": {},
   "outputs": [
    {
     "data": {
      "text/html": [
       "\n",
       "            <style>\n",
       "                .geemap-dark {\n",
       "                    --jp-widgets-color: white;\n",
       "                    --jp-widgets-label-color: white;\n",
       "                    --jp-ui-font-color1: white;\n",
       "                    --jp-layout-color2: #454545;\n",
       "                    background-color: #383838;\n",
       "                }\n",
       "\n",
       "                .geemap-dark .jupyter-button {\n",
       "                    --jp-layout-color3: #383838;\n",
       "                }\n",
       "\n",
       "                .geemap-colab {\n",
       "                    background-color: var(--colab-primary-surface-color, white);\n",
       "                }\n",
       "\n",
       "                .geemap-colab .jupyter-button {\n",
       "                    --jp-layout-color3: var(--colab-primary-surface-color, white);\n",
       "                }\n",
       "            </style>\n",
       "            "
      ],
      "text/plain": [
       "<IPython.core.display.HTML object>"
      ]
     },
     "metadata": {},
     "output_type": "display_data"
    },
    {
     "data": {
      "text/html": [
       "<div>\n",
       "<style scoped>\n",
       "    .dataframe tbody tr th:only-of-type {\n",
       "        vertical-align: middle;\n",
       "    }\n",
       "\n",
       "    .dataframe tbody tr th {\n",
       "        vertical-align: top;\n",
       "    }\n",
       "\n",
       "    .dataframe thead th {\n",
       "        text-align: right;\n",
       "    }\n",
       "</style>\n",
       "<table border=\"1\" class=\"dataframe\">\n",
       "  <thead>\n",
       "    <tr style=\"text-align: right;\">\n",
       "      <th></th>\n",
       "      <th>R^2</th>\n",
       "      <th>Bias_log</th>\n",
       "      <th>Bias</th>\n",
       "      <th>MAE_log</th>\n",
       "      <th>MAE</th>\n",
       "      <th>RMSE</th>\n",
       "      <th>std</th>\n",
       "      <th>SS</th>\n",
       "      <th>MAPE</th>\n",
       "      <th>N</th>\n",
       "    </tr>\n",
       "  </thead>\n",
       "  <tbody>\n",
       "    <tr>\n",
       "      <th>beck_flh_violet</th>\n",
       "      <td>0.080</td>\n",
       "      <td>44.064</td>\n",
       "      <td>51.685</td>\n",
       "      <td>44.064</td>\n",
       "      <td>51.685</td>\n",
       "      <td>51.689</td>\n",
       "      <td>0.638</td>\n",
       "      <td>-0.000</td>\n",
       "      <td>5304.882</td>\n",
       "      <td>90</td>\n",
       "    </tr>\n",
       "    <tr>\n",
       "      <th>beck_2bda</th>\n",
       "      <td>0.001</td>\n",
       "      <td>22.395</td>\n",
       "      <td>29.443</td>\n",
       "      <td>22.587</td>\n",
       "      <td>29.459</td>\n",
       "      <td>31.504</td>\n",
       "      <td>11.207</td>\n",
       "      <td>-1.142</td>\n",
       "      <td>2968.139</td>\n",
       "      <td>87</td>\n",
       "    </tr>\n",
       "    <tr>\n",
       "      <th>beck_3bda</th>\n",
       "      <td>0.003</td>\n",
       "      <td>25.687</td>\n",
       "      <td>33.022</td>\n",
       "      <td>25.687</td>\n",
       "      <td>33.022</td>\n",
       "      <td>35.507</td>\n",
       "      <td>13.050</td>\n",
       "      <td>-0.989</td>\n",
       "      <td>3346.679</td>\n",
       "      <td>84</td>\n",
       "    </tr>\n",
       "  </tbody>\n",
       "</table>\n",
       "</div>"
      ],
      "text/plain": [
       "                   R^2  Bias_log    Bias  MAE_log     MAE    RMSE     std  \\\n",
       "beck_flh_violet  0.080    44.064  51.685   44.064  51.685  51.689   0.638   \n",
       "beck_2bda        0.001    22.395  29.443   22.587  29.459  31.504  11.207   \n",
       "beck_3bda        0.003    25.687  33.022   25.687  33.022  35.507  13.050   \n",
       "\n",
       "                    SS      MAPE   N  \n",
       "beck_flh_violet -0.000  5304.882  90  \n",
       "beck_2bda       -1.142  2968.139  87  \n",
       "beck_3bda       -0.989  3346.679  84  "
      ]
     },
     "execution_count": 37,
     "metadata": {},
     "output_type": "execute_result"
    }
   ],
   "source": [
    "beck_stat = pd.DataFrame.from_dict(convert_stat_dict_to_list_stat_and_values(beck_data)[0], orient='index', columns=columns)\n",
    "beck_stat"
   ]
  },
  {
   "cell_type": "markdown",
   "metadata": {},
   "source": [
    "#### Molkov"
   ]
  },
  {
   "cell_type": "code",
   "execution_count": 38,
   "metadata": {},
   "outputs": [
    {
     "data": {
      "text/html": [
       "\n",
       "            <style>\n",
       "                .geemap-dark {\n",
       "                    --jp-widgets-color: white;\n",
       "                    --jp-widgets-label-color: white;\n",
       "                    --jp-ui-font-color1: white;\n",
       "                    --jp-layout-color2: #454545;\n",
       "                    background-color: #383838;\n",
       "                }\n",
       "\n",
       "                .geemap-dark .jupyter-button {\n",
       "                    --jp-layout-color3: #383838;\n",
       "                }\n",
       "\n",
       "                .geemap-colab {\n",
       "                    background-color: var(--colab-primary-surface-color, white);\n",
       "                }\n",
       "\n",
       "                .geemap-colab .jupyter-button {\n",
       "                    --jp-layout-color3: var(--colab-primary-surface-color, white);\n",
       "                }\n",
       "            </style>\n",
       "            "
      ],
      "text/plain": [
       "<IPython.core.display.HTML object>"
      ]
     },
     "metadata": {},
     "output_type": "display_data"
    },
    {
     "data": {
      "text/html": [
       "<div>\n",
       "<style scoped>\n",
       "    .dataframe tbody tr th:only-of-type {\n",
       "        vertical-align: middle;\n",
       "    }\n",
       "\n",
       "    .dataframe tbody tr th {\n",
       "        vertical-align: top;\n",
       "    }\n",
       "\n",
       "    .dataframe thead th {\n",
       "        text-align: right;\n",
       "    }\n",
       "</style>\n",
       "<table border=\"1\" class=\"dataframe\">\n",
       "  <thead>\n",
       "    <tr style=\"text-align: right;\">\n",
       "      <th></th>\n",
       "      <th>R^2</th>\n",
       "      <th>Bias_log</th>\n",
       "      <th>Bias</th>\n",
       "      <th>MAE_log</th>\n",
       "      <th>MAE</th>\n",
       "      <th>RMSE</th>\n",
       "      <th>std</th>\n",
       "      <th>SS</th>\n",
       "      <th>MAPE</th>\n",
       "      <th>N</th>\n",
       "    </tr>\n",
       "  </thead>\n",
       "  <tbody>\n",
       "    <tr>\n",
       "      <th>molkov_ndci_linear</th>\n",
       "      <td>0.023</td>\n",
       "      <td>9.217</td>\n",
       "      <td>11.457</td>\n",
       "      <td>9.334</td>\n",
       "      <td>11.485</td>\n",
       "      <td>12.452</td>\n",
       "      <td>4.878</td>\n",
       "      <td>-0.909</td>\n",
       "      <td>1192.407</td>\n",
       "      <td>80</td>\n",
       "    </tr>\n",
       "    <tr>\n",
       "      <th>molkov_ndci_poly</th>\n",
       "      <td>0.002</td>\n",
       "      <td>11.457</td>\n",
       "      <td>12.796</td>\n",
       "      <td>11.457</td>\n",
       "      <td>12.796</td>\n",
       "      <td>13.193</td>\n",
       "      <td>3.210</td>\n",
       "      <td>-0.356</td>\n",
       "      <td>1342.167</td>\n",
       "      <td>90</td>\n",
       "    </tr>\n",
       "    <tr>\n",
       "      <th>molkov_ndci_exp</th>\n",
       "      <td>0.000</td>\n",
       "      <td>12.205</td>\n",
       "      <td>13.843</td>\n",
       "      <td>12.205</td>\n",
       "      <td>13.843</td>\n",
       "      <td>14.257</td>\n",
       "      <td>3.413</td>\n",
       "      <td>-0.188</td>\n",
       "      <td>1430.257</td>\n",
       "      <td>90</td>\n",
       "    </tr>\n",
       "    <tr>\n",
       "      <th>molkov_ndci_power2</th>\n",
       "      <td>0.002</td>\n",
       "      <td>9.786</td>\n",
       "      <td>11.914</td>\n",
       "      <td>10.679</td>\n",
       "      <td>11.957</td>\n",
       "      <td>12.636</td>\n",
       "      <td>4.210</td>\n",
       "      <td>-0.405</td>\n",
       "      <td>1233.219</td>\n",
       "      <td>89</td>\n",
       "    </tr>\n",
       "    <tr>\n",
       "      <th>molkov_2b_linear</th>\n",
       "      <td>0.000</td>\n",
       "      <td>12.067</td>\n",
       "      <td>13.665</td>\n",
       "      <td>12.067</td>\n",
       "      <td>13.665</td>\n",
       "      <td>14.071</td>\n",
       "      <td>3.355</td>\n",
       "      <td>-0.258</td>\n",
       "      <td>1407.140</td>\n",
       "      <td>88</td>\n",
       "    </tr>\n",
       "    <tr>\n",
       "      <th>molkov_2b_poly</th>\n",
       "      <td>0.000</td>\n",
       "      <td>10.947</td>\n",
       "      <td>12.619</td>\n",
       "      <td>10.947</td>\n",
       "      <td>12.619</td>\n",
       "      <td>13.229</td>\n",
       "      <td>3.970</td>\n",
       "      <td>-0.302</td>\n",
       "      <td>1298.171</td>\n",
       "      <td>88</td>\n",
       "    </tr>\n",
       "    <tr>\n",
       "      <th>molkov_2b_exp</th>\n",
       "      <td>0.000</td>\n",
       "      <td>17.098</td>\n",
       "      <td>19.286</td>\n",
       "      <td>17.098</td>\n",
       "      <td>19.286</td>\n",
       "      <td>19.369</td>\n",
       "      <td>1.798</td>\n",
       "      <td>-0.093</td>\n",
       "      <td>1994.415</td>\n",
       "      <td>90</td>\n",
       "    </tr>\n",
       "    <tr>\n",
       "      <th>molkov_2b_power1</th>\n",
       "      <td>0.000</td>\n",
       "      <td>13.056</td>\n",
       "      <td>14.831</td>\n",
       "      <td>13.056</td>\n",
       "      <td>14.831</td>\n",
       "      <td>15.201</td>\n",
       "      <td>3.333</td>\n",
       "      <td>-0.173</td>\n",
       "      <td>1529.589</td>\n",
       "      <td>90</td>\n",
       "    </tr>\n",
       "    <tr>\n",
       "      <th>molkov_2b_power2</th>\n",
       "      <td>0.002</td>\n",
       "      <td>10.578</td>\n",
       "      <td>12.547</td>\n",
       "      <td>10.578</td>\n",
       "      <td>12.547</td>\n",
       "      <td>13.237</td>\n",
       "      <td>4.219</td>\n",
       "      <td>-0.439</td>\n",
       "      <td>1280.224</td>\n",
       "      <td>85</td>\n",
       "    </tr>\n",
       "    <tr>\n",
       "      <th>molkov_3b_linear</th>\n",
       "      <td>0.008</td>\n",
       "      <td>14.575</td>\n",
       "      <td>16.630</td>\n",
       "      <td>14.575</td>\n",
       "      <td>16.630</td>\n",
       "      <td>17.067</td>\n",
       "      <td>3.840</td>\n",
       "      <td>-0.044</td>\n",
       "      <td>1703.281</td>\n",
       "      <td>89</td>\n",
       "    </tr>\n",
       "    <tr>\n",
       "      <th>molkov_3b_poly</th>\n",
       "      <td>0.000</td>\n",
       "      <td>11.502</td>\n",
       "      <td>14.027</td>\n",
       "      <td>11.502</td>\n",
       "      <td>14.027</td>\n",
       "      <td>14.929</td>\n",
       "      <td>5.110</td>\n",
       "      <td>-0.437</td>\n",
       "      <td>1433.688</td>\n",
       "      <td>87</td>\n",
       "    </tr>\n",
       "    <tr>\n",
       "      <th>molkov_3b_exp</th>\n",
       "      <td>0.001</td>\n",
       "      <td>20.380</td>\n",
       "      <td>23.220</td>\n",
       "      <td>20.380</td>\n",
       "      <td>23.220</td>\n",
       "      <td>23.283</td>\n",
       "      <td>1.719</td>\n",
       "      <td>-0.064</td>\n",
       "      <td>2396.236</td>\n",
       "      <td>90</td>\n",
       "    </tr>\n",
       "    <tr>\n",
       "      <th>molkov_3b_power2</th>\n",
       "      <td>0.015</td>\n",
       "      <td>13.021</td>\n",
       "      <td>15.301</td>\n",
       "      <td>13.021</td>\n",
       "      <td>15.301</td>\n",
       "      <td>16.129</td>\n",
       "      <td>5.101</td>\n",
       "      <td>-0.946</td>\n",
       "      <td>1625.150</td>\n",
       "      <td>63</td>\n",
       "    </tr>\n",
       "    <tr>\n",
       "      <th>molkov_ph_linear</th>\n",
       "      <td>0.002</td>\n",
       "      <td>10.721</td>\n",
       "      <td>15.943</td>\n",
       "      <td>10.721</td>\n",
       "      <td>15.943</td>\n",
       "      <td>23.921</td>\n",
       "      <td>17.833</td>\n",
       "      <td>0.239</td>\n",
       "      <td>1622.514</td>\n",
       "      <td>87</td>\n",
       "    </tr>\n",
       "    <tr>\n",
       "      <th>molkov_ph_poly</th>\n",
       "      <td>0.016</td>\n",
       "      <td>9.586</td>\n",
       "      <td>16.303</td>\n",
       "      <td>9.586</td>\n",
       "      <td>16.303</td>\n",
       "      <td>26.793</td>\n",
       "      <td>21.263</td>\n",
       "      <td>-0.000</td>\n",
       "      <td>1747.760</td>\n",
       "      <td>88</td>\n",
       "    </tr>\n",
       "    <tr>\n",
       "      <th>molkov_ph_exp</th>\n",
       "      <td>0.001</td>\n",
       "      <td>17.140</td>\n",
       "      <td>21.419</td>\n",
       "      <td>17.140</td>\n",
       "      <td>21.419</td>\n",
       "      <td>25.761</td>\n",
       "      <td>14.312</td>\n",
       "      <td>0.130</td>\n",
       "      <td>2191.976</td>\n",
       "      <td>87</td>\n",
       "    </tr>\n",
       "    <tr>\n",
       "      <th>molkov_ph_power1</th>\n",
       "      <td>0.026</td>\n",
       "      <td>7.850</td>\n",
       "      <td>18.051</td>\n",
       "      <td>8.291</td>\n",
       "      <td>18.121</td>\n",
       "      <td>29.314</td>\n",
       "      <td>23.097</td>\n",
       "      <td>-2.258</td>\n",
       "      <td>1881.249</td>\n",
       "      <td>59</td>\n",
       "    </tr>\n",
       "    <tr>\n",
       "      <th>molkov_ph_power2</th>\n",
       "      <td>0.008</td>\n",
       "      <td>7.389</td>\n",
       "      <td>14.499</td>\n",
       "      <td>7.627</td>\n",
       "      <td>14.541</td>\n",
       "      <td>25.155</td>\n",
       "      <td>20.556</td>\n",
       "      <td>-0.000</td>\n",
       "      <td>1505.568</td>\n",
       "      <td>85</td>\n",
       "    </tr>\n",
       "    <tr>\n",
       "      <th>molkov_2b_linear_result</th>\n",
       "      <td>0.011</td>\n",
       "      <td>5.406</td>\n",
       "      <td>6.731</td>\n",
       "      <td>5.989</td>\n",
       "      <td>6.845</td>\n",
       "      <td>8.199</td>\n",
       "      <td>4.682</td>\n",
       "      <td>-0.711</td>\n",
       "      <td>749.954</td>\n",
       "      <td>66</td>\n",
       "    </tr>\n",
       "    <tr>\n",
       "      <th>molkov_2b_poly_result</th>\n",
       "      <td>0.001</td>\n",
       "      <td>4.467</td>\n",
       "      <td>5.845</td>\n",
       "      <td>5.112</td>\n",
       "      <td>5.974</td>\n",
       "      <td>7.986</td>\n",
       "      <td>5.442</td>\n",
       "      <td>-0.115</td>\n",
       "      <td>655.622</td>\n",
       "      <td>49</td>\n",
       "    </tr>\n",
       "    <tr>\n",
       "      <th>molkov_ndci_linear_result</th>\n",
       "      <td>0.004</td>\n",
       "      <td>4.889</td>\n",
       "      <td>6.157</td>\n",
       "      <td>5.418</td>\n",
       "      <td>6.274</td>\n",
       "      <td>7.928</td>\n",
       "      <td>4.993</td>\n",
       "      <td>-0.327</td>\n",
       "      <td>694.099</td>\n",
       "      <td>58</td>\n",
       "    </tr>\n",
       "    <tr>\n",
       "      <th>molkov_ndci_poly_result</th>\n",
       "      <td>0.003</td>\n",
       "      <td>4.536</td>\n",
       "      <td>5.942</td>\n",
       "      <td>5.440</td>\n",
       "      <td>6.099</td>\n",
       "      <td>8.103</td>\n",
       "      <td>5.509</td>\n",
       "      <td>-0.275</td>\n",
       "      <td>663.879</td>\n",
       "      <td>45</td>\n",
       "    </tr>\n",
       "  </tbody>\n",
       "</table>\n",
       "</div>"
      ],
      "text/plain": [
       "                             R^2  Bias_log    Bias  MAE_log     MAE    RMSE  \\\n",
       "molkov_ndci_linear         0.023     9.217  11.457    9.334  11.485  12.452   \n",
       "molkov_ndci_poly           0.002    11.457  12.796   11.457  12.796  13.193   \n",
       "molkov_ndci_exp            0.000    12.205  13.843   12.205  13.843  14.257   \n",
       "molkov_ndci_power2         0.002     9.786  11.914   10.679  11.957  12.636   \n",
       "molkov_2b_linear           0.000    12.067  13.665   12.067  13.665  14.071   \n",
       "molkov_2b_poly             0.000    10.947  12.619   10.947  12.619  13.229   \n",
       "molkov_2b_exp              0.000    17.098  19.286   17.098  19.286  19.369   \n",
       "molkov_2b_power1           0.000    13.056  14.831   13.056  14.831  15.201   \n",
       "molkov_2b_power2           0.002    10.578  12.547   10.578  12.547  13.237   \n",
       "molkov_3b_linear           0.008    14.575  16.630   14.575  16.630  17.067   \n",
       "molkov_3b_poly             0.000    11.502  14.027   11.502  14.027  14.929   \n",
       "molkov_3b_exp              0.001    20.380  23.220   20.380  23.220  23.283   \n",
       "molkov_3b_power2           0.015    13.021  15.301   13.021  15.301  16.129   \n",
       "molkov_ph_linear           0.002    10.721  15.943   10.721  15.943  23.921   \n",
       "molkov_ph_poly             0.016     9.586  16.303    9.586  16.303  26.793   \n",
       "molkov_ph_exp              0.001    17.140  21.419   17.140  21.419  25.761   \n",
       "molkov_ph_power1           0.026     7.850  18.051    8.291  18.121  29.314   \n",
       "molkov_ph_power2           0.008     7.389  14.499    7.627  14.541  25.155   \n",
       "molkov_2b_linear_result    0.011     5.406   6.731    5.989   6.845   8.199   \n",
       "molkov_2b_poly_result      0.001     4.467   5.845    5.112   5.974   7.986   \n",
       "molkov_ndci_linear_result  0.004     4.889   6.157    5.418   6.274   7.928   \n",
       "molkov_ndci_poly_result    0.003     4.536   5.942    5.440   6.099   8.103   \n",
       "\n",
       "                              std     SS      MAPE   N  \n",
       "molkov_ndci_linear          4.878 -0.909  1192.407  80  \n",
       "molkov_ndci_poly            3.210 -0.356  1342.167  90  \n",
       "molkov_ndci_exp             3.413 -0.188  1430.257  90  \n",
       "molkov_ndci_power2          4.210 -0.405  1233.219  89  \n",
       "molkov_2b_linear            3.355 -0.258  1407.140  88  \n",
       "molkov_2b_poly              3.970 -0.302  1298.171  88  \n",
       "molkov_2b_exp               1.798 -0.093  1994.415  90  \n",
       "molkov_2b_power1            3.333 -0.173  1529.589  90  \n",
       "molkov_2b_power2            4.219 -0.439  1280.224  85  \n",
       "molkov_3b_linear            3.840 -0.044  1703.281  89  \n",
       "molkov_3b_poly              5.110 -0.437  1433.688  87  \n",
       "molkov_3b_exp               1.719 -0.064  2396.236  90  \n",
       "molkov_3b_power2            5.101 -0.946  1625.150  63  \n",
       "molkov_ph_linear           17.833  0.239  1622.514  87  \n",
       "molkov_ph_poly             21.263 -0.000  1747.760  88  \n",
       "molkov_ph_exp              14.312  0.130  2191.976  87  \n",
       "molkov_ph_power1           23.097 -2.258  1881.249  59  \n",
       "molkov_ph_power2           20.556 -0.000  1505.568  85  \n",
       "molkov_2b_linear_result     4.682 -0.711   749.954  66  \n",
       "molkov_2b_poly_result       5.442 -0.115   655.622  49  \n",
       "molkov_ndci_linear_result   4.993 -0.327   694.099  58  \n",
       "molkov_ndci_poly_result     5.509 -0.275   663.879  45  "
      ]
     },
     "execution_count": 38,
     "metadata": {},
     "output_type": "execute_result"
    }
   ],
   "source": [
    "molkov_stat = pd.DataFrame.from_dict(convert_stat_dict_to_list_stat_and_values(molkov_data)[0], orient='index', columns=columns)\n",
    "molkov_stat"
   ]
  },
  {
   "cell_type": "markdown",
   "metadata": {},
   "source": [
    "#### Li"
   ]
  },
  {
   "cell_type": "code",
   "execution_count": 39,
   "metadata": {},
   "outputs": [
    {
     "data": {
      "text/html": [
       "\n",
       "            <style>\n",
       "                .geemap-dark {\n",
       "                    --jp-widgets-color: white;\n",
       "                    --jp-widgets-label-color: white;\n",
       "                    --jp-ui-font-color1: white;\n",
       "                    --jp-layout-color2: #454545;\n",
       "                    background-color: #383838;\n",
       "                }\n",
       "\n",
       "                .geemap-dark .jupyter-button {\n",
       "                    --jp-layout-color3: #383838;\n",
       "                }\n",
       "\n",
       "                .geemap-colab {\n",
       "                    background-color: var(--colab-primary-surface-color, white);\n",
       "                }\n",
       "\n",
       "                .geemap-colab .jupyter-button {\n",
       "                    --jp-layout-color3: var(--colab-primary-surface-color, white);\n",
       "                }\n",
       "            </style>\n",
       "            "
      ],
      "text/plain": [
       "<IPython.core.display.HTML object>"
      ]
     },
     "metadata": {},
     "output_type": "display_data"
    },
    {
     "data": {
      "text/html": [
       "<div>\n",
       "<style scoped>\n",
       "    .dataframe tbody tr th:only-of-type {\n",
       "        vertical-align: middle;\n",
       "    }\n",
       "\n",
       "    .dataframe tbody tr th {\n",
       "        vertical-align: top;\n",
       "    }\n",
       "\n",
       "    .dataframe thead th {\n",
       "        text-align: right;\n",
       "    }\n",
       "</style>\n",
       "<table border=\"1\" class=\"dataframe\">\n",
       "  <thead>\n",
       "    <tr style=\"text-align: right;\">\n",
       "      <th></th>\n",
       "      <th>R^2</th>\n",
       "      <th>Bias_log</th>\n",
       "      <th>Bias</th>\n",
       "      <th>MAE_log</th>\n",
       "      <th>MAE</th>\n",
       "      <th>RMSE</th>\n",
       "      <th>std</th>\n",
       "      <th>SS</th>\n",
       "      <th>MAPE</th>\n",
       "      <th>N</th>\n",
       "    </tr>\n",
       "  </thead>\n",
       "  <tbody>\n",
       "    <tr>\n",
       "      <th>li11</th>\n",
       "      <td>0.005</td>\n",
       "      <td>59.049</td>\n",
       "      <td>72.873</td>\n",
       "      <td>59.049</td>\n",
       "      <td>72.873</td>\n",
       "      <td>76.024</td>\n",
       "      <td>21.660</td>\n",
       "      <td>-3.257</td>\n",
       "      <td>8415.759</td>\n",
       "      <td>40</td>\n",
       "    </tr>\n",
       "    <tr>\n",
       "      <th>li12</th>\n",
       "      <td>0.000</td>\n",
       "      <td>16.891</td>\n",
       "      <td>21.240</td>\n",
       "      <td>16.891</td>\n",
       "      <td>21.240</td>\n",
       "      <td>22.782</td>\n",
       "      <td>8.239</td>\n",
       "      <td>-0.692</td>\n",
       "      <td>2160.968</td>\n",
       "      <td>88</td>\n",
       "    </tr>\n",
       "    <tr>\n",
       "      <th>li13</th>\n",
       "      <td>0.043</td>\n",
       "      <td>1.025</td>\n",
       "      <td>-0.076</td>\n",
       "      <td>1.596</td>\n",
       "      <td>0.581</td>\n",
       "      <td>0.693</td>\n",
       "      <td>0.689</td>\n",
       "      <td>0.071</td>\n",
       "      <td>55.878</td>\n",
       "      <td>90</td>\n",
       "    </tr>\n",
       "    <tr>\n",
       "      <th>li211</th>\n",
       "      <td>0.015</td>\n",
       "      <td>15.164</td>\n",
       "      <td>20.363</td>\n",
       "      <td>15.164</td>\n",
       "      <td>20.363</td>\n",
       "      <td>22.352</td>\n",
       "      <td>9.217</td>\n",
       "      <td>-1.937</td>\n",
       "      <td>2095.911</td>\n",
       "      <td>81</td>\n",
       "    </tr>\n",
       "    <tr>\n",
       "      <th>li212</th>\n",
       "      <td>0.014</td>\n",
       "      <td>18.823</td>\n",
       "      <td>25.427</td>\n",
       "      <td>18.823</td>\n",
       "      <td>25.427</td>\n",
       "      <td>28.466</td>\n",
       "      <td>12.797</td>\n",
       "      <td>-2.392</td>\n",
       "      <td>2670.278</td>\n",
       "      <td>67</td>\n",
       "    </tr>\n",
       "    <tr>\n",
       "      <th>li213</th>\n",
       "      <td>0.018</td>\n",
       "      <td>16.737</td>\n",
       "      <td>25.466</td>\n",
       "      <td>17.902</td>\n",
       "      <td>25.531</td>\n",
       "      <td>29.457</td>\n",
       "      <td>14.805</td>\n",
       "      <td>-3.227</td>\n",
       "      <td>2641.485</td>\n",
       "      <td>77</td>\n",
       "    </tr>\n",
       "    <tr>\n",
       "      <th>li22</th>\n",
       "      <td>0.004</td>\n",
       "      <td>24.679</td>\n",
       "      <td>42.488</td>\n",
       "      <td>27.242</td>\n",
       "      <td>42.599</td>\n",
       "      <td>51.703</td>\n",
       "      <td>29.462</td>\n",
       "      <td>-1.162</td>\n",
       "      <td>4725.842</td>\n",
       "      <td>25</td>\n",
       "    </tr>\n",
       "  </tbody>\n",
       "</table>\n",
       "</div>"
      ],
      "text/plain": [
       "         R^2  Bias_log    Bias  MAE_log     MAE    RMSE     std     SS  \\\n",
       "li11   0.005    59.049  72.873   59.049  72.873  76.024  21.660 -3.257   \n",
       "li12   0.000    16.891  21.240   16.891  21.240  22.782   8.239 -0.692   \n",
       "li13   0.043     1.025  -0.076    1.596   0.581   0.693   0.689  0.071   \n",
       "li211  0.015    15.164  20.363   15.164  20.363  22.352   9.217 -1.937   \n",
       "li212  0.014    18.823  25.427   18.823  25.427  28.466  12.797 -2.392   \n",
       "li213  0.018    16.737  25.466   17.902  25.531  29.457  14.805 -3.227   \n",
       "li22   0.004    24.679  42.488   27.242  42.599  51.703  29.462 -1.162   \n",
       "\n",
       "           MAPE   N  \n",
       "li11   8415.759  40  \n",
       "li12   2160.968  88  \n",
       "li13     55.878  90  \n",
       "li211  2095.911  81  \n",
       "li212  2670.278  67  \n",
       "li213  2641.485  77  \n",
       "li22   4725.842  25  "
      ]
     },
     "execution_count": 39,
     "metadata": {},
     "output_type": "execute_result"
    }
   ],
   "source": [
    "li_candidate_stat = pd.DataFrame.from_dict(convert_stat_dict_to_list_stat_and_values(li_candidate_data)[0], orient='index', columns=columns)\n",
    "li_candidate_stat"
   ]
  },
  {
   "cell_type": "markdown",
   "metadata": {},
   "source": [
    "#### Makwinja "
   ]
  },
  {
   "cell_type": "code",
   "execution_count": 40,
   "metadata": {},
   "outputs": [
    {
     "data": {
      "text/html": [
       "\n",
       "            <style>\n",
       "                .geemap-dark {\n",
       "                    --jp-widgets-color: white;\n",
       "                    --jp-widgets-label-color: white;\n",
       "                    --jp-ui-font-color1: white;\n",
       "                    --jp-layout-color2: #454545;\n",
       "                    background-color: #383838;\n",
       "                }\n",
       "\n",
       "                .geemap-dark .jupyter-button {\n",
       "                    --jp-layout-color3: #383838;\n",
       "                }\n",
       "\n",
       "                .geemap-colab {\n",
       "                    background-color: var(--colab-primary-surface-color, white);\n",
       "                }\n",
       "\n",
       "                .geemap-colab .jupyter-button {\n",
       "                    --jp-layout-color3: var(--colab-primary-surface-color, white);\n",
       "                }\n",
       "            </style>\n",
       "            "
      ],
      "text/plain": [
       "<IPython.core.display.HTML object>"
      ]
     },
     "metadata": {},
     "output_type": "display_data"
    },
    {
     "data": {
      "text/html": [
       "<div>\n",
       "<style scoped>\n",
       "    .dataframe tbody tr th:only-of-type {\n",
       "        vertical-align: middle;\n",
       "    }\n",
       "\n",
       "    .dataframe tbody tr th {\n",
       "        vertical-align: top;\n",
       "    }\n",
       "\n",
       "    .dataframe thead th {\n",
       "        text-align: right;\n",
       "    }\n",
       "</style>\n",
       "<table border=\"1\" class=\"dataframe\">\n",
       "  <thead>\n",
       "    <tr style=\"text-align: right;\">\n",
       "      <th></th>\n",
       "      <th>R^2</th>\n",
       "      <th>Bias_log</th>\n",
       "      <th>Bias</th>\n",
       "      <th>MAE_log</th>\n",
       "      <th>MAE</th>\n",
       "      <th>RMSE</th>\n",
       "      <th>std</th>\n",
       "      <th>SS</th>\n",
       "      <th>MAPE</th>\n",
       "      <th>N</th>\n",
       "    </tr>\n",
       "  </thead>\n",
       "  <tbody>\n",
       "    <tr>\n",
       "      <th>makwinja_ndci</th>\n",
       "      <td>0.0</td>\n",
       "      <td>7.075</td>\n",
       "      <td>8.718</td>\n",
       "      <td>7.075</td>\n",
       "      <td>8.718</td>\n",
       "      <td>11.523</td>\n",
       "      <td>7.535</td>\n",
       "      <td>-0.563</td>\n",
       "      <td>918.275</td>\n",
       "      <td>89</td>\n",
       "    </tr>\n",
       "  </tbody>\n",
       "</table>\n",
       "</div>"
      ],
      "text/plain": [
       "               R^2  Bias_log   Bias  MAE_log    MAE    RMSE    std     SS  \\\n",
       "makwinja_ndci  0.0     7.075  8.718    7.075  8.718  11.523  7.535 -0.563   \n",
       "\n",
       "                  MAPE   N  \n",
       "makwinja_ndci  918.275  89  "
      ]
     },
     "execution_count": 40,
     "metadata": {},
     "output_type": "execute_result"
    }
   ],
   "source": [
    "makwinja_stat = pd.DataFrame.from_dict(convert_stat_dict_to_list_stat_and_values(makwinja_data)[0], orient='index', columns=columns)\n",
    "makwinja_stat"
   ]
  },
  {
   "cell_type": "markdown",
   "metadata": {},
   "source": [
    "#### Boldanova"
   ]
  },
  {
   "cell_type": "code",
   "execution_count": 41,
   "metadata": {},
   "outputs": [
    {
     "data": {
      "text/html": [
       "\n",
       "            <style>\n",
       "                .geemap-dark {\n",
       "                    --jp-widgets-color: white;\n",
       "                    --jp-widgets-label-color: white;\n",
       "                    --jp-ui-font-color1: white;\n",
       "                    --jp-layout-color2: #454545;\n",
       "                    background-color: #383838;\n",
       "                }\n",
       "\n",
       "                .geemap-dark .jupyter-button {\n",
       "                    --jp-layout-color3: #383838;\n",
       "                }\n",
       "\n",
       "                .geemap-colab {\n",
       "                    background-color: var(--colab-primary-surface-color, white);\n",
       "                }\n",
       "\n",
       "                .geemap-colab .jupyter-button {\n",
       "                    --jp-layout-color3: var(--colab-primary-surface-color, white);\n",
       "                }\n",
       "            </style>\n",
       "            "
      ],
      "text/plain": [
       "<IPython.core.display.HTML object>"
      ]
     },
     "metadata": {},
     "output_type": "display_data"
    },
    {
     "data": {
      "text/html": [
       "<div>\n",
       "<style scoped>\n",
       "    .dataframe tbody tr th:only-of-type {\n",
       "        vertical-align: middle;\n",
       "    }\n",
       "\n",
       "    .dataframe tbody tr th {\n",
       "        vertical-align: top;\n",
       "    }\n",
       "\n",
       "    .dataframe thead th {\n",
       "        text-align: right;\n",
       "    }\n",
       "</style>\n",
       "<table border=\"1\" class=\"dataframe\">\n",
       "  <thead>\n",
       "    <tr style=\"text-align: right;\">\n",
       "      <th></th>\n",
       "      <th>R^2</th>\n",
       "      <th>Bias_log</th>\n",
       "      <th>Bias</th>\n",
       "      <th>MAE_log</th>\n",
       "      <th>MAE</th>\n",
       "      <th>RMSE</th>\n",
       "      <th>std</th>\n",
       "      <th>SS</th>\n",
       "      <th>MAPE</th>\n",
       "      <th>N</th>\n",
       "    </tr>\n",
       "  </thead>\n",
       "  <tbody>\n",
       "    <tr>\n",
       "      <th>boldanova_b3</th>\n",
       "      <td>0.001</td>\n",
       "      <td>2.023</td>\n",
       "      <td>5.67</td>\n",
       "      <td>2.568</td>\n",
       "      <td>6.071</td>\n",
       "      <td>16.958</td>\n",
       "      <td>15.982</td>\n",
       "      <td>-0.153</td>\n",
       "      <td>679.259</td>\n",
       "      <td>73</td>\n",
       "    </tr>\n",
       "  </tbody>\n",
       "</table>\n",
       "</div>"
      ],
      "text/plain": [
       "                R^2  Bias_log  Bias  MAE_log    MAE    RMSE     std     SS  \\\n",
       "boldanova_b3  0.001     2.023  5.67    2.568  6.071  16.958  15.982 -0.153   \n",
       "\n",
       "                 MAPE   N  \n",
       "boldanova_b3  679.259  73  "
      ]
     },
     "execution_count": 41,
     "metadata": {},
     "output_type": "execute_result"
    }
   ],
   "source": [
    "boldanova_stat = pd.DataFrame.from_dict(convert_stat_dict_to_list_stat_and_values(boldanova_data)[0], orient='index', columns=columns)\n",
    "boldanova_stat"
   ]
  },
  {
   "cell_type": "markdown",
   "metadata": {},
   "source": [
    "#### Karimi"
   ]
  },
  {
   "cell_type": "code",
   "execution_count": 42,
   "metadata": {},
   "outputs": [
    {
     "data": {
      "text/html": [
       "\n",
       "            <style>\n",
       "                .geemap-dark {\n",
       "                    --jp-widgets-color: white;\n",
       "                    --jp-widgets-label-color: white;\n",
       "                    --jp-ui-font-color1: white;\n",
       "                    --jp-layout-color2: #454545;\n",
       "                    background-color: #383838;\n",
       "                }\n",
       "\n",
       "                .geemap-dark .jupyter-button {\n",
       "                    --jp-layout-color3: #383838;\n",
       "                }\n",
       "\n",
       "                .geemap-colab {\n",
       "                    background-color: var(--colab-primary-surface-color, white);\n",
       "                }\n",
       "\n",
       "                .geemap-colab .jupyter-button {\n",
       "                    --jp-layout-color3: var(--colab-primary-surface-color, white);\n",
       "                }\n",
       "            </style>\n",
       "            "
      ],
      "text/plain": [
       "<IPython.core.display.HTML object>"
      ]
     },
     "metadata": {},
     "output_type": "display_data"
    },
    {
     "data": {
      "text/html": [
       "<div>\n",
       "<style scoped>\n",
       "    .dataframe tbody tr th:only-of-type {\n",
       "        vertical-align: middle;\n",
       "    }\n",
       "\n",
       "    .dataframe tbody tr th {\n",
       "        vertical-align: top;\n",
       "    }\n",
       "\n",
       "    .dataframe thead th {\n",
       "        text-align: right;\n",
       "    }\n",
       "</style>\n",
       "<table border=\"1\" class=\"dataframe\">\n",
       "  <thead>\n",
       "    <tr style=\"text-align: right;\">\n",
       "      <th></th>\n",
       "      <th>R^2</th>\n",
       "      <th>Bias_log</th>\n",
       "      <th>Bias</th>\n",
       "      <th>MAE_log</th>\n",
       "      <th>MAE</th>\n",
       "      <th>RMSE</th>\n",
       "      <th>std</th>\n",
       "      <th>SS</th>\n",
       "      <th>MAPE</th>\n",
       "      <th>N</th>\n",
       "    </tr>\n",
       "  </thead>\n",
       "  <tbody>\n",
       "    <tr>\n",
       "      <th>karimi_2bda</th>\n",
       "      <td>0.012</td>\n",
       "      <td>4.990</td>\n",
       "      <td>4.945</td>\n",
       "      <td>4.990</td>\n",
       "      <td>4.945</td>\n",
       "      <td>6.071</td>\n",
       "      <td>3.522</td>\n",
       "      <td>-0.009</td>\n",
       "      <td>581.816</td>\n",
       "      <td>90</td>\n",
       "    </tr>\n",
       "    <tr>\n",
       "      <th>karimi_ndci</th>\n",
       "      <td>0.014</td>\n",
       "      <td>4.994</td>\n",
       "      <td>5.078</td>\n",
       "      <td>4.994</td>\n",
       "      <td>5.078</td>\n",
       "      <td>7.033</td>\n",
       "      <td>4.866</td>\n",
       "      <td>-0.001</td>\n",
       "      <td>610.653</td>\n",
       "      <td>90</td>\n",
       "    </tr>\n",
       "    <tr>\n",
       "      <th>karimi_3bda</th>\n",
       "      <td>0.012</td>\n",
       "      <td>5.047</td>\n",
       "      <td>4.892</td>\n",
       "      <td>5.047</td>\n",
       "      <td>4.892</td>\n",
       "      <td>5.419</td>\n",
       "      <td>2.331</td>\n",
       "      <td>-0.002</td>\n",
       "      <td>525.680</td>\n",
       "      <td>90</td>\n",
       "    </tr>\n",
       "  </tbody>\n",
       "</table>\n",
       "</div>"
      ],
      "text/plain": [
       "               R^2  Bias_log   Bias  MAE_log    MAE   RMSE    std     SS  \\\n",
       "karimi_2bda  0.012     4.990  4.945    4.990  4.945  6.071  3.522 -0.009   \n",
       "karimi_ndci  0.014     4.994  5.078    4.994  5.078  7.033  4.866 -0.001   \n",
       "karimi_3bda  0.012     5.047  4.892    5.047  4.892  5.419  2.331 -0.002   \n",
       "\n",
       "                MAPE   N  \n",
       "karimi_2bda  581.816  90  \n",
       "karimi_ndci  610.653  90  \n",
       "karimi_3bda  525.680  90  "
      ]
     },
     "execution_count": 42,
     "metadata": {},
     "output_type": "execute_result"
    }
   ],
   "source": [
    "karimi_stat = pd.DataFrame.from_dict(convert_stat_dict_to_list_stat_and_values(karimi_data)[0], orient='index', columns=columns)\n",
    "karimi_stat"
   ]
  },
  {
   "cell_type": "markdown",
   "metadata": {},
   "source": [
    "#### O'Reilly"
   ]
  },
  {
   "cell_type": "code",
   "execution_count": 43,
   "metadata": {},
   "outputs": [
    {
     "data": {
      "text/html": [
       "\n",
       "            <style>\n",
       "                .geemap-dark {\n",
       "                    --jp-widgets-color: white;\n",
       "                    --jp-widgets-label-color: white;\n",
       "                    --jp-ui-font-color1: white;\n",
       "                    --jp-layout-color2: #454545;\n",
       "                    background-color: #383838;\n",
       "                }\n",
       "\n",
       "                .geemap-dark .jupyter-button {\n",
       "                    --jp-layout-color3: #383838;\n",
       "                }\n",
       "\n",
       "                .geemap-colab {\n",
       "                    background-color: var(--colab-primary-surface-color, white);\n",
       "                }\n",
       "\n",
       "                .geemap-colab .jupyter-button {\n",
       "                    --jp-layout-color3: var(--colab-primary-surface-color, white);\n",
       "                }\n",
       "            </style>\n",
       "            "
      ],
      "text/plain": [
       "<IPython.core.display.HTML object>"
      ]
     },
     "metadata": {},
     "output_type": "display_data"
    },
    {
     "data": {
      "text/html": [
       "<div>\n",
       "<style scoped>\n",
       "    .dataframe tbody tr th:only-of-type {\n",
       "        vertical-align: middle;\n",
       "    }\n",
       "\n",
       "    .dataframe tbody tr th {\n",
       "        vertical-align: top;\n",
       "    }\n",
       "\n",
       "    .dataframe thead th {\n",
       "        text-align: right;\n",
       "    }\n",
       "</style>\n",
       "<table border=\"1\" class=\"dataframe\">\n",
       "  <thead>\n",
       "    <tr style=\"text-align: right;\">\n",
       "      <th></th>\n",
       "      <th>R^2</th>\n",
       "      <th>Bias_log</th>\n",
       "      <th>Bias</th>\n",
       "      <th>MAE_log</th>\n",
       "      <th>MAE</th>\n",
       "      <th>RMSE</th>\n",
       "      <th>std</th>\n",
       "      <th>SS</th>\n",
       "      <th>MAPE</th>\n",
       "      <th>N</th>\n",
       "    </tr>\n",
       "  </thead>\n",
       "  <tbody>\n",
       "    <tr>\n",
       "      <th>oc3_msi</th>\n",
       "      <td>0.025</td>\n",
       "      <td>0.949</td>\n",
       "      <td>-0.135</td>\n",
       "      <td>1.683</td>\n",
       "      <td>0.647</td>\n",
       "      <td>0.785</td>\n",
       "      <td>0.773</td>\n",
       "      <td>0.061</td>\n",
       "      <td>57.464</td>\n",
       "      <td>90</td>\n",
       "    </tr>\n",
       "  </tbody>\n",
       "</table>\n",
       "</div>"
      ],
      "text/plain": [
       "           R^2  Bias_log   Bias  MAE_log    MAE   RMSE    std     SS    MAPE  \\\n",
       "oc3_msi  0.025     0.949 -0.135    1.683  0.647  0.785  0.773  0.061  57.464   \n",
       "\n",
       "          N  \n",
       "oc3_msi  90  "
      ]
     },
     "execution_count": 43,
     "metadata": {},
     "output_type": "execute_result"
    }
   ],
   "source": [
    "oreilly_stat = pd.DataFrame.from_dict(convert_stat_dict_to_list_stat_and_values(oreilly_data)[0], orient='index', columns=columns)\n",
    "oreilly_stat"
   ]
  },
  {
   "cell_type": "markdown",
   "metadata": {},
   "source": [
    "#### CCI"
   ]
  },
  {
   "cell_type": "code",
   "execution_count": 45,
   "metadata": {},
   "outputs": [
    {
     "data": {
      "text/html": [
       "\n",
       "            <style>\n",
       "                .geemap-dark {\n",
       "                    --jp-widgets-color: white;\n",
       "                    --jp-widgets-label-color: white;\n",
       "                    --jp-ui-font-color1: white;\n",
       "                    --jp-layout-color2: #454545;\n",
       "                    background-color: #383838;\n",
       "                }\n",
       "\n",
       "                .geemap-dark .jupyter-button {\n",
       "                    --jp-layout-color3: #383838;\n",
       "                }\n",
       "\n",
       "                .geemap-colab {\n",
       "                    background-color: var(--colab-primary-surface-color, white);\n",
       "                }\n",
       "\n",
       "                .geemap-colab .jupyter-button {\n",
       "                    --jp-layout-color3: var(--colab-primary-surface-color, white);\n",
       "                }\n",
       "            </style>\n",
       "            "
      ],
      "text/plain": [
       "<IPython.core.display.HTML object>"
      ]
     },
     "metadata": {},
     "output_type": "display_data"
    }
   ],
   "source": [
    "df_cci = pd.read_csv(cci_lakes_path)"
   ]
  },
  {
   "cell_type": "code",
   "execution_count": 46,
   "metadata": {},
   "outputs": [
    {
     "data": {
      "text/html": [
       "\n",
       "            <style>\n",
       "                .geemap-dark {\n",
       "                    --jp-widgets-color: white;\n",
       "                    --jp-widgets-label-color: white;\n",
       "                    --jp-ui-font-color1: white;\n",
       "                    --jp-layout-color2: #454545;\n",
       "                    background-color: #383838;\n",
       "                }\n",
       "\n",
       "                .geemap-dark .jupyter-button {\n",
       "                    --jp-layout-color3: #383838;\n",
       "                }\n",
       "\n",
       "                .geemap-colab {\n",
       "                    background-color: var(--colab-primary-surface-color, white);\n",
       "                }\n",
       "\n",
       "                .geemap-colab .jupyter-button {\n",
       "                    --jp-layout-color3: var(--colab-primary-surface-color, white);\n",
       "                }\n",
       "            </style>\n",
       "            "
      ],
      "text/plain": [
       "<IPython.core.display.HTML object>"
      ]
     },
     "metadata": {},
     "output_type": "display_data"
    },
    {
     "data": {
      "text/html": [
       "<div>\n",
       "<style scoped>\n",
       "    .dataframe tbody tr th:only-of-type {\n",
       "        vertical-align: middle;\n",
       "    }\n",
       "\n",
       "    .dataframe tbody tr th {\n",
       "        vertical-align: top;\n",
       "    }\n",
       "\n",
       "    .dataframe thead th {\n",
       "        text-align: right;\n",
       "    }\n",
       "</style>\n",
       "<table border=\"1\" class=\"dataframe\">\n",
       "  <thead>\n",
       "    <tr style=\"text-align: right;\">\n",
       "      <th></th>\n",
       "      <th>R^2</th>\n",
       "      <th>Bias_log</th>\n",
       "      <th>Bias</th>\n",
       "      <th>MAE_log</th>\n",
       "      <th>MAE</th>\n",
       "      <th>RMSE</th>\n",
       "      <th>std</th>\n",
       "      <th>SS</th>\n",
       "      <th>MAPE</th>\n",
       "      <th>N</th>\n",
       "    </tr>\n",
       "  </thead>\n",
       "  <tbody>\n",
       "    <tr>\n",
       "      <th>CCI_lakes</th>\n",
       "      <td>0.224</td>\n",
       "      <td>0.666</td>\n",
       "      <td>-0.158</td>\n",
       "      <td>2.059</td>\n",
       "      <td>0.965</td>\n",
       "      <td>1.289</td>\n",
       "      <td>1.279</td>\n",
       "      <td>0.563</td>\n",
       "      <td>63.2</td>\n",
       "      <td>86</td>\n",
       "    </tr>\n",
       "  </tbody>\n",
       "</table>\n",
       "</div>"
      ],
      "text/plain": [
       "             R^2  Bias_log   Bias  MAE_log    MAE   RMSE    std     SS  MAPE  \\\n",
       "CCI_lakes  0.224     0.666 -0.158    2.059  0.965  1.289  1.279  0.563  63.2   \n",
       "\n",
       "            N  \n",
       "CCI_lakes  86  "
      ]
     },
     "execution_count": 46,
     "metadata": {},
     "output_type": "execute_result"
    }
   ],
   "source": [
    "cci(df_cci['Provided Value'], df_cci['Matched Value'])"
   ]
  },
  {
   "cell_type": "markdown",
   "metadata": {},
   "source": [
    "# Processing outliers"
   ]
  },
  {
   "cell_type": "markdown",
   "metadata": {},
   "source": [
    "### Analysis "
   ]
  },
  {
   "cell_type": "code",
   "execution_count": 43,
   "metadata": {},
   "outputs": [
    {
     "data": {
      "text/html": [
       "\n",
       "            <style>\n",
       "                .geemap-dark {\n",
       "                    --jp-widgets-color: white;\n",
       "                    --jp-widgets-label-color: white;\n",
       "                    --jp-ui-font-color1: white;\n",
       "                    --jp-layout-color2: #454545;\n",
       "                    background-color: #383838;\n",
       "                }\n",
       "\n",
       "                .geemap-dark .jupyter-button {\n",
       "                    --jp-layout-color3: #383838;\n",
       "                }\n",
       "\n",
       "                .geemap-colab {\n",
       "                    background-color: var(--colab-primary-surface-color, white);\n",
       "                }\n",
       "\n",
       "                .geemap-colab .jupyter-button {\n",
       "                    --jp-layout-color3: var(--colab-primary-surface-color, white);\n",
       "                }\n",
       "            </style>\n",
       "            "
      ],
      "text/plain": [
       "<IPython.core.display.HTML object>"
      ]
     },
     "metadata": {},
     "output_type": "display_data"
    }
   ],
   "source": [
    "def from_cci_lakes_to_id(df_cci: pd.DataFrame, df_init: pd.DataFrame) -> list:\n",
    "    in_situ_dict, pred_dict = dict(), dict()\n",
    "    for i in df_cci.index:\n",
    "        for j in df_init.index:\n",
    "            if df_init['LATITUDE'][j] == df_cci['Latitude'][i] and df_init['LONGITUDE'][j] == df_cci['Longitude'][i] and \\\n",
    "                df_init['CHL'][j] == df_cci['Provided Value'][i] and df_cci['Provided Date'][i] == df_init['datetime'][j]:\n",
    "                    in_situ_dict[j], pred_dict[j] = df_init['CHL'][j], df_cci['Matched Value'][i]\n",
    "                    break\n",
    "    return in_situ_dict, pred_dict"
   ]
  },
  {
   "cell_type": "code",
   "execution_count": 47,
   "metadata": {},
   "outputs": [
    {
     "data": {
      "text/html": [
       "\n",
       "            <style>\n",
       "                .geemap-dark {\n",
       "                    --jp-widgets-color: white;\n",
       "                    --jp-widgets-label-color: white;\n",
       "                    --jp-ui-font-color1: white;\n",
       "                    --jp-layout-color2: #454545;\n",
       "                    background-color: #383838;\n",
       "                }\n",
       "\n",
       "                .geemap-dark .jupyter-button {\n",
       "                    --jp-layout-color3: #383838;\n",
       "                }\n",
       "\n",
       "                .geemap-colab {\n",
       "                    background-color: var(--colab-primary-surface-color, white);\n",
       "                }\n",
       "\n",
       "                .geemap-colab .jupyter-button {\n",
       "                    --jp-layout-color3: var(--colab-primary-surface-color, white);\n",
       "                }\n",
       "            </style>\n",
       "            "
      ],
      "text/plain": [
       "<IPython.core.display.HTML object>"
      ]
     },
     "metadata": {},
     "output_type": "display_data"
    }
   ],
   "source": [
    "cci_data = from_cci_lakes_to_id(df_cci, df_all)"
   ]
  },
  {
   "cell_type": "code",
   "execution_count": 48,
   "metadata": {},
   "outputs": [
    {
     "data": {
      "text/html": [
       "\n",
       "            <style>\n",
       "                .geemap-dark {\n",
       "                    --jp-widgets-color: white;\n",
       "                    --jp-widgets-label-color: white;\n",
       "                    --jp-ui-font-color1: white;\n",
       "                    --jp-layout-color2: #454545;\n",
       "                    background-color: #383838;\n",
       "                }\n",
       "\n",
       "                .geemap-dark .jupyter-button {\n",
       "                    --jp-layout-color3: #383838;\n",
       "                }\n",
       "\n",
       "                .geemap-colab {\n",
       "                    background-color: var(--colab-primary-surface-color, white);\n",
       "                }\n",
       "\n",
       "                .geemap-colab .jupyter-button {\n",
       "                    --jp-layout-color3: var(--colab-primary-surface-color, white);\n",
       "                }\n",
       "            </style>\n",
       "            "
      ],
      "text/plain": [
       "<IPython.core.display.HTML object>"
      ]
     },
     "metadata": {},
     "output_type": "display_data"
    }
   ],
   "source": [
    "def outliers(df_init: pd.DataFrame, threshold=3, n_sigma=1.1, window_size=3, **kwargs) -> list:\n",
    "    \"\"\"_summary_\n",
    "\n",
    "    Args:\n",
    "        df_init (pd.DataFrame): _description_\n",
    "        window_size (int, optional): _description_. Defaults to 3.\n",
    "        n_sigma (float, optional): _description_. Defaults to 3.0.\n",
    "\n",
    "    Returns:\n",
    "        list: df_pred, stat, indecies_dict\n",
    "    \"\"\"\n",
    "    \n",
    "    df_pred = copy.deepcopy(df_init)\n",
    "    stat = dict()\n",
    "    indecies_dict = dict()\n",
    "    for algo_name, algo_dict in kwargs.items():\n",
    "        in_situ = pd.Series(algo_dict[-2])\n",
    "        predicted = pd.Series(algo_dict[-1])\n",
    "        residual = np.abs(in_situ - predicted)\n",
    "        \n",
    "        indecies_true = np.array([])\n",
    "        if len((inds_array := np.where(residual > threshold)[0])): \n",
    "            indecies_true = list((map(lambda t: in_situ.index[t], inds_array)))\n",
    "            residual = np.delete(residual, inds_array)\n",
    "        \n",
    "        result = hampel(residual, window_size=window_size, n_sigma=n_sigma)\n",
    "        indecies = list(np.hstack((list(map(lambda t: in_situ.index[t], result.outlier_indices)), indecies_true)).astype(int))\n",
    "        indecies_dict[algo_name] = indecies\n",
    "        for i in indecies: \n",
    "            if i in in_situ: in_situ.pop(i), predicted.pop(i)\n",
    "        \n",
    "        indecies_series = pd.Series({k: True if k in indecies else np.nan for k in indecies})\n",
    "        indecies_series.name = f'flag_hampel_{algo_name}'\n",
    "        predicted_in_table = pd.Series(algo_dict[-1])\n",
    "        predicted_in_table.name = algo_name\n",
    "        df_pred = pd.concat([df_pred, predicted_in_table, indecies_series], axis=1)\n",
    "               \n",
    "        in_situ_values = copy.deepcopy(in_situ).to_list()\n",
    "        calc_chl = predicted.to_list()\n",
    "        if len(calc_chl) > 3:\n",
    "            stat[algo_name] = [*(_tmp := calculate_statistics(in_situ_values, calc_chl)), len(calc_chl), in_situ, algo_dict]\n",
    "            slope = draw_graphic(in_situ_values, calc_chl, algo_name, save_folder=\"regional\")\n",
    "            # stat[algo_name].insert(6, slope)\n",
    "        else:\n",
    "            display(f\"Incorrect estimated values (count = {len(calc_chl)}): {algo_name}\")\n",
    "    for i in df_pred.index:\n",
    "        if df_pred.loc[i, 'datetime':].isna().sum() == len(kwargs) * 2:\n",
    "            df_pred.drop(labels=[i], inplace=True)        \n",
    "    return df_pred, stat, indecies_dict"
   ]
  },
  {
   "cell_type": "markdown",
   "metadata": {},
   "source": [
    "141, 91"
   ]
  },
  {
   "cell_type": "code",
   "execution_count": 70,
   "metadata": {},
   "outputs": [
    {
     "data": {
      "text/html": [
       "\n",
       "            <style>\n",
       "                .geemap-dark {\n",
       "                    --jp-widgets-color: white;\n",
       "                    --jp-widgets-label-color: white;\n",
       "                    --jp-ui-font-color1: white;\n",
       "                    --jp-layout-color2: #454545;\n",
       "                    background-color: #383838;\n",
       "                }\n",
       "\n",
       "                .geemap-dark .jupyter-button {\n",
       "                    --jp-layout-color3: #383838;\n",
       "                }\n",
       "\n",
       "                .geemap-colab {\n",
       "                    background-color: var(--colab-primary-surface-color, white);\n",
       "                }\n",
       "\n",
       "                .geemap-colab .jupyter-button {\n",
       "                    --jp-layout-color3: var(--colab-primary-surface-color, white);\n",
       "                }\n",
       "            </style>\n",
       "            "
      ],
      "text/plain": [
       "<IPython.core.display.HTML object>"
      ]
     },
     "metadata": {},
     "output_type": "display_data"
    },
    {
     "data": {
      "text/plain": [
       "np.float64(3.1985159292052217)"
      ]
     },
     "execution_count": 70,
     "metadata": {},
     "output_type": "execute_result"
    }
   ],
   "source": [
    "li_candidate_data['li13'][-1].pop(141)"
   ]
  },
  {
   "cell_type": "code",
   "execution_count": 59,
   "metadata": {},
   "outputs": [
    {
     "data": {
      "text/html": [
       "\n",
       "            <style>\n",
       "                .geemap-dark {\n",
       "                    --jp-widgets-color: white;\n",
       "                    --jp-widgets-label-color: white;\n",
       "                    --jp-ui-font-color1: white;\n",
       "                    --jp-layout-color2: #454545;\n",
       "                    background-color: #383838;\n",
       "                }\n",
       "\n",
       "                .geemap-dark .jupyter-button {\n",
       "                    --jp-layout-color3: #383838;\n",
       "                }\n",
       "\n",
       "                .geemap-colab {\n",
       "                    background-color: var(--colab-primary-surface-color, white);\n",
       "                }\n",
       "\n",
       "                .geemap-colab .jupyter-button {\n",
       "                    --jp-layout-color3: var(--colab-primary-surface-color, white);\n",
       "                }\n",
       "            </style>\n",
       "            "
      ],
      "text/plain": [
       "<IPython.core.display.HTML object>"
      ]
     },
     "metadata": {},
     "output_type": "display_data"
    },
    {
     "data": {
      "text/plain": [
       "{45: 1.36,\n",
       " 46: 0.2,\n",
       " 47: 0.83,\n",
       " 48: 0.55,\n",
       " 49: 1.39,\n",
       " 50: 3.12,\n",
       " 67: 1.25,\n",
       " 69: 0.82,\n",
       " 80: 2.21,\n",
       " 82: 1.38,\n",
       " 83: 1.8,\n",
       " 85: 2.21,\n",
       " 86: 2.22,\n",
       " 87: 2.48,\n",
       " 90: 1.94,\n",
       " 91: 1.94,\n",
       " 96: 1.39,\n",
       " 97: 3.14,\n",
       " 98: 2.45,\n",
       " 112: 0.72,\n",
       " 113: 0.73,\n",
       " 117: 0.76,\n",
       " 120: 1.2,\n",
       " 121: 1.6,\n",
       " 128: 1.67,\n",
       " 129: 1.93,\n",
       " 134: 1.4,\n",
       " 138: 1.9,\n",
       " 139: 1.61,\n",
       " 140: 2.36,\n",
       " 141: 2.03,\n",
       " 142: 0.9,\n",
       " 143: 0.47,\n",
       " 144: 0.89,\n",
       " 145: 0.45,\n",
       " 150: 0.89,\n",
       " 151: 1.81,\n",
       " 165: 2.35,\n",
       " 168: 2.15,\n",
       " 169: 2.88,\n",
       " 170: 3.13,\n",
       " 173: 1.86,\n",
       " 179: 0.83,\n",
       " 180: 1.26,\n",
       " 182: 2.21,\n",
       " 183: 0.91,\n",
       " 184: 2.32,\n",
       " 185: 1.25,\n",
       " 188: 0.65,\n",
       " 189: 1.09,\n",
       " 191: 1.28,\n",
       " 192: 1.72,\n",
       " 193: 2.87,\n",
       " 194: 1.54,\n",
       " 195: 2.03,\n",
       " 201: 0.71,\n",
       " 203: 2.7,\n",
       " 204: 1.96,\n",
       " 205: 1.73,\n",
       " 206: 1.65,\n",
       " 208: 1.41,\n",
       " 210: 2.18,\n",
       " 212: 1.29,\n",
       " 214: 0.67,\n",
       " 218: 0.41,\n",
       " 219: 1.85,\n",
       " 220: 1.7,\n",
       " 221: 1.49,\n",
       " 222: 1.08,\n",
       " 225: 2.1,\n",
       " 226: 1.04,\n",
       " 228: 1.08,\n",
       " 229: 0.73,\n",
       " 230: 1.13,\n",
       " 231: 0.51,\n",
       " 232: 0.25,\n",
       " 233: 0.16,\n",
       " 234: 0.86,\n",
       " 235: 0.62,\n",
       " 236: 1.13,\n",
       " 241: 0.91,\n",
       " 242: 1.02,\n",
       " 243: 1.02,\n",
       " 244: 1.04,\n",
       " 245: 1.04,\n",
       " 246: 0.89,\n",
       " 250: 0.43,\n",
       " 252: 1.28,\n",
       " 262: 1.28,\n",
       " 274: 1.6,\n",
       " 312: 1.31127923529412,\n",
       " 315: 1.05882352941176,\n",
       " 316: 1.88103352941176}"
      ]
     },
     "execution_count": 59,
     "metadata": {},
     "output_type": "execute_result"
    }
   ],
   "source": [
    "li_candidate_data['li13'][-2]"
   ]
  },
  {
   "cell_type": "code",
   "execution_count": null,
   "metadata": {},
   "outputs": [
    {
     "data": {
      "text/html": [
       "\n",
       "            <style>\n",
       "                .geemap-dark {\n",
       "                    --jp-widgets-color: white;\n",
       "                    --jp-widgets-label-color: white;\n",
       "                    --jp-ui-font-color1: white;\n",
       "                    --jp-layout-color2: #454545;\n",
       "                    background-color: #383838;\n",
       "                }\n",
       "\n",
       "                .geemap-dark .jupyter-button {\n",
       "                    --jp-layout-color3: #383838;\n",
       "                }\n",
       "\n",
       "                .geemap-colab {\n",
       "                    background-color: var(--colab-primary-surface-color, white);\n",
       "                }\n",
       "\n",
       "                .geemap-colab .jupyter-button {\n",
       "                    --jp-layout-color3: var(--colab-primary-surface-color, white);\n",
       "                }\n",
       "            </style>\n",
       "            "
      ],
      "text/plain": [
       "<IPython.core.display.HTML object>"
      ]
     },
     "metadata": {},
     "output_type": "display_data"
    }
   ],
   "source": [
    "clear_all_data_best = outliers(df_all, threshold=0.5,\n",
    "                          li13_clear=li_candidate_data['li13'],\n",
    "                          \n",
    "                          oc3_msi_clear=oreilly_data['oc3_msi'])"
   ]
  },
  {
   "cell_type": "markdown",
   "metadata": {},
   "source": [
    "### statistics"
   ]
  },
  {
   "cell_type": "code",
   "execution_count": 76,
   "metadata": {},
   "outputs": [
    {
     "data": {
      "text/html": [
       "\n",
       "            <style>\n",
       "                .geemap-dark {\n",
       "                    --jp-widgets-color: white;\n",
       "                    --jp-widgets-label-color: white;\n",
       "                    --jp-ui-font-color1: white;\n",
       "                    --jp-layout-color2: #454545;\n",
       "                    background-color: #383838;\n",
       "                }\n",
       "\n",
       "                .geemap-dark .jupyter-button {\n",
       "                    --jp-layout-color3: #383838;\n",
       "                }\n",
       "\n",
       "                .geemap-colab {\n",
       "                    background-color: var(--colab-primary-surface-color, white);\n",
       "                }\n",
       "\n",
       "                .geemap-colab .jupyter-button {\n",
       "                    --jp-layout-color3: var(--colab-primary-surface-color, white);\n",
       "                }\n",
       "            </style>\n",
       "            "
      ],
      "text/plain": [
       "<IPython.core.display.HTML object>"
      ]
     },
     "metadata": {},
     "output_type": "display_data"
    },
    {
     "data": {
      "text/html": [
       "<div>\n",
       "<style scoped>\n",
       "    .dataframe tbody tr th:only-of-type {\n",
       "        vertical-align: middle;\n",
       "    }\n",
       "\n",
       "    .dataframe tbody tr th {\n",
       "        vertical-align: top;\n",
       "    }\n",
       "\n",
       "    .dataframe thead th {\n",
       "        text-align: right;\n",
       "    }\n",
       "</style>\n",
       "<table border=\"1\" class=\"dataframe\">\n",
       "  <thead>\n",
       "    <tr style=\"text-align: right;\">\n",
       "      <th></th>\n",
       "      <th>R^2</th>\n",
       "      <th>Bias_log</th>\n",
       "      <th>Bias</th>\n",
       "      <th>MAE_log</th>\n",
       "      <th>MAE</th>\n",
       "      <th>RMSE</th>\n",
       "      <th>std</th>\n",
       "      <th>SS</th>\n",
       "      <th>MAPE</th>\n",
       "      <th>N</th>\n",
       "    </tr>\n",
       "  </thead>\n",
       "  <tbody>\n",
       "    <tr>\n",
       "      <th>li13_clear</th>\n",
       "      <td>0.611</td>\n",
       "      <td>1.084</td>\n",
       "      <td>0.036</td>\n",
       "      <td>1.295</td>\n",
       "      <td>0.252</td>\n",
       "      <td>0.281</td>\n",
       "      <td>0.279</td>\n",
       "      <td>0.601</td>\n",
       "      <td>30.725</td>\n",
       "      <td>38</td>\n",
       "    </tr>\n",
       "    <tr>\n",
       "      <th>oc3_msi_clear</th>\n",
       "      <td>0.604</td>\n",
       "      <td>1.025</td>\n",
       "      <td>-0.006</td>\n",
       "      <td>1.321</td>\n",
       "      <td>0.270</td>\n",
       "      <td>0.306</td>\n",
       "      <td>0.306</td>\n",
       "      <td>0.725</td>\n",
       "      <td>30.886</td>\n",
       "      <td>37</td>\n",
       "    </tr>\n",
       "    <tr>\n",
       "      <th>CCI_lakes_clear</th>\n",
       "      <td>0.884</td>\n",
       "      <td>0.780</td>\n",
       "      <td>-0.180</td>\n",
       "      <td>1.382</td>\n",
       "      <td>0.275</td>\n",
       "      <td>0.311</td>\n",
       "      <td>0.253</td>\n",
       "      <td>1.018</td>\n",
       "      <td>26.105</td>\n",
       "      <td>28</td>\n",
       "    </tr>\n",
       "  </tbody>\n",
       "</table>\n",
       "</div>"
      ],
      "text/plain": [
       "                   R^2  Bias_log   Bias  MAE_log    MAE   RMSE    std     SS  \\\n",
       "li13_clear       0.611     1.084  0.036    1.295  0.252  0.281  0.279  0.601   \n",
       "oc3_msi_clear    0.604     1.025 -0.006    1.321  0.270  0.306  0.306  0.725   \n",
       "CCI_lakes_clear  0.884     0.780 -0.180    1.382  0.275  0.311  0.253  1.018   \n",
       "\n",
       "                   MAPE   N  \n",
       "li13_clear       30.725  38  \n",
       "oc3_msi_clear    30.886  37  \n",
       "CCI_lakes_clear  26.105  28  "
      ]
     },
     "execution_count": 76,
     "metadata": {},
     "output_type": "execute_result"
    }
   ],
   "source": [
    "pd.DataFrame.from_dict({k: v[:-2] for k, v in clear_all_data_best[1].items()}, orient='index', columns=columns)"
   ]
  },
  {
   "cell_type": "markdown",
   "metadata": {},
   "source": [
    "# ML"
   ]
  },
  {
   "cell_type": "code",
   "execution_count": null,
   "metadata": {},
   "outputs": [
    {
     "data": {
      "text/html": [
       "\n",
       "            <style>\n",
       "                .geemap-dark {\n",
       "                    --jp-widgets-color: white;\n",
       "                    --jp-widgets-label-color: white;\n",
       "                    --jp-ui-font-color1: white;\n",
       "                    --jp-layout-color2: #454545;\n",
       "                    background-color: #383838;\n",
       "                }\n",
       "\n",
       "                .geemap-dark .jupyter-button {\n",
       "                    --jp-layout-color3: #383838;\n",
       "                }\n",
       "\n",
       "                .geemap-colab {\n",
       "                    background-color: var(--colab-primary-surface-color, white);\n",
       "                }\n",
       "\n",
       "                .geemap-colab .jupyter-button {\n",
       "                    --jp-layout-color3: var(--colab-primary-surface-color, white);\n",
       "                }\n",
       "            </style>\n",
       "            "
      ],
      "text/plain": [
       "<IPython.core.display.HTML object>"
      ]
     },
     "metadata": {},
     "output_type": "display_data"
    }
   ],
   "source": [
    "def do_cross_validation(estimator, X, y):\n",
    "    scoring = {\n",
    "        \"R^2\": make_scorer(r2_cov),\n",
    "        \"Bias_log\": make_scorer(bias_log),\n",
    "        \"Bias\": make_scorer(bias, greater_is_better=False),\n",
    "        \"MAE_log\": make_scorer(mae_log),\n",
    "        \"MAE\": \"neg_mean_absolute_error\",\n",
    "        \"RMSE\": \"neg_root_mean_squared_error\",\n",
    "        \"std\": make_scorer(std, greater_is_better=False),\n",
    "        \"Sen's slope\": make_scorer(sen_slope),\n",
    "        \"MAPE\": 'neg_mean_absolute_percentage_error'\n",
    "    }\n",
    "    \n",
    "    cv_results = cross_validate(\n",
    "        estimator, \n",
    "        X, \n",
    "        y, \n",
    "        scoring=scoring, \n",
    "        cv=5,\n",
    "        return_estimator=True\n",
    "    )\n",
    "    \n",
    "    for metric in scoring:\n",
    "        values = cv_results[f\"test_{metric}\"]\n",
    "        print(f\"Cross-validated {metric}: ({' + '.join(f'{v:.2f}' for v in values)}) / 5 = {np.mean(values):.2f} +- {np.std(values):.2f}\")\n",
    "    \n",
    "    for fold_idx, estimator in enumerate(cv_results['estimator']):\n",
    "        if hasattr(estimator, 'best_params_'):\n",
    "            print(f\"Hyperparams (fold {fold_idx+1}): {estimator.best_params_}\")\n",
    "    \n",
    "    return cv_results\n",
    "\n",
    "\n",
    "def create_rrs_df_rgr(df, dict_os_bands, emp_algo_data=None, mode=0):\n",
    "    dict_os_bands = {k: v[1] for k, v in dict_os_bands.items()}\n",
    "    df_rrs = None\n",
    "    col = ['B1', 'B2', 'B3', 'B4', 'B5', 'B6', 'B7', 'B8', 'B8A'] \\\n",
    "        if mode else ['B1', 'B2', 'B3', 'B4', 'B5', 'B6']\n",
    "    df_rrs = pd.DataFrame.from_dict(dict_os_bands, orient='index')\\\n",
    "        .loc[:, col]\n",
    "                \n",
    "    indecies_set = set()            \n",
    "    for column in df_rrs.columns:\n",
    "        result = hampel(df_rrs[column])\n",
    "        \n",
    "        outlier_indices = list(map(lambda t: df_rrs.index[t], result.outlier_indices))\n",
    "        \n",
    "        indecies_set.update(outlier_indices)\n",
    "    \n",
    "    df_rrs_cleaned = copy.deepcopy(df_rrs).drop(list(indecies_set))\n",
    "    if emp_algo_data:\n",
    "        for numerator, denominator in itertools.permutations(df_rrs_cleaned.columns, 2):\n",
    "            ratio_name = f\"{numerator}/{denominator}\"\n",
    "            df_rrs_cleaned[ratio_name] = df_rrs_cleaned[numerator] / df_rrs[denominator]\n",
    "        for k, v in emp_algo_data.items():\n",
    "            _t = pd.Series(v[-1])\n",
    "            _t.name = k\n",
    "            df_rrs_cleaned = df_rrs_cleaned.join(_t)\n",
    "    \n",
    "    return df_rrs_cleaned.join(df.loc[:, 'CHL'])\n",
    "\n",
    "\n",
    "def nested_cv(df_rrs, sensor, name_bands, param_grid, scoring, model):\n",
    "    name = 'SVR' if isinstance(model, SVR) else 'RF'\n",
    "    X = df_rrs.loc[:, name_bands]\n",
    "    target = df_rrs['CHL'].to_numpy().ravel()\n",
    "    grid_model = GridSearchCV(make_pipeline(StandardScaler(), model), param_grid, cv=5,\n",
    "                            scoring=scoring, return_train_score=True).fit(X, target)\n",
    "    \n",
    "    results = do_cross_validation(grid_model, X, target)\n",
    "    \n",
    "    return results, grid_model.best_estimator_   \n",
    "\n",
    "C_range = np.logspace(-1, 7, 10, base=2)\n",
    "gamma_range = np.logspace(-7, -3, 10, base=2)\n",
    "param_grid = dict(svr__gamma=gamma_range, svr__C=C_range, svr__epsilon=[0.1, 0.01])\n",
    "\n",
    "param_grid_rf = {\n",
    "    'randomforestregressor__n_estimators': [32, 64, 128],\n",
    "    'randomforestregressor__max_depth': [5, 10, 15],\n",
    "    'randomforestregressor__max_features': ['sqrt', 0.3],\n",
    "    'randomforestregressor__min_samples_split': [2, 5]\n",
    "}"
   ]
  },
  {
   "cell_type": "code",
   "execution_count": 11,
   "metadata": {},
   "outputs": [
    {
     "data": {
      "text/html": [
       "\n",
       "            <style>\n",
       "                .geemap-dark {\n",
       "                    --jp-widgets-color: white;\n",
       "                    --jp-widgets-label-color: white;\n",
       "                    --jp-ui-font-color1: white;\n",
       "                    --jp-layout-color2: #454545;\n",
       "                    background-color: #383838;\n",
       "                }\n",
       "\n",
       "                .geemap-dark .jupyter-button {\n",
       "                    --jp-layout-color3: #383838;\n",
       "                }\n",
       "\n",
       "                .geemap-colab {\n",
       "                    background-color: var(--colab-primary-surface-color, white);\n",
       "                }\n",
       "\n",
       "                .geemap-colab .jupyter-button {\n",
       "                    --jp-layout-color3: var(--colab-primary-surface-color, white);\n",
       "                }\n",
       "            </style>\n",
       "            "
      ],
      "text/plain": [
       "<IPython.core.display.HTML object>"
      ]
     },
     "metadata": {},
     "output_type": "display_data"
    }
   ],
   "source": [
    "with open(\"supplement/data_sent2_all.pickle\", \"rb\") as file:\n",
    "    dict_stats = pickle.load(file)\n",
    "    \n",
    "df_all = _df_all"
   ]
  },
  {
   "cell_type": "code",
   "execution_count": 46,
   "metadata": {},
   "outputs": [
    {
     "data": {
      "text/html": [
       "\n",
       "            <style>\n",
       "                .geemap-dark {\n",
       "                    --jp-widgets-color: white;\n",
       "                    --jp-widgets-label-color: white;\n",
       "                    --jp-ui-font-color1: white;\n",
       "                    --jp-layout-color2: #454545;\n",
       "                    background-color: #383838;\n",
       "                }\n",
       "\n",
       "                .geemap-dark .jupyter-button {\n",
       "                    --jp-layout-color3: #383838;\n",
       "                }\n",
       "\n",
       "                .geemap-colab {\n",
       "                    background-color: var(--colab-primary-surface-color, white);\n",
       "                }\n",
       "\n",
       "                .geemap-colab .jupyter-button {\n",
       "                    --jp-layout-color3: var(--colab-primary-surface-color, white);\n",
       "                }\n",
       "            </style>\n",
       "            "
      ],
      "text/plain": [
       "<IPython.core.display.HTML object>"
      ]
     },
     "metadata": {},
     "output_type": "display_data"
    }
   ],
   "source": [
    "df_msi = df_all.loc[pd.Index(dict_stats.keys())]"
   ]
  },
  {
   "cell_type": "markdown",
   "metadata": {},
   "source": [
    "## SVR"
   ]
  },
  {
   "cell_type": "markdown",
   "metadata": {},
   "source": [
    "### rf"
   ]
  },
  {
   "cell_type": "code",
   "execution_count": 17,
   "metadata": {},
   "outputs": [
    {
     "data": {
      "text/html": [
       "\n",
       "            <style>\n",
       "                .geemap-dark {\n",
       "                    --jp-widgets-color: white;\n",
       "                    --jp-widgets-label-color: white;\n",
       "                    --jp-ui-font-color1: white;\n",
       "                    --jp-layout-color2: #454545;\n",
       "                    background-color: #383838;\n",
       "                }\n",
       "\n",
       "                .geemap-dark .jupyter-button {\n",
       "                    --jp-layout-color3: #383838;\n",
       "                }\n",
       "\n",
       "                .geemap-colab {\n",
       "                    background-color: var(--colab-primary-surface-color, white);\n",
       "                }\n",
       "\n",
       "                .geemap-colab .jupyter-button {\n",
       "                    --jp-layout-color3: var(--colab-primary-surface-color, white);\n",
       "                }\n",
       "            </style>\n",
       "            "
      ],
      "text/plain": [
       "<IPython.core.display.HTML object>"
      ]
     },
     "metadata": {},
     "output_type": "display_data"
    },
    {
     "name": "stdout",
     "output_type": "stream",
     "text": [
      "Cross-validated R^2: (0.00 + 0.18 + 0.00 + 0.03 + 0.02) / 5 = 0.05 +- 0.07\n",
      "Cross-validated Bias_log: (1.00 + 1.05 + 0.75 + 1.28 + 1.58) / 5 = 1.13 +- 0.28\n",
      "Cross-validated Bias: (0.26 + 0.07 + 0.60 + -0.16 + -0.69) / 5 = 0.02 +- 0.43\n",
      "Cross-validated MAE_log: (1.65 + 1.47 + 1.59 + 1.50 + 1.68) / 5 = 1.58 +- 0.08\n",
      "Cross-validated MAE: (-0.67 + -0.51 + -0.80 + -0.41 + -0.79) / 5 = -0.63 +- 0.15\n",
      "Cross-validated RMSE: (-0.86 + -0.57 + -0.97 + -0.52 + -1.14) / 5 = -0.81 +- 0.23\n",
      "Cross-validated std: (-0.82 + -0.57 + -0.76 + -0.50 + -0.90) / 5 = -0.71 +- 0.15\n",
      "Cross-validated Sen's slope: (-13.47 + -38.98 + 3.11 + -3.10 + -0.01) / 5 = -10.49 +- 15.30\n",
      "Cross-validated MAPE: (-0.76 + -0.47 + -0.39 + -0.88 + -0.86) / 5 = -0.67 +- 0.20\n",
      "Hyperparams (fold 1): {'svr__C': np.float64(0.5), 'svr__epsilon': 0.01, 'svr__gamma': np.float64(0.0078125)}\n",
      "Hyperparams (fold 2): {'svr__C': np.float64(0.5), 'svr__epsilon': 0.01, 'svr__gamma': np.float64(0.010631171876362321)}\n",
      "Hyperparams (fold 3): {'svr__C': np.float64(0.5), 'svr__epsilon': 0.01, 'svr__gamma': np.float64(0.0078125)}\n",
      "Hyperparams (fold 4): {'svr__C': np.float64(0.9258747122872903), 'svr__epsilon': 0.1, 'svr__gamma': np.float64(0.01968626640460739)}\n",
      "Hyperparams (fold 5): {'svr__C': np.float64(128.0), 'svr__epsilon': 0.1, 'svr__gamma': np.float64(0.09185840576722491)}\n"
     ]
    },
    {
     "data": {
      "text/plain": [
       "({'fit_time': array([4.05084801, 4.03950286, 4.01983953, 4.04472232, 4.01873136]),\n",
       "  'score_time': array([0.00269222, 0.0027864 , 0.002563  , 0.00265288, 0.00264144]),\n",
       "  'estimator': [GridSearchCV(cv=5,\n",
       "                estimator=Pipeline(steps=[('standardscaler', StandardScaler()),\n",
       "                                          ('svr', SVR())]),\n",
       "                param_grid={'svr__C': array([  0.5       ,   0.92587471,   1.71448797,   3.1748021 ,\n",
       "            5.87893797,  10.88632   ,  20.1587368 ,  37.32892927,\n",
       "           69.12382329, 128.        ]),\n",
       "                            'svr__epsilon': [0.1, 0.01],\n",
       "                            'svr__gamma': array([0.0078125 , 0.01063117, 0.01446679, 0.01968627, 0.02678887,\n",
       "          0.03645403, 0.04960628, 0.06750373, 0.09185841, 0.125     ])},\n",
       "                return_train_score=True, scoring='neg_root_mean_squared_error'),\n",
       "   GridSearchCV(cv=5,\n",
       "                estimator=Pipeline(steps=[('standardscaler', StandardScaler()),\n",
       "                                          ('svr', SVR())]),\n",
       "                param_grid={'svr__C': array([  0.5       ,   0.92587471,   1.71448797,   3.1748021 ,\n",
       "            5.87893797,  10.88632   ,  20.1587368 ,  37.32892927,\n",
       "           69.12382329, 128.        ]),\n",
       "                            'svr__epsilon': [0.1, 0.01],\n",
       "                            'svr__gamma': array([0.0078125 , 0.01063117, 0.01446679, 0.01968627, 0.02678887,\n",
       "          0.03645403, 0.04960628, 0.06750373, 0.09185841, 0.125     ])},\n",
       "                return_train_score=True, scoring='neg_root_mean_squared_error'),\n",
       "   GridSearchCV(cv=5,\n",
       "                estimator=Pipeline(steps=[('standardscaler', StandardScaler()),\n",
       "                                          ('svr', SVR())]),\n",
       "                param_grid={'svr__C': array([  0.5       ,   0.92587471,   1.71448797,   3.1748021 ,\n",
       "            5.87893797,  10.88632   ,  20.1587368 ,  37.32892927,\n",
       "           69.12382329, 128.        ]),\n",
       "                            'svr__epsilon': [0.1, 0.01],\n",
       "                            'svr__gamma': array([0.0078125 , 0.01063117, 0.01446679, 0.01968627, 0.02678887,\n",
       "          0.03645403, 0.04960628, 0.06750373, 0.09185841, 0.125     ])},\n",
       "                return_train_score=True, scoring='neg_root_mean_squared_error'),\n",
       "   GridSearchCV(cv=5,\n",
       "                estimator=Pipeline(steps=[('standardscaler', StandardScaler()),\n",
       "                                          ('svr', SVR())]),\n",
       "                param_grid={'svr__C': array([  0.5       ,   0.92587471,   1.71448797,   3.1748021 ,\n",
       "            5.87893797,  10.88632   ,  20.1587368 ,  37.32892927,\n",
       "           69.12382329, 128.        ]),\n",
       "                            'svr__epsilon': [0.1, 0.01],\n",
       "                            'svr__gamma': array([0.0078125 , 0.01063117, 0.01446679, 0.01968627, 0.02678887,\n",
       "          0.03645403, 0.04960628, 0.06750373, 0.09185841, 0.125     ])},\n",
       "                return_train_score=True, scoring='neg_root_mean_squared_error'),\n",
       "   GridSearchCV(cv=5,\n",
       "                estimator=Pipeline(steps=[('standardscaler', StandardScaler()),\n",
       "                                          ('svr', SVR())]),\n",
       "                param_grid={'svr__C': array([  0.5       ,   0.92587471,   1.71448797,   3.1748021 ,\n",
       "            5.87893797,  10.88632   ,  20.1587368 ,  37.32892927,\n",
       "           69.12382329, 128.        ]),\n",
       "                            'svr__epsilon': [0.1, 0.01],\n",
       "                            'svr__gamma': array([0.0078125 , 0.01063117, 0.01446679, 0.01968627, 0.02678887,\n",
       "          0.03645403, 0.04960628, 0.06750373, 0.09185841, 0.125     ])},\n",
       "                return_train_score=True, scoring='neg_root_mean_squared_error')],\n",
       "  'test_R^2': array([0.00205483, 0.17758603, 0.00079434, 0.03413263, 0.02471955]),\n",
       "  'test_Bias_log': array([1.00027724, 1.04760435, 0.7504126 , 1.28474028, 1.57577048]),\n",
       "  'test_Bias': array([ 0.25932316,  0.06566429,  0.60376174, -0.15896674, -0.6909123 ]),\n",
       "  'test_MAE_log': array([1.65073373, 1.47288874, 1.5901425 , 1.49643892, 1.6774791 ]),\n",
       "  'test_MAE': array([-0.67092332, -0.50795702, -0.79563227, -0.41065834, -0.78784241]),\n",
       "  'test_RMSE': array([-0.85565226, -0.56940811, -0.97298462, -0.52340854, -1.1357296 ]),\n",
       "  'test_std': array([-0.81540928, -0.56560922, -0.7630012 , -0.49868435, -0.90139998]),\n",
       "  \"test_Sen's slope\": array([-1.34650502e+01, -3.89783494e+01,  3.10532880e+00, -3.10029325e+00,\n",
       "         -9.24459890e-03]),\n",
       "  'test_MAPE': array([-0.75816492, -0.46546366, -0.39166674, -0.87769384, -0.85998669])},\n",
       " Pipeline(steps=[('standardscaler', StandardScaler()),\n",
       "                 ('svr',\n",
       "                  SVR(C=np.float64(0.5), epsilon=0.01,\n",
       "                      gamma=np.float64(0.0078125)))]))"
      ]
     },
     "execution_count": 17,
     "metadata": {},
     "output_type": "execute_result"
    }
   ],
   "source": [
    "df_msi_rrs6 = create_rrs_df_rgr(df_msi, dict_stats)\n",
    "nested_cv(df_msi_rrs6, 'MSI', df_msi_rrs6.columns[:-1], param_grid, 'neg_root_mean_squared_error', SVR())"
   ]
  },
  {
   "cell_type": "code",
   "execution_count": null,
   "metadata": {},
   "outputs": [
    {
     "data": {
      "text/html": [
       "\n",
       "            <style>\n",
       "                .geemap-dark {\n",
       "                    --jp-widgets-color: white;\n",
       "                    --jp-widgets-label-color: white;\n",
       "                    --jp-ui-font-color1: white;\n",
       "                    --jp-layout-color2: #454545;\n",
       "                    background-color: #383838;\n",
       "                }\n",
       "\n",
       "                .geemap-dark .jupyter-button {\n",
       "                    --jp-layout-color3: #383838;\n",
       "                }\n",
       "\n",
       "                .geemap-colab {\n",
       "                    background-color: var(--colab-primary-surface-color, white);\n",
       "                }\n",
       "\n",
       "                .geemap-colab .jupyter-button {\n",
       "                    --jp-layout-color3: var(--colab-primary-surface-color, white);\n",
       "                }\n",
       "            </style>\n",
       "            "
      ],
      "text/plain": [
       "<IPython.core.display.HTML object>"
      ]
     },
     "metadata": {},
     "output_type": "display_data"
    }
   ],
   "source": [
    "df_msi_rrs6_extra = create_rrs_df_rgr(\n",
    "    df_msi, dict_stats, emp_algo_data={'oc3_msi': oreilly_data['oc3_msi'],\n",
    "                   'li13': li_candidate_data['li13']})"
   ]
  },
  {
   "cell_type": "code",
   "execution_count": 46,
   "metadata": {},
   "outputs": [
    {
     "data": {
      "text/html": [
       "\n",
       "            <style>\n",
       "                .geemap-dark {\n",
       "                    --jp-widgets-color: white;\n",
       "                    --jp-widgets-label-color: white;\n",
       "                    --jp-ui-font-color1: white;\n",
       "                    --jp-layout-color2: #454545;\n",
       "                    background-color: #383838;\n",
       "                }\n",
       "\n",
       "                .geemap-dark .jupyter-button {\n",
       "                    --jp-layout-color3: #383838;\n",
       "                }\n",
       "\n",
       "                .geemap-colab {\n",
       "                    background-color: var(--colab-primary-surface-color, white);\n",
       "                }\n",
       "\n",
       "                .geemap-colab .jupyter-button {\n",
       "                    --jp-layout-color3: var(--colab-primary-surface-color, white);\n",
       "                }\n",
       "            </style>\n",
       "            "
      ],
      "text/plain": [
       "<IPython.core.display.HTML object>"
      ]
     },
     "metadata": {},
     "output_type": "display_data"
    },
    {
     "data": {
      "text/plain": [
       "(20, 13)"
      ]
     },
     "execution_count": 46,
     "metadata": {},
     "output_type": "execute_result"
    }
   ],
   "source": [
    "df_all[df_all['CHL'] > 3].shape"
   ]
  },
  {
   "cell_type": "code",
   "execution_count": 50,
   "metadata": {},
   "outputs": [
    {
     "data": {
      "text/html": [
       "\n",
       "            <style>\n",
       "                .geemap-dark {\n",
       "                    --jp-widgets-color: white;\n",
       "                    --jp-widgets-label-color: white;\n",
       "                    --jp-ui-font-color1: white;\n",
       "                    --jp-layout-color2: #454545;\n",
       "                    background-color: #383838;\n",
       "                }\n",
       "\n",
       "                .geemap-dark .jupyter-button {\n",
       "                    --jp-layout-color3: #383838;\n",
       "                }\n",
       "\n",
       "                .geemap-colab {\n",
       "                    background-color: var(--colab-primary-surface-color, white);\n",
       "                }\n",
       "\n",
       "                .geemap-colab .jupyter-button {\n",
       "                    --jp-layout-color3: var(--colab-primary-surface-color, white);\n",
       "                }\n",
       "            </style>\n",
       "            "
      ],
      "text/plain": [
       "<IPython.core.display.HTML object>"
      ]
     },
     "metadata": {},
     "output_type": "display_data"
    },
    {
     "name": "stdout",
     "output_type": "stream",
     "text": [
      "Cross-validated R^2: (0.44 + 0.15 + 0.00 + 0.26 + 0.16) / 5 = 0.20 +- 0.15\n",
      "Cross-validated Bias_log: (0.78 + 1.03 + 0.76 + 1.12 + 1.54) / 5 = 1.04 +- 0.28\n",
      "Cross-validated Bias: (0.15 + 0.05 + 0.55 + -0.02 + -0.53) / 5 = 0.04 +- 0.35\n",
      "Cross-validated MAE_log: (1.61 + 1.40 + 1.55 + 1.40 + 1.57) / 5 = 1.51 +- 0.09\n",
      "Cross-validated MAE: (-0.37 + -0.42 + -0.73 + -0.35 + -0.57) / 5 = -0.49 +- 0.14\n",
      "Cross-validated RMSE: (-0.49 + -0.51 + -0.89 + -0.44 + -0.61) / 5 = -0.59 +- 0.16\n",
      "Cross-validated std: (-0.47 + -0.51 + -0.70 + -0.44 + -0.31) / 5 = -0.49 +- 0.13\n",
      "Cross-validated Sen's slope: (0.72 + 0.86 + -0.42 + 1.15 + -0.26) / 5 = 0.41 +- 0.63\n",
      "Cross-validated MAPE: (-0.45 + -0.40 + -0.38 + -0.43 + -0.61) / 5 = -0.45 +- 0.08\n",
      "Hyperparams (fold 1): {'svr__C': np.float64(37.32892926643571), 'svr__epsilon': 0.1, 'svr__gamma': np.float64(0.026788874464158525)}\n",
      "Hyperparams (fold 2): {'svr__C': np.float64(0.9258747122872903), 'svr__epsilon': 0.1, 'svr__gamma': np.float64(0.125)}\n",
      "Hyperparams (fold 3): {'svr__C': np.float64(1.7144879657061456), 'svr__epsilon': 0.01, 'svr__gamma': np.float64(0.09185840576722491)}\n",
      "Hyperparams (fold 4): {'svr__C': np.float64(1.7144879657061456), 'svr__epsilon': 0.1, 'svr__gamma': np.float64(0.06750373368076912)}\n",
      "Hyperparams (fold 5): {'svr__C': np.float64(10.886320001395017), 'svr__epsilon': 0.1, 'svr__gamma': np.float64(0.010631171876362321)}\n"
     ]
    },
    {
     "data": {
      "text/plain": [
       "({'fit_time': array([4.30839133, 4.38511658, 4.32347655, 4.32530093, 4.50060439]),\n",
       "  'score_time': array([0.0028863 , 0.00264645, 0.00302672, 0.00275731, 0.00262523]),\n",
       "  'estimator': [GridSearchCV(cv=5,\n",
       "                estimator=Pipeline(steps=[('standardscaler', StandardScaler()),\n",
       "                                          ('svr', SVR())]),\n",
       "                param_grid={'svr__C': array([  0.5       ,   0.92587471,   1.71448797,   3.1748021 ,\n",
       "            5.87893797,  10.88632   ,  20.1587368 ,  37.32892927,\n",
       "           69.12382329, 128.        ]),\n",
       "                            'svr__epsilon': [0.1, 0.01],\n",
       "                            'svr__gamma': array([0.0078125 , 0.01063117, 0.01446679, 0.01968627, 0.02678887,\n",
       "          0.03645403, 0.04960628, 0.06750373, 0.09185841, 0.125     ])},\n",
       "                return_train_score=True, scoring='neg_root_mean_squared_error'),\n",
       "   GridSearchCV(cv=5,\n",
       "                estimator=Pipeline(steps=[('standardscaler', StandardScaler()),\n",
       "                                          ('svr', SVR())]),\n",
       "                param_grid={'svr__C': array([  0.5       ,   0.92587471,   1.71448797,   3.1748021 ,\n",
       "            5.87893797,  10.88632   ,  20.1587368 ,  37.32892927,\n",
       "           69.12382329, 128.        ]),\n",
       "                            'svr__epsilon': [0.1, 0.01],\n",
       "                            'svr__gamma': array([0.0078125 , 0.01063117, 0.01446679, 0.01968627, 0.02678887,\n",
       "          0.03645403, 0.04960628, 0.06750373, 0.09185841, 0.125     ])},\n",
       "                return_train_score=True, scoring='neg_root_mean_squared_error'),\n",
       "   GridSearchCV(cv=5,\n",
       "                estimator=Pipeline(steps=[('standardscaler', StandardScaler()),\n",
       "                                          ('svr', SVR())]),\n",
       "                param_grid={'svr__C': array([  0.5       ,   0.92587471,   1.71448797,   3.1748021 ,\n",
       "            5.87893797,  10.88632   ,  20.1587368 ,  37.32892927,\n",
       "           69.12382329, 128.        ]),\n",
       "                            'svr__epsilon': [0.1, 0.01],\n",
       "                            'svr__gamma': array([0.0078125 , 0.01063117, 0.01446679, 0.01968627, 0.02678887,\n",
       "          0.03645403, 0.04960628, 0.06750373, 0.09185841, 0.125     ])},\n",
       "                return_train_score=True, scoring='neg_root_mean_squared_error'),\n",
       "   GridSearchCV(cv=5,\n",
       "                estimator=Pipeline(steps=[('standardscaler', StandardScaler()),\n",
       "                                          ('svr', SVR())]),\n",
       "                param_grid={'svr__C': array([  0.5       ,   0.92587471,   1.71448797,   3.1748021 ,\n",
       "            5.87893797,  10.88632   ,  20.1587368 ,  37.32892927,\n",
       "           69.12382329, 128.        ]),\n",
       "                            'svr__epsilon': [0.1, 0.01],\n",
       "                            'svr__gamma': array([0.0078125 , 0.01063117, 0.01446679, 0.01968627, 0.02678887,\n",
       "          0.03645403, 0.04960628, 0.06750373, 0.09185841, 0.125     ])},\n",
       "                return_train_score=True, scoring='neg_root_mean_squared_error'),\n",
       "   GridSearchCV(cv=5,\n",
       "                estimator=Pipeline(steps=[('standardscaler', StandardScaler()),\n",
       "                                          ('svr', SVR())]),\n",
       "                param_grid={'svr__C': array([  0.5       ,   0.92587471,   1.71448797,   3.1748021 ,\n",
       "            5.87893797,  10.88632   ,  20.1587368 ,  37.32892927,\n",
       "           69.12382329, 128.        ]),\n",
       "                            'svr__epsilon': [0.1, 0.01],\n",
       "                            'svr__gamma': array([0.0078125 , 0.01063117, 0.01446679, 0.01968627, 0.02678887,\n",
       "          0.03645403, 0.04960628, 0.06750373, 0.09185841, 0.125     ])},\n",
       "                return_train_score=True, scoring='neg_root_mean_squared_error')],\n",
       "  'test_R^2': array([0.44475735, 0.15316623, 0.00157103, 0.25899387, 0.15858082]),\n",
       "  'test_Bias_log': array([0.77510821, 1.02887131, 0.7573179 , 1.12420108, 1.53505718]),\n",
       "  'test_Bias': array([ 0.14795697,  0.05311064,  0.55344183, -0.02418318, -0.5253578 ]),\n",
       "  'test_MAE_log': array([1.61109541, 1.40240236, 1.55247777, 1.4037116 , 1.57362813]),\n",
       "  'test_MAE': array([-0.37244432, -0.42487193, -0.72678712, -0.35001828, -0.5682084 ]),\n",
       "  'test_RMSE': array([-0.49324359, -0.51356156, -0.89421927, -0.439164  , -0.61078416]),\n",
       "  'test_std': array([-0.47052947, -0.51080792, -0.70237471, -0.43849765, -0.31153886]),\n",
       "  \"test_Sen's slope\": array([ 0.72324265,  0.85737709, -0.42377635,  1.14572023, -0.26428746]),\n",
       "  'test_MAPE': array([-0.45290718, -0.40098303, -0.37595009, -0.42797665, -0.60539042])},\n",
       " Pipeline(steps=[('standardscaler', StandardScaler()),\n",
       "                 ('svr',\n",
       "                  SVR(C=np.float64(5.878937969102394), epsilon=0.01,\n",
       "                      gamma=np.float64(0.09185840576722491)))]))"
      ]
     },
     "execution_count": 50,
     "metadata": {},
     "output_type": "execute_result"
    }
   ],
   "source": [
    "rf = RandomForestRegressor(random_state=42)\n",
    "rf.fit(df_msi_rrs6_extra.iloc[:, :-1], df_msi_rrs6_extra['CHL'])\n",
    "importance = pd.Series(rf.feature_importances_, index=df_msi_rrs6_extra.iloc[:, :-1].columns).sort_values(ascending=False)\n",
    "top_features = importance.head(3).index.tolist()\n",
    "nested_cv(df_msi_rrs6_extra, 'MSI', top_features, param_grid, 'neg_root_mean_squared_error', SVR())"
   ]
  },
  {
   "cell_type": "markdown",
   "metadata": {},
   "source": [
    "* лучшая"
   ]
  },
  {
   "cell_type": "code",
   "execution_count": 51,
   "metadata": {},
   "outputs": [
    {
     "data": {
      "text/html": [
       "\n",
       "            <style>\n",
       "                .geemap-dark {\n",
       "                    --jp-widgets-color: white;\n",
       "                    --jp-widgets-label-color: white;\n",
       "                    --jp-ui-font-color1: white;\n",
       "                    --jp-layout-color2: #454545;\n",
       "                    background-color: #383838;\n",
       "                }\n",
       "\n",
       "                .geemap-dark .jupyter-button {\n",
       "                    --jp-layout-color3: #383838;\n",
       "                }\n",
       "\n",
       "                .geemap-colab {\n",
       "                    background-color: var(--colab-primary-surface-color, white);\n",
       "                }\n",
       "\n",
       "                .geemap-colab .jupyter-button {\n",
       "                    --jp-layout-color3: var(--colab-primary-surface-color, white);\n",
       "                }\n",
       "            </style>\n",
       "            "
      ],
      "text/plain": [
       "<IPython.core.display.HTML object>"
      ]
     },
     "metadata": {},
     "output_type": "display_data"
    },
    {
     "name": "stdout",
     "output_type": "stream",
     "text": [
      "Cross-validated R^2: (0.66 + 0.32 + 0.10 + 0.20 + 0.50) / 5 = 0.36 +- 0.20\n",
      "Cross-validated Bias_log: (0.87 + 1.08 + 0.84 + 1.06 + 1.41) / 5 = 1.05 +- 0.20\n",
      "Cross-validated Bias: (0.24 + -0.03 + 0.39 + 0.04 + -0.41) / 5 = 0.05 +- 0.27\n",
      "Cross-validated MAE_log: (1.29 + 1.30 + 1.44 + 1.43 + 1.44) / 5 = 1.38 +- 0.07\n",
      "Cross-validated MAE: (-0.33 + -0.32 + -0.61 + -0.37 + -0.44) / 5 = -0.42 +- 0.11\n",
      "Cross-validated RMSE: (-0.45 + -0.46 + -0.76 + -0.47 + -0.48) / 5 = -0.52 +- 0.12\n",
      "Cross-validated std: (-0.38 + -0.46 + -0.65 + -0.47 + -0.25) / 5 = -0.44 +- 0.13\n",
      "Cross-validated Sen's slope: (1.22 + 1.13 + 0.91 + 0.45 + 0.62) / 5 = 0.87 +- 0.29\n",
      "Cross-validated MAPE: (-0.23 + -0.38 + -0.34 + -0.45 + -0.45) / 5 = -0.37 +- 0.08\n",
      "Hyperparams (fold 1): {'randomforestregressor__max_depth': 15, 'randomforestregressor__max_features': 0.3, 'randomforestregressor__min_samples_split': 2, 'randomforestregressor__n_estimators': 32}\n",
      "Hyperparams (fold 2): {'randomforestregressor__max_depth': 5, 'randomforestregressor__max_features': 'sqrt', 'randomforestregressor__min_samples_split': 5, 'randomforestregressor__n_estimators': 32}\n",
      "Hyperparams (fold 3): {'randomforestregressor__max_depth': 10, 'randomforestregressor__max_features': 0.3, 'randomforestregressor__min_samples_split': 5, 'randomforestregressor__n_estimators': 64}\n",
      "Hyperparams (fold 4): {'randomforestregressor__max_depth': 5, 'randomforestregressor__max_features': 0.3, 'randomforestregressor__min_samples_split': 2, 'randomforestregressor__n_estimators': 32}\n",
      "Hyperparams (fold 5): {'randomforestregressor__max_depth': 5, 'randomforestregressor__max_features': 0.3, 'randomforestregressor__min_samples_split': 5, 'randomforestregressor__n_estimators': 64}\n"
     ]
    },
    {
     "data": {
      "text/plain": [
       "({'fit_time': array([ 9.16241908,  9.53297949,  9.73982978, 10.06351352,  9.87136912]),\n",
       "  'score_time': array([0.00430679, 0.00457048, 0.00633216, 0.00481248, 0.00628161]),\n",
       "  'estimator': [GridSearchCV(cv=5,\n",
       "                estimator=Pipeline(steps=[('standardscaler', StandardScaler()),\n",
       "                                          ('randomforestregressor',\n",
       "                                           RandomForestRegressor())]),\n",
       "                param_grid={'randomforestregressor__max_depth': [5, 10, 15],\n",
       "                            'randomforestregressor__max_features': ['sqrt', 0.3],\n",
       "                            'randomforestregressor__min_samples_split': [2, 5],\n",
       "                            'randomforestregressor__n_estimators': [32, 64, 128]},\n",
       "                return_train_score=True, scoring='neg_root_mean_squared_error'),\n",
       "   GridSearchCV(cv=5,\n",
       "                estimator=Pipeline(steps=[('standardscaler', StandardScaler()),\n",
       "                                          ('randomforestregressor',\n",
       "                                           RandomForestRegressor())]),\n",
       "                param_grid={'randomforestregressor__max_depth': [5, 10, 15],\n",
       "                            'randomforestregressor__max_features': ['sqrt', 0.3],\n",
       "                            'randomforestregressor__min_samples_split': [2, 5],\n",
       "                            'randomforestregressor__n_estimators': [32, 64, 128]},\n",
       "                return_train_score=True, scoring='neg_root_mean_squared_error'),\n",
       "   GridSearchCV(cv=5,\n",
       "                estimator=Pipeline(steps=[('standardscaler', StandardScaler()),\n",
       "                                          ('randomforestregressor',\n",
       "                                           RandomForestRegressor())]),\n",
       "                param_grid={'randomforestregressor__max_depth': [5, 10, 15],\n",
       "                            'randomforestregressor__max_features': ['sqrt', 0.3],\n",
       "                            'randomforestregressor__min_samples_split': [2, 5],\n",
       "                            'randomforestregressor__n_estimators': [32, 64, 128]},\n",
       "                return_train_score=True, scoring='neg_root_mean_squared_error'),\n",
       "   GridSearchCV(cv=5,\n",
       "                estimator=Pipeline(steps=[('standardscaler', StandardScaler()),\n",
       "                                          ('randomforestregressor',\n",
       "                                           RandomForestRegressor())]),\n",
       "                param_grid={'randomforestregressor__max_depth': [5, 10, 15],\n",
       "                            'randomforestregressor__max_features': ['sqrt', 0.3],\n",
       "                            'randomforestregressor__min_samples_split': [2, 5],\n",
       "                            'randomforestregressor__n_estimators': [32, 64, 128]},\n",
       "                return_train_score=True, scoring='neg_root_mean_squared_error'),\n",
       "   GridSearchCV(cv=5,\n",
       "                estimator=Pipeline(steps=[('standardscaler', StandardScaler()),\n",
       "                                          ('randomforestregressor',\n",
       "                                           RandomForestRegressor())]),\n",
       "                param_grid={'randomforestregressor__max_depth': [5, 10, 15],\n",
       "                            'randomforestregressor__max_features': ['sqrt', 0.3],\n",
       "                            'randomforestregressor__min_samples_split': [2, 5],\n",
       "                            'randomforestregressor__n_estimators': [32, 64, 128]},\n",
       "                return_train_score=True, scoring='neg_root_mean_squared_error')],\n",
       "  'test_R^2': array([0.65574683, 0.32309235, 0.10082178, 0.19823358, 0.50161591]),\n",
       "  'test_Bias_log': array([0.87172897, 1.07609428, 0.84287589, 1.06408666, 1.40589771]),\n",
       "  'test_Bias': array([ 0.23924529, -0.02946303,  0.39308085,  0.03821313, -0.41118903]),\n",
       "  'test_MAE_log': array([1.2907443 , 1.29951113, 1.43549854, 1.42952577, 1.43530149]),\n",
       "  'test_MAE': array([-0.32670065, -0.32223151, -0.61069539, -0.37369136, -0.44201976]),\n",
       "  'test_RMSE': array([-0.44880943, -0.4566048 , -0.75804176, -0.46995113, -0.47903695]),\n",
       "  'test_std': array([-0.37972568, -0.45565324, -0.6481626 , -0.46839494, -0.24576408]),\n",
       "  \"test_Sen's slope\": array([1.22102232, 1.12717399, 0.91093428, 0.44933891, 0.62086356]),\n",
       "  'test_MAPE': array([-0.23364535, -0.37727873, -0.33712397, -0.44971965, -0.45284943])},\n",
       " Pipeline(steps=[('standardscaler', StandardScaler()),\n",
       "                 ('randomforestregressor',\n",
       "                  RandomForestRegressor(max_depth=5, max_features='sqrt',\n",
       "                                        n_estimators=64))]))"
      ]
     },
     "execution_count": 51,
     "metadata": {},
     "output_type": "execute_result"
    }
   ],
   "source": [
    "nested_cv(df_msi_rrs6_extra, 'MSI', top_features, param_grid_rf, 'neg_root_mean_squared_error', RandomForestRegressor())    "
   ]
  },
  {
   "cell_type": "markdown",
   "metadata": {},
   "source": [
    "### bootstrap"
   ]
  },
  {
   "cell_type": "code",
   "execution_count": 62,
   "metadata": {},
   "outputs": [
    {
     "data": {
      "text/html": [
       "\n",
       "            <style>\n",
       "                .geemap-dark {\n",
       "                    --jp-widgets-color: white;\n",
       "                    --jp-widgets-label-color: white;\n",
       "                    --jp-ui-font-color1: white;\n",
       "                    --jp-layout-color2: #454545;\n",
       "                    background-color: #383838;\n",
       "                }\n",
       "\n",
       "                .geemap-dark .jupyter-button {\n",
       "                    --jp-layout-color3: #383838;\n",
       "                }\n",
       "\n",
       "                .geemap-colab {\n",
       "                    background-color: var(--colab-primary-surface-color, white);\n",
       "                }\n",
       "\n",
       "                .geemap-colab .jupyter-button {\n",
       "                    --jp-layout-color3: var(--colab-primary-surface-color, white);\n",
       "                }\n",
       "            </style>\n",
       "            "
      ],
      "text/plain": [
       "<IPython.core.display.HTML object>"
      ]
     },
     "metadata": {},
     "output_type": "display_data"
    }
   ],
   "source": [
    "def caledonia(model, n_resamples: int, df_rrs: pd.DataFrame) -> list:\n",
    "    \"\"\"_summary_\n",
    "\n",
    "    Args:\n",
    "        model: not trained\n",
    "        df_rrs (pd.DataFrame): columns[-2] == CHL\n",
    "\n",
    "    Returns:\n",
    "        pd.DataFrame: RMSE + Sen's slope (mean, confidence interaval, Kruskal test) for each models\n",
    "    \"\"\"\n",
    "\n",
    "    df_result = pd.DataFrame()\n",
    "    all_features = list(\n",
    "        itertools.chain.from_iterable(itertools.combinations(\n",
    "            df_rrs.columns[:-1], r) for r in range(1, 7))\n",
    "    )\n",
    "    np.random.seed(42)\n",
    "    bootstrap_samples_keys = np.random.choice(\n",
    "        df_rrs.index, (n_resamples, df_rrs.shape[0]), replace=True)\n",
    "    rmse_dict, sens_slope_dict = dict(), dict()\n",
    "    keys, number_of_bands_dict = dict(), dict()\n",
    "    rmse_full_dict, sens_slope_full_dict = dict(), dict()\n",
    "    rmse_ci_dict, sens_slope_ci_dict = dict(), dict()\n",
    "\n",
    "    for combo_idx, combo in enumerate(all_features):\n",
    "        rmse_bs_current, sens_slope_bs_current = np.zeros(\n",
    "            n_resamples, dtype=np.float64), np.zeros(n_resamples, dtype=np.float64)\n",
    "        number_of_bands_dict[combo_idx] = len(combo)\n",
    "\n",
    "        # ---\n",
    "        df_full = df_rrs.loc[:, combo].join(df_rrs['CHL'])\n",
    "        X_train_full, X_test_full, y_train_full, y_test_full = train_test_split(\n",
    "            df_full.iloc[:, :-1], df_full['CHL'],\n",
    "            test_size=30, random_state=42\n",
    "        )\n",
    "        pipe_full = make_pipeline(StandardScaler(), model())\n",
    "        pipe_full.fit(X_train_full, y_train_full)\n",
    "        y_pred_full = pipe_full.predict(X_test_full)\n",
    "        rmse_full_dict[combo_idx] = np.sqrt(\n",
    "            mean_squared_error(y_test_full, y_pred_full))\n",
    "        sens_slope_full_dict[combo_idx] = theilslopes(\n",
    "            y_pred_full, y_test_full).slope\n",
    "        # ---\n",
    "\n",
    "        for i, indecies_current in enumerate(bootstrap_samples_keys):\n",
    "            df_current = df_rrs.loc[indecies_current,\n",
    "                                    combo].join(df_rrs['CHL'])\n",
    "            X_train_current, X_test_current, y_train_current, y_test_current = train_test_split(\n",
    "                df_current.iloc[:, :-1], df_current['CHL'], test_size=30, random_state=42)\n",
    "            pipe = make_pipeline(StandardScaler(), model())\n",
    "            pipe.fit(X_train_current, y_train_current)\n",
    "            y_pred_current = pipe.predict(X_test_current)\n",
    "            rmse_bs_current[i], sens_slope_bs_current[i] = np.sqrt(mean_squared_error(\n",
    "                y_pred_current, y_test_current)), theilslopes(y_pred_current, y_test_current).slope\n",
    "        \n",
    "        rmse_ci_dict[combo_idx] = (_s1 := sorted(rmse_bs_current))[-2] - _s1[1]\n",
    "        sens_slope_ci_dict[combo_idx] = (_s2 := sorted(sens_slope_bs_current))[-2] - _s2[1]\n",
    "        rmse_dict[combo_idx], sens_slope_dict[combo_idx] = rmse_bs_current.mean(\n",
    "        ), sens_slope_bs_current.mean()\n",
    "        keys[combo_idx] = combo\n",
    "\n",
    "    df_result['Number of used bands'] = number_of_bands_dict\n",
    "\n",
    "    df_result['RMSE initial'] = rmse_full_dict\n",
    "    df_result['RMSE mean'] = rmse_dict\n",
    "    df_result['RMSE CI Length'] = rmse_ci_dict\n",
    "\n",
    "    df_result['Sen\\'s slope initial'] = sens_slope_full_dict\n",
    "    df_result['Sen\\'s slope mean'] = sens_slope_dict\n",
    "    df_result['Sen\\'s slope CI Length'] = sens_slope_ci_dict\n",
    "\n",
    "    return df_result, keys"
   ]
  },
  {
   "cell_type": "code",
   "execution_count": 63,
   "metadata": {},
   "outputs": [
    {
     "data": {
      "text/html": [
       "\n",
       "            <style>\n",
       "                .geemap-dark {\n",
       "                    --jp-widgets-color: white;\n",
       "                    --jp-widgets-label-color: white;\n",
       "                    --jp-ui-font-color1: white;\n",
       "                    --jp-layout-color2: #454545;\n",
       "                    background-color: #383838;\n",
       "                }\n",
       "\n",
       "                .geemap-dark .jupyter-button {\n",
       "                    --jp-layout-color3: #383838;\n",
       "                }\n",
       "\n",
       "                .geemap-colab {\n",
       "                    background-color: var(--colab-primary-surface-color, white);\n",
       "                }\n",
       "\n",
       "                .geemap-colab .jupyter-button {\n",
       "                    --jp-layout-color3: var(--colab-primary-surface-color, white);\n",
       "                }\n",
       "            </style>\n",
       "            "
      ],
      "text/plain": [
       "<IPython.core.display.HTML object>"
      ]
     },
     "metadata": {},
     "output_type": "display_data"
    }
   ],
   "source": [
    "bs_result_msi = caledonia(SVR, 50, create_rrs_df_rgr(df_msi, dict_stats))"
   ]
  },
  {
   "cell_type": "code",
   "execution_count": 64,
   "metadata": {},
   "outputs": [
    {
     "data": {
      "text/html": [
       "\n",
       "            <style>\n",
       "                .geemap-dark {\n",
       "                    --jp-widgets-color: white;\n",
       "                    --jp-widgets-label-color: white;\n",
       "                    --jp-ui-font-color1: white;\n",
       "                    --jp-layout-color2: #454545;\n",
       "                    background-color: #383838;\n",
       "                }\n",
       "\n",
       "                .geemap-dark .jupyter-button {\n",
       "                    --jp-layout-color3: #383838;\n",
       "                }\n",
       "\n",
       "                .geemap-colab {\n",
       "                    background-color: var(--colab-primary-surface-color, white);\n",
       "                }\n",
       "\n",
       "                .geemap-colab .jupyter-button {\n",
       "                    --jp-layout-color3: var(--colab-primary-surface-color, white);\n",
       "                }\n",
       "            </style>\n",
       "            "
      ],
      "text/plain": [
       "<IPython.core.display.HTML object>"
      ]
     },
     "metadata": {},
     "output_type": "display_data"
    },
    {
     "data": {
      "text/html": [
       "<div>\n",
       "<style scoped>\n",
       "    .dataframe tbody tr th:only-of-type {\n",
       "        vertical-align: middle;\n",
       "    }\n",
       "\n",
       "    .dataframe tbody tr th {\n",
       "        vertical-align: top;\n",
       "    }\n",
       "\n",
       "    .dataframe thead th {\n",
       "        text-align: right;\n",
       "    }\n",
       "</style>\n",
       "<table border=\"1\" class=\"dataframe\">\n",
       "  <thead>\n",
       "    <tr style=\"text-align: right;\">\n",
       "      <th></th>\n",
       "      <th>Number of used bands</th>\n",
       "      <th>RMSE initial</th>\n",
       "      <th>RMSE mean</th>\n",
       "      <th>RMSE CI Length</th>\n",
       "      <th>Sen's slope initial</th>\n",
       "      <th>Sen's slope mean</th>\n",
       "      <th>Sen's slope CI Length</th>\n",
       "    </tr>\n",
       "  </thead>\n",
       "  <tbody>\n",
       "    <tr>\n",
       "      <th>count</th>\n",
       "      <td>63.000000</td>\n",
       "      <td>63.000000</td>\n",
       "      <td>63.000000</td>\n",
       "      <td>63.000000</td>\n",
       "      <td>63.000000</td>\n",
       "      <td>63.000000</td>\n",
       "      <td>63.000000</td>\n",
       "    </tr>\n",
       "    <tr>\n",
       "      <th>mean</th>\n",
       "      <td>3.047619</td>\n",
       "      <td>0.495612</td>\n",
       "      <td>0.616138</td>\n",
       "      <td>0.360871</td>\n",
       "      <td>0.013599</td>\n",
       "      <td>0.028163</td>\n",
       "      <td>0.145827</td>\n",
       "    </tr>\n",
       "    <tr>\n",
       "      <th>std</th>\n",
       "      <td>1.183605</td>\n",
       "      <td>0.003754</td>\n",
       "      <td>0.001803</td>\n",
       "      <td>0.010615</td>\n",
       "      <td>0.005080</td>\n",
       "      <td>0.002938</td>\n",
       "      <td>0.012263</td>\n",
       "    </tr>\n",
       "    <tr>\n",
       "      <th>min</th>\n",
       "      <td>1.000000</td>\n",
       "      <td>0.488219</td>\n",
       "      <td>0.611877</td>\n",
       "      <td>0.319296</td>\n",
       "      <td>0.002567</td>\n",
       "      <td>0.019044</td>\n",
       "      <td>0.122667</td>\n",
       "    </tr>\n",
       "    <tr>\n",
       "      <th>25%</th>\n",
       "      <td>2.000000</td>\n",
       "      <td>0.493946</td>\n",
       "      <td>0.614820</td>\n",
       "      <td>0.353976</td>\n",
       "      <td>0.010412</td>\n",
       "      <td>0.025937</td>\n",
       "      <td>0.137573</td>\n",
       "    </tr>\n",
       "    <tr>\n",
       "      <th>50%</th>\n",
       "      <td>3.000000</td>\n",
       "      <td>0.495017</td>\n",
       "      <td>0.615903</td>\n",
       "      <td>0.360378</td>\n",
       "      <td>0.013911</td>\n",
       "      <td>0.028533</td>\n",
       "      <td>0.143039</td>\n",
       "    </tr>\n",
       "    <tr>\n",
       "      <th>75%</th>\n",
       "      <td>4.000000</td>\n",
       "      <td>0.497038</td>\n",
       "      <td>0.616769</td>\n",
       "      <td>0.368964</td>\n",
       "      <td>0.017189</td>\n",
       "      <td>0.029740</td>\n",
       "      <td>0.155450</td>\n",
       "    </tr>\n",
       "    <tr>\n",
       "      <th>max</th>\n",
       "      <td>6.000000</td>\n",
       "      <td>0.519654</td>\n",
       "      <td>0.620876</td>\n",
       "      <td>0.376229</td>\n",
       "      <td>0.026262</td>\n",
       "      <td>0.035520</td>\n",
       "      <td>0.174934</td>\n",
       "    </tr>\n",
       "  </tbody>\n",
       "</table>\n",
       "</div>"
      ],
      "text/plain": [
       "       Number of used bands  RMSE initial  RMSE mean  RMSE CI Length  \\\n",
       "count             63.000000     63.000000  63.000000       63.000000   \n",
       "mean               3.047619      0.495612   0.616138        0.360871   \n",
       "std                1.183605      0.003754   0.001803        0.010615   \n",
       "min                1.000000      0.488219   0.611877        0.319296   \n",
       "25%                2.000000      0.493946   0.614820        0.353976   \n",
       "50%                3.000000      0.495017   0.615903        0.360378   \n",
       "75%                4.000000      0.497038   0.616769        0.368964   \n",
       "max                6.000000      0.519654   0.620876        0.376229   \n",
       "\n",
       "       Sen's slope initial  Sen's slope mean  Sen's slope CI Length  \n",
       "count            63.000000         63.000000              63.000000  \n",
       "mean              0.013599          0.028163               0.145827  \n",
       "std               0.005080          0.002938               0.012263  \n",
       "min               0.002567          0.019044               0.122667  \n",
       "25%               0.010412          0.025937               0.137573  \n",
       "50%               0.013911          0.028533               0.143039  \n",
       "75%               0.017189          0.029740               0.155450  \n",
       "max               0.026262          0.035520               0.174934  "
      ]
     },
     "execution_count": 64,
     "metadata": {},
     "output_type": "execute_result"
    }
   ],
   "source": [
    "bs_result_msi[0].describe()"
   ]
  },
  {
   "cell_type": "code",
   "execution_count": null,
   "metadata": {},
   "outputs": [
    {
     "data": {
      "text/html": [
       "\n",
       "            <style>\n",
       "                .geemap-dark {\n",
       "                    --jp-widgets-color: white;\n",
       "                    --jp-widgets-label-color: white;\n",
       "                    --jp-ui-font-color1: white;\n",
       "                    --jp-layout-color2: #454545;\n",
       "                    background-color: #383838;\n",
       "                }\n",
       "\n",
       "                .geemap-dark .jupyter-button {\n",
       "                    --jp-layout-color3: #383838;\n",
       "                }\n",
       "\n",
       "                .geemap-colab {\n",
       "                    background-color: var(--colab-primary-surface-color, white);\n",
       "                }\n",
       "\n",
       "                .geemap-colab .jupyter-button {\n",
       "                    --jp-layout-color3: var(--colab-primary-surface-color, white);\n",
       "                }\n",
       "            </style>\n",
       "            "
      ],
      "text/plain": [
       "<IPython.core.display.HTML object>"
      ]
     },
     "metadata": {},
     "output_type": "display_data"
    },
    {
     "data": {
      "text/html": [
       "<div>\n",
       "<style scoped>\n",
       "    .dataframe tbody tr th:only-of-type {\n",
       "        vertical-align: middle;\n",
       "    }\n",
       "\n",
       "    .dataframe tbody tr th {\n",
       "        vertical-align: top;\n",
       "    }\n",
       "\n",
       "    .dataframe thead th {\n",
       "        text-align: right;\n",
       "    }\n",
       "</style>\n",
       "<table border=\"1\" class=\"dataframe\">\n",
       "  <thead>\n",
       "    <tr style=\"text-align: right;\">\n",
       "      <th></th>\n",
       "      <th>Number of used bands</th>\n",
       "      <th>RMSE initial</th>\n",
       "      <th>RMSE mean</th>\n",
       "      <th>RMSE CI Length</th>\n",
       "      <th>Sen's slope initial</th>\n",
       "      <th>Sen's slope mean</th>\n",
       "      <th>Sen's slope CI Length</th>\n",
       "    </tr>\n",
       "  </thead>\n",
       "  <tbody>\n",
       "    <tr>\n",
       "      <th>2</th>\n",
       "      <td>1</td>\n",
       "      <td>0.519654</td>\n",
       "      <td>0.611877</td>\n",
       "      <td>0.355298</td>\n",
       "      <td>0.003294</td>\n",
       "      <td>0.035520</td>\n",
       "      <td>0.157446</td>\n",
       "    </tr>\n",
       "    <tr>\n",
       "      <th>11</th>\n",
       "      <td>2</td>\n",
       "      <td>0.498635</td>\n",
       "      <td>0.613154</td>\n",
       "      <td>0.353909</td>\n",
       "      <td>0.020937</td>\n",
       "      <td>0.032218</td>\n",
       "      <td>0.148719</td>\n",
       "    </tr>\n",
       "    <tr>\n",
       "      <th>31</th>\n",
       "      <td>3</td>\n",
       "      <td>0.497308</td>\n",
       "      <td>0.613791</td>\n",
       "      <td>0.362441</td>\n",
       "      <td>0.021791</td>\n",
       "      <td>0.031068</td>\n",
       "      <td>0.153252</td>\n",
       "    </tr>\n",
       "    <tr>\n",
       "      <th>32</th>\n",
       "      <td>3</td>\n",
       "      <td>0.499115</td>\n",
       "      <td>0.613816</td>\n",
       "      <td>0.363248</td>\n",
       "      <td>0.018791</td>\n",
       "      <td>0.032179</td>\n",
       "      <td>0.171493</td>\n",
       "    </tr>\n",
       "    <tr>\n",
       "      <th>33</th>\n",
       "      <td>3</td>\n",
       "      <td>0.497260</td>\n",
       "      <td>0.613930</td>\n",
       "      <td>0.364005</td>\n",
       "      <td>0.015931</td>\n",
       "      <td>0.032212</td>\n",
       "      <td>0.174934</td>\n",
       "    </tr>\n",
       "    <tr>\n",
       "      <th>15</th>\n",
       "      <td>2</td>\n",
       "      <td>0.496989</td>\n",
       "      <td>0.614144</td>\n",
       "      <td>0.367694</td>\n",
       "      <td>0.022783</td>\n",
       "      <td>0.033414</td>\n",
       "      <td>0.172847</td>\n",
       "    </tr>\n",
       "    <tr>\n",
       "      <th>16</th>\n",
       "      <td>2</td>\n",
       "      <td>0.499190</td>\n",
       "      <td>0.614156</td>\n",
       "      <td>0.369387</td>\n",
       "      <td>0.018126</td>\n",
       "      <td>0.033214</td>\n",
       "      <td>0.150843</td>\n",
       "    </tr>\n",
       "    <tr>\n",
       "      <th>7</th>\n",
       "      <td>2</td>\n",
       "      <td>0.493889</td>\n",
       "      <td>0.614216</td>\n",
       "      <td>0.339077</td>\n",
       "      <td>0.018280</td>\n",
       "      <td>0.030912</td>\n",
       "      <td>0.143726</td>\n",
       "    </tr>\n",
       "    <tr>\n",
       "      <th>21</th>\n",
       "      <td>3</td>\n",
       "      <td>0.494339</td>\n",
       "      <td>0.614241</td>\n",
       "      <td>0.344068</td>\n",
       "      <td>0.018095</td>\n",
       "      <td>0.028960</td>\n",
       "      <td>0.138012</td>\n",
       "    </tr>\n",
       "    <tr>\n",
       "      <th>41</th>\n",
       "      <td>4</td>\n",
       "      <td>0.494242</td>\n",
       "      <td>0.614325</td>\n",
       "      <td>0.353015</td>\n",
       "      <td>0.017476</td>\n",
       "      <td>0.029000</td>\n",
       "      <td>0.136007</td>\n",
       "    </tr>\n",
       "  </tbody>\n",
       "</table>\n",
       "</div>"
      ],
      "text/plain": [
       "    Number of used bands  RMSE initial  RMSE mean  RMSE CI Length  \\\n",
       "2                      1      0.519654   0.611877        0.355298   \n",
       "11                     2      0.498635   0.613154        0.353909   \n",
       "31                     3      0.497308   0.613791        0.362441   \n",
       "32                     3      0.499115   0.613816        0.363248   \n",
       "33                     3      0.497260   0.613930        0.364005   \n",
       "15                     2      0.496989   0.614144        0.367694   \n",
       "16                     2      0.499190   0.614156        0.369387   \n",
       "7                      2      0.493889   0.614216        0.339077   \n",
       "21                     3      0.494339   0.614241        0.344068   \n",
       "41                     4      0.494242   0.614325        0.353015   \n",
       "\n",
       "    Sen's slope initial  Sen's slope mean  Sen's slope CI Length  \n",
       "2              0.003294          0.035520               0.157446  \n",
       "11             0.020937          0.032218               0.148719  \n",
       "31             0.021791          0.031068               0.153252  \n",
       "32             0.018791          0.032179               0.171493  \n",
       "33             0.015931          0.032212               0.174934  \n",
       "15             0.022783          0.033414               0.172847  \n",
       "16             0.018126          0.033214               0.150843  \n",
       "7              0.018280          0.030912               0.143726  \n",
       "21             0.018095          0.028960               0.138012  \n",
       "41             0.017476          0.029000               0.136007  "
      ]
     },
     "execution_count": 65,
     "metadata": {},
     "output_type": "execute_result"
    }
   ],
   "source": [
    "bs_result_msi[0].sort_values('RMSE mean').head(10)"
   ]
  },
  {
   "cell_type": "code",
   "execution_count": 66,
   "metadata": {},
   "outputs": [
    {
     "data": {
      "text/html": [
       "\n",
       "            <style>\n",
       "                .geemap-dark {\n",
       "                    --jp-widgets-color: white;\n",
       "                    --jp-widgets-label-color: white;\n",
       "                    --jp-ui-font-color1: white;\n",
       "                    --jp-layout-color2: #454545;\n",
       "                    background-color: #383838;\n",
       "                }\n",
       "\n",
       "                .geemap-dark .jupyter-button {\n",
       "                    --jp-layout-color3: #383838;\n",
       "                }\n",
       "\n",
       "                .geemap-colab {\n",
       "                    background-color: var(--colab-primary-surface-color, white);\n",
       "                }\n",
       "\n",
       "                .geemap-colab .jupyter-button {\n",
       "                    --jp-layout-color3: var(--colab-primary-surface-color, white);\n",
       "                }\n",
       "            </style>\n",
       "            "
      ],
      "text/plain": [
       "<IPython.core.display.HTML object>"
      ]
     },
     "metadata": {},
     "output_type": "display_data"
    },
    {
     "data": {
      "text/html": [
       "<div>\n",
       "<style scoped>\n",
       "    .dataframe tbody tr th:only-of-type {\n",
       "        vertical-align: middle;\n",
       "    }\n",
       "\n",
       "    .dataframe tbody tr th {\n",
       "        vertical-align: top;\n",
       "    }\n",
       "\n",
       "    .dataframe thead th {\n",
       "        text-align: right;\n",
       "    }\n",
       "</style>\n",
       "<table border=\"1\" class=\"dataframe\">\n",
       "  <thead>\n",
       "    <tr style=\"text-align: right;\">\n",
       "      <th></th>\n",
       "      <th>Number of used bands</th>\n",
       "      <th>RMSE initial</th>\n",
       "      <th>RMSE mean</th>\n",
       "      <th>RMSE CI Length</th>\n",
       "      <th>Sen's slope initial</th>\n",
       "      <th>Sen's slope mean</th>\n",
       "      <th>Sen's slope CI Length</th>\n",
       "    </tr>\n",
       "  </thead>\n",
       "  <tbody>\n",
       "    <tr>\n",
       "      <th>0</th>\n",
       "      <td>1</td>\n",
       "      <td>0.488219</td>\n",
       "      <td>0.620876</td>\n",
       "      <td>0.319296</td>\n",
       "      <td>0.006942</td>\n",
       "      <td>0.019044</td>\n",
       "      <td>0.124930</td>\n",
       "    </tr>\n",
       "    <tr>\n",
       "      <th>6</th>\n",
       "      <td>2</td>\n",
       "      <td>0.491444</td>\n",
       "      <td>0.616304</td>\n",
       "      <td>0.339064</td>\n",
       "      <td>0.014723</td>\n",
       "      <td>0.023238</td>\n",
       "      <td>0.129970</td>\n",
       "    </tr>\n",
       "    <tr>\n",
       "      <th>7</th>\n",
       "      <td>2</td>\n",
       "      <td>0.493889</td>\n",
       "      <td>0.614216</td>\n",
       "      <td>0.339077</td>\n",
       "      <td>0.018280</td>\n",
       "      <td>0.030912</td>\n",
       "      <td>0.143726</td>\n",
       "    </tr>\n",
       "    <tr>\n",
       "      <th>21</th>\n",
       "      <td>3</td>\n",
       "      <td>0.494339</td>\n",
       "      <td>0.614241</td>\n",
       "      <td>0.344068</td>\n",
       "      <td>0.018095</td>\n",
       "      <td>0.028960</td>\n",
       "      <td>0.138012</td>\n",
       "    </tr>\n",
       "    <tr>\n",
       "      <th>10</th>\n",
       "      <td>2</td>\n",
       "      <td>0.491845</td>\n",
       "      <td>0.619488</td>\n",
       "      <td>0.344855</td>\n",
       "      <td>0.003419</td>\n",
       "      <td>0.023367</td>\n",
       "      <td>0.142474</td>\n",
       "    </tr>\n",
       "    <tr>\n",
       "      <th>9</th>\n",
       "      <td>2</td>\n",
       "      <td>0.492804</td>\n",
       "      <td>0.618540</td>\n",
       "      <td>0.345565</td>\n",
       "      <td>0.011127</td>\n",
       "      <td>0.024543</td>\n",
       "      <td>0.143303</td>\n",
       "    </tr>\n",
       "    <tr>\n",
       "      <th>8</th>\n",
       "      <td>2</td>\n",
       "      <td>0.490842</td>\n",
       "      <td>0.618034</td>\n",
       "      <td>0.348331</td>\n",
       "      <td>0.014497</td>\n",
       "      <td>0.024940</td>\n",
       "      <td>0.129108</td>\n",
       "    </tr>\n",
       "    <tr>\n",
       "      <th>22</th>\n",
       "      <td>3</td>\n",
       "      <td>0.492351</td>\n",
       "      <td>0.615757</td>\n",
       "      <td>0.352523</td>\n",
       "      <td>0.016901</td>\n",
       "      <td>0.025342</td>\n",
       "      <td>0.128376</td>\n",
       "    </tr>\n",
       "    <tr>\n",
       "      <th>27</th>\n",
       "      <td>3</td>\n",
       "      <td>0.493924</td>\n",
       "      <td>0.615393</td>\n",
       "      <td>0.353006</td>\n",
       "      <td>0.015557</td>\n",
       "      <td>0.029806</td>\n",
       "      <td>0.143414</td>\n",
       "    </tr>\n",
       "    <tr>\n",
       "      <th>41</th>\n",
       "      <td>4</td>\n",
       "      <td>0.494242</td>\n",
       "      <td>0.614325</td>\n",
       "      <td>0.353015</td>\n",
       "      <td>0.017476</td>\n",
       "      <td>0.029000</td>\n",
       "      <td>0.136007</td>\n",
       "    </tr>\n",
       "  </tbody>\n",
       "</table>\n",
       "</div>"
      ],
      "text/plain": [
       "    Number of used bands  RMSE initial  RMSE mean  RMSE CI Length  \\\n",
       "0                      1      0.488219   0.620876        0.319296   \n",
       "6                      2      0.491444   0.616304        0.339064   \n",
       "7                      2      0.493889   0.614216        0.339077   \n",
       "21                     3      0.494339   0.614241        0.344068   \n",
       "10                     2      0.491845   0.619488        0.344855   \n",
       "9                      2      0.492804   0.618540        0.345565   \n",
       "8                      2      0.490842   0.618034        0.348331   \n",
       "22                     3      0.492351   0.615757        0.352523   \n",
       "27                     3      0.493924   0.615393        0.353006   \n",
       "41                     4      0.494242   0.614325        0.353015   \n",
       "\n",
       "    Sen's slope initial  Sen's slope mean  Sen's slope CI Length  \n",
       "0              0.006942          0.019044               0.124930  \n",
       "6              0.014723          0.023238               0.129970  \n",
       "7              0.018280          0.030912               0.143726  \n",
       "21             0.018095          0.028960               0.138012  \n",
       "10             0.003419          0.023367               0.142474  \n",
       "9              0.011127          0.024543               0.143303  \n",
       "8              0.014497          0.024940               0.129108  \n",
       "22             0.016901          0.025342               0.128376  \n",
       "27             0.015557          0.029806               0.143414  \n",
       "41             0.017476          0.029000               0.136007  "
      ]
     },
     "execution_count": 66,
     "metadata": {},
     "output_type": "execute_result"
    }
   ],
   "source": [
    "bs_result_msi[0].sort_values('RMSE CI Length').head(10)"
   ]
  },
  {
   "cell_type": "code",
   "execution_count": 67,
   "metadata": {},
   "outputs": [
    {
     "data": {
      "text/html": [
       "\n",
       "            <style>\n",
       "                .geemap-dark {\n",
       "                    --jp-widgets-color: white;\n",
       "                    --jp-widgets-label-color: white;\n",
       "                    --jp-ui-font-color1: white;\n",
       "                    --jp-layout-color2: #454545;\n",
       "                    background-color: #383838;\n",
       "                }\n",
       "\n",
       "                .geemap-dark .jupyter-button {\n",
       "                    --jp-layout-color3: #383838;\n",
       "                }\n",
       "\n",
       "                .geemap-colab {\n",
       "                    background-color: var(--colab-primary-surface-color, white);\n",
       "                }\n",
       "\n",
       "                .geemap-colab .jupyter-button {\n",
       "                    --jp-layout-color3: var(--colab-primary-surface-color, white);\n",
       "                }\n",
       "            </style>\n",
       "            "
      ],
      "text/plain": [
       "<IPython.core.display.HTML object>"
      ]
     },
     "metadata": {},
     "output_type": "display_data"
    },
    {
     "data": {
      "text/html": [
       "<div>\n",
       "<style scoped>\n",
       "    .dataframe tbody tr th:only-of-type {\n",
       "        vertical-align: middle;\n",
       "    }\n",
       "\n",
       "    .dataframe tbody tr th {\n",
       "        vertical-align: top;\n",
       "    }\n",
       "\n",
       "    .dataframe thead th {\n",
       "        text-align: right;\n",
       "    }\n",
       "</style>\n",
       "<table border=\"1\" class=\"dataframe\">\n",
       "  <thead>\n",
       "    <tr style=\"text-align: right;\">\n",
       "      <th></th>\n",
       "      <th>Number of used bands</th>\n",
       "      <th>RMSE initial</th>\n",
       "      <th>RMSE mean</th>\n",
       "      <th>RMSE CI Length</th>\n",
       "      <th>Sen's slope initial</th>\n",
       "      <th>Sen's slope mean</th>\n",
       "      <th>Sen's slope CI Length</th>\n",
       "    </tr>\n",
       "  </thead>\n",
       "  <tbody>\n",
       "    <tr>\n",
       "      <th>11</th>\n",
       "      <td>2</td>\n",
       "      <td>0.498635</td>\n",
       "      <td>0.613154</td>\n",
       "      <td>0.353909</td>\n",
       "      <td>0.020937</td>\n",
       "      <td>0.032218</td>\n",
       "      <td>0.148719</td>\n",
       "    </tr>\n",
       "    <tr>\n",
       "      <th>31</th>\n",
       "      <td>3</td>\n",
       "      <td>0.497308</td>\n",
       "      <td>0.613791</td>\n",
       "      <td>0.362441</td>\n",
       "      <td>0.021791</td>\n",
       "      <td>0.031068</td>\n",
       "      <td>0.153252</td>\n",
       "    </tr>\n",
       "    <tr>\n",
       "      <th>21</th>\n",
       "      <td>3</td>\n",
       "      <td>0.494339</td>\n",
       "      <td>0.614241</td>\n",
       "      <td>0.344068</td>\n",
       "      <td>0.018095</td>\n",
       "      <td>0.028960</td>\n",
       "      <td>0.138012</td>\n",
       "    </tr>\n",
       "  </tbody>\n",
       "</table>\n",
       "</div>"
      ],
      "text/plain": [
       "    Number of used bands  RMSE initial  RMSE mean  RMSE CI Length  \\\n",
       "11                     2      0.498635   0.613154        0.353909   \n",
       "31                     3      0.497308   0.613791        0.362441   \n",
       "21                     3      0.494339   0.614241        0.344068   \n",
       "\n",
       "    Sen's slope initial  Sen's slope mean  Sen's slope CI Length  \n",
       "11             0.020937          0.032218               0.148719  \n",
       "31             0.021791          0.031068               0.153252  \n",
       "21             0.018095          0.028960               0.138012  "
      ]
     },
     "execution_count": 67,
     "metadata": {},
     "output_type": "execute_result"
    }
   ],
   "source": [
    "bs_result_msi[0].sort_values('RMSE CI Length').loc[[11, 31, 21], :]"
   ]
  },
  {
   "cell_type": "code",
   "execution_count": 68,
   "metadata": {},
   "outputs": [
    {
     "data": {
      "text/html": [
       "\n",
       "            <style>\n",
       "                .geemap-dark {\n",
       "                    --jp-widgets-color: white;\n",
       "                    --jp-widgets-label-color: white;\n",
       "                    --jp-ui-font-color1: white;\n",
       "                    --jp-layout-color2: #454545;\n",
       "                    background-color: #383838;\n",
       "                }\n",
       "\n",
       "                .geemap-dark .jupyter-button {\n",
       "                    --jp-layout-color3: #383838;\n",
       "                }\n",
       "\n",
       "                .geemap-colab {\n",
       "                    background-color: var(--colab-primary-surface-color, white);\n",
       "                }\n",
       "\n",
       "                .geemap-colab .jupyter-button {\n",
       "                    --jp-layout-color3: var(--colab-primary-surface-color, white);\n",
       "                }\n",
       "            </style>\n",
       "            "
      ],
      "text/plain": [
       "<IPython.core.display.HTML object>"
      ]
     },
     "metadata": {},
     "output_type": "display_data"
    }
   ],
   "source": [
    "___ = create_rrs_df_rgr(df_msi, dict_stats)"
   ]
  },
  {
   "cell_type": "code",
   "execution_count": 69,
   "metadata": {},
   "outputs": [
    {
     "data": {
      "text/html": [
       "\n",
       "            <style>\n",
       "                .geemap-dark {\n",
       "                    --jp-widgets-color: white;\n",
       "                    --jp-widgets-label-color: white;\n",
       "                    --jp-ui-font-color1: white;\n",
       "                    --jp-layout-color2: #454545;\n",
       "                    background-color: #383838;\n",
       "                }\n",
       "\n",
       "                .geemap-dark .jupyter-button {\n",
       "                    --jp-layout-color3: #383838;\n",
       "                }\n",
       "\n",
       "                .geemap-colab {\n",
       "                    background-color: var(--colab-primary-surface-color, white);\n",
       "                }\n",
       "\n",
       "                .geemap-colab .jupyter-button {\n",
       "                    --jp-layout-color3: var(--colab-primary-surface-color, white);\n",
       "                }\n",
       "            </style>\n",
       "            "
      ],
      "text/plain": [
       "<IPython.core.display.HTML object>"
      ]
     },
     "metadata": {},
     "output_type": "display_data"
    },
    {
     "data": {
      "image/png": "[encoded data removed]",
      "text/plain": [
       "<Figure size 1400x700 with 1 Axes>"
      ]
     },
     "metadata": {},
     "output_type": "display_data"
    },
    {
     "name": "stdout",
     "output_type": "stream",
     "text": [
      "-0.6016979157244212\n",
      "Cross-validated R^2: (0.01 + 0.15 + 0.01 + 0.05 + 0.04) / 5 = 0.05\n",
      "Cross-validated Bias_log: (1.19 + 1.07 + 0.77 + 1.19 + 1.30) / 5 = 1.11\n",
      "Cross-validated Bias: (-0.02 + 0.03 + 0.53 + -0.05 + -0.39) / 5 = 0.02\n",
      "Cross-validated MAE_log: (1.63 + 1.47 + 1.56 + 1.48 + 1.52) / 5 = 1.53\n",
      "Cross-validated MAE: (-0.53 + -0.49 + -0.73 + -0.40 + -0.54) / 5 = -0.54\n",
      "Cross-validated RMSE: (-0.63 + -0.55 + -0.88 + -0.50 + -0.81) / 5 = -0.67\n",
      "Cross-validated std: (-0.63 + -0.55 + -0.70 + -0.50 + -0.71) / 5 = -0.62\n",
      "Cross-validated Sen's slope: (-5.92 + -32.67 + 2.01 + -1.48 + 0.22) / 5 = -7.57\n",
      "Cross-validated MAPE: (-0.83 + -0.47 + -0.38 + -0.80 + -0.59) / 5 = -0.62\n",
      "\n",
      "Hyperparams (fold number = 1): {'svr__C': np.float64(1.7144879657061456), 'svr__epsilon': 0.01, 'svr__gamma': np.float64(0.010631171876362321)}\n",
      "Hyperparams (fold number = 2): {'svr__C': np.float64(0.5), 'svr__epsilon': 0.01, 'svr__gamma': np.float64(0.026788874464158525)}\n",
      "Hyperparams (fold number = 3): {'svr__C': np.float64(37.32892926643571), 'svr__epsilon': 0.01, 'svr__gamma': np.float64(0.014466792379488917)}\n",
      "Hyperparams (fold number = 4): {'svr__C': np.float64(0.9258747122872903), 'svr__epsilon': 0.01, 'svr__gamma': np.float64(0.026788874464158525)}\n",
      "Hyperparams (fold number = 5): {'svr__C': np.float64(128.0), 'svr__epsilon': 0.01, 'svr__gamma': np.float64(0.01968626640460739)}\n"
     ]
    },
    {
     "data": {
      "text/html": [
       "<div>\n",
       "<style scoped>\n",
       "    .dataframe tbody tr th:only-of-type {\n",
       "        vertical-align: middle;\n",
       "    }\n",
       "\n",
       "    .dataframe tbody tr th {\n",
       "        vertical-align: top;\n",
       "    }\n",
       "\n",
       "    .dataframe thead th {\n",
       "        text-align: right;\n",
       "    }\n",
       "</style>\n",
       "<table border=\"1\" class=\"dataframe\">\n",
       "  <thead>\n",
       "    <tr style=\"text-align: right;\">\n",
       "      <th></th>\n",
       "      <th>R^2</th>\n",
       "      <th>Bias_log</th>\n",
       "      <th>Bias</th>\n",
       "      <th>MAE_log</th>\n",
       "      <th>MAE</th>\n",
       "      <th>RMSE</th>\n",
       "      <th>std</th>\n",
       "      <th>SS</th>\n",
       "      <th>MAPE</th>\n",
       "      <th>N</th>\n",
       "    </tr>\n",
       "  </thead>\n",
       "  <tbody>\n",
       "    <tr>\n",
       "      <th>SVR_MSI (bands: ('B2', 'B3'))</th>\n",
       "      <td>0.049469</td>\n",
       "      <td>1.106486</td>\n",
       "      <td>0.019148</td>\n",
       "      <td>1.529723</td>\n",
       "      <td>0.538405</td>\n",
       "      <td>0.673343</td>\n",
       "      <td>0.617566</td>\n",
       "      <td>-7.568011</td>\n",
       "      <td>0.615993</td>\n",
       "      <td>70</td>\n",
       "    </tr>\n",
       "  </tbody>\n",
       "</table>\n",
       "</div>"
      ],
      "text/plain": [
       "                                    R^2  Bias_log      Bias   MAE_log  \\\n",
       "SVR_MSI (bands: ('B2', 'B3'))  0.049469  1.106486  0.019148  1.529723   \n",
       "\n",
       "                                    MAE      RMSE       std        SS  \\\n",
       "SVR_MSI (bands: ('B2', 'B3'))  0.538405  0.673343  0.617566 -7.568011   \n",
       "\n",
       "                                   MAPE   N  \n",
       "SVR_MSI (bands: ('B2', 'B3'))  0.615993  70  "
      ]
     },
     "execution_count": 69,
     "metadata": {},
     "output_type": "execute_result"
    }
   ],
   "source": [
    "nested_cv(___, 'MSI', bs_result_msi[1][11], param_grid, 'neg_root_mean_squared_error', SVR())"
   ]
  },
  {
   "cell_type": "code",
   "execution_count": 70,
   "metadata": {},
   "outputs": [
    {
     "data": {
      "text/html": [
       "\n",
       "            <style>\n",
       "                .geemap-dark {\n",
       "                    --jp-widgets-color: white;\n",
       "                    --jp-widgets-label-color: white;\n",
       "                    --jp-ui-font-color1: white;\n",
       "                    --jp-layout-color2: #454545;\n",
       "                    background-color: #383838;\n",
       "                }\n",
       "\n",
       "                .geemap-dark .jupyter-button {\n",
       "                    --jp-layout-color3: #383838;\n",
       "                }\n",
       "\n",
       "                .geemap-colab {\n",
       "                    background-color: var(--colab-primary-surface-color, white);\n",
       "                }\n",
       "\n",
       "                .geemap-colab .jupyter-button {\n",
       "                    --jp-layout-color3: var(--colab-primary-surface-color, white);\n",
       "                }\n",
       "            </style>\n",
       "            "
      ],
      "text/plain": [
       "<IPython.core.display.HTML object>"
      ]
     },
     "metadata": {},
     "output_type": "display_data"
    },
    {
     "data": {
      "image/png": "[encoded data removed]",
      "text/plain": [
       "<Figure size 1400x700 with 1 Axes>"
      ]
     },
     "metadata": {},
     "output_type": "display_data"
    },
    {
     "name": "stdout",
     "output_type": "stream",
     "text": [
      "-0.6052000421541953\n",
      "Cross-validated R^2: (0.00 + 0.12 + 0.01 + 0.05 + 0.05) / 5 = 0.04\n",
      "Cross-validated Bias_log: (1.19 + 1.06 + 0.77 + 1.19 + 1.34) / 5 = 1.11\n",
      "Cross-validated Bias: (-0.02 + 0.05 + 0.53 + -0.05 + -0.37) / 5 = 0.03\n",
      "Cross-validated MAE_log: (1.63 + 1.47 + 1.55 + 1.48 + 1.52) / 5 = 1.53\n",
      "Cross-validated MAE: (-0.53 + -0.49 + -0.73 + -0.40 + -0.50) / 5 = -0.53\n",
      "Cross-validated RMSE: (-0.63 + -0.55 + -0.88 + -0.50 + -0.58) / 5 = -0.63\n",
      "Cross-validated std: (-0.63 + -0.55 + -0.70 + -0.50 + -0.45) / 5 = -0.57\n",
      "Cross-validated Sen's slope: (-5.19 + -24.23 + 1.22 + -3.62 + 0.21) / 5 = -6.32\n",
      "Cross-validated MAPE: (-0.83 + -0.47 + -0.38 + -0.80 + -0.57) / 5 = -0.61\n",
      "\n",
      "Hyperparams (fold number = 1): {'svr__C': np.float64(0.9258747122872903), 'svr__epsilon': 0.01, 'svr__gamma': np.float64(0.010631171876362321)}\n",
      "Hyperparams (fold number = 2): {'svr__C': np.float64(0.5), 'svr__epsilon': 0.01, 'svr__gamma': np.float64(0.010631171876362321)}\n",
      "Hyperparams (fold number = 3): {'svr__C': np.float64(69.12382328910758), 'svr__epsilon': 0.01, 'svr__gamma': np.float64(0.0078125)}\n",
      "Hyperparams (fold number = 4): {'svr__C': np.float64(0.9258747122872903), 'svr__epsilon': 0.01, 'svr__gamma': np.float64(0.01968626640460739)}\n",
      "Hyperparams (fold number = 5): {'svr__C': np.float64(1.7144879657061456), 'svr__epsilon': 0.01, 'svr__gamma': np.float64(0.125)}\n"
     ]
    },
    {
     "data": {
      "text/html": [
       "<div>\n",
       "<style scoped>\n",
       "    .dataframe tbody tr th:only-of-type {\n",
       "        vertical-align: middle;\n",
       "    }\n",
       "\n",
       "    .dataframe tbody tr th {\n",
       "        vertical-align: top;\n",
       "    }\n",
       "\n",
       "    .dataframe thead th {\n",
       "        text-align: right;\n",
       "    }\n",
       "</style>\n",
       "<table border=\"1\" class=\"dataframe\">\n",
       "  <thead>\n",
       "    <tr style=\"text-align: right;\">\n",
       "      <th></th>\n",
       "      <th>R^2</th>\n",
       "      <th>Bias_log</th>\n",
       "      <th>Bias</th>\n",
       "      <th>MAE_log</th>\n",
       "      <th>MAE</th>\n",
       "      <th>RMSE</th>\n",
       "      <th>std</th>\n",
       "      <th>SS</th>\n",
       "      <th>MAPE</th>\n",
       "      <th>N</th>\n",
       "    </tr>\n",
       "  </thead>\n",
       "  <tbody>\n",
       "    <tr>\n",
       "      <th>SVR_MSI (bands: ('B1', 'B2', 'B3'))</th>\n",
       "      <td>0.04407</td>\n",
       "      <td>1.111791</td>\n",
       "      <td>0.0273</td>\n",
       "      <td>1.530731</td>\n",
       "      <td>0.529661</td>\n",
       "      <td>0.628093</td>\n",
       "      <td>0.565048</td>\n",
       "      <td>-6.32208</td>\n",
       "      <td>0.610051</td>\n",
       "      <td>70</td>\n",
       "    </tr>\n",
       "  </tbody>\n",
       "</table>\n",
       "</div>"
      ],
      "text/plain": [
       "                                         R^2  Bias_log    Bias   MAE_log  \\\n",
       "SVR_MSI (bands: ('B1', 'B2', 'B3'))  0.04407  1.111791  0.0273  1.530731   \n",
       "\n",
       "                                          MAE      RMSE       std       SS  \\\n",
       "SVR_MSI (bands: ('B1', 'B2', 'B3'))  0.529661  0.628093  0.565048 -6.32208   \n",
       "\n",
       "                                         MAPE   N  \n",
       "SVR_MSI (bands: ('B1', 'B2', 'B3'))  0.610051  70  "
      ]
     },
     "execution_count": 70,
     "metadata": {},
     "output_type": "execute_result"
    }
   ],
   "source": [
    "nested_cv(___, 'MSI', bs_result_msi[1][21], param_grid, 'neg_root_mean_squared_error', SVR())"
   ]
  },
  {
   "cell_type": "code",
   "execution_count": 71,
   "metadata": {},
   "outputs": [
    {
     "data": {
      "text/html": [
       "\n",
       "            <style>\n",
       "                .geemap-dark {\n",
       "                    --jp-widgets-color: white;\n",
       "                    --jp-widgets-label-color: white;\n",
       "                    --jp-ui-font-color1: white;\n",
       "                    --jp-layout-color2: #454545;\n",
       "                    background-color: #383838;\n",
       "                }\n",
       "\n",
       "                .geemap-dark .jupyter-button {\n",
       "                    --jp-layout-color3: #383838;\n",
       "                }\n",
       "\n",
       "                .geemap-colab {\n",
       "                    background-color: var(--colab-primary-surface-color, white);\n",
       "                }\n",
       "\n",
       "                .geemap-colab .jupyter-button {\n",
       "                    --jp-layout-color3: var(--colab-primary-surface-color, white);\n",
       "                }\n",
       "            </style>\n",
       "            "
      ],
      "text/plain": [
       "<IPython.core.display.HTML object>"
      ]
     },
     "metadata": {},
     "output_type": "display_data"
    },
    {
     "data": {
      "image/png": "[encoded data removed]",
      "text/plain": [
       "<Figure size 1400x700 with 1 Axes>"
      ]
     },
     "metadata": {},
     "output_type": "display_data"
    },
    {
     "name": "stdout",
     "output_type": "stream",
     "text": [
      "-0.6045879973159146\n",
      "Cross-validated R^2: (0.00 + 0.19 + 0.01 + 0.05 + 0.06) / 5 = 0.06\n",
      "Cross-validated Bias_log: (1.19 + 1.06 + 0.78 + 1.19 + 1.35) / 5 = 1.11\n",
      "Cross-validated Bias: (-0.02 + 0.05 + 0.52 + -0.05 + -0.37) / 5 = 0.02\n",
      "Cross-validated MAE_log: (1.63 + 1.47 + 1.56 + 1.48 + 1.48) / 5 = 1.53\n",
      "Cross-validated MAE: (-0.53 + -0.49 + -0.74 + -0.40 + -0.48) / 5 = -0.53\n",
      "Cross-validated RMSE: (-0.63 + -0.55 + -0.88 + -0.50 + -0.59) / 5 = -0.63\n",
      "Cross-validated std: (-0.63 + -0.55 + -0.71 + -0.50 + -0.46) / 5 = -0.57\n",
      "Cross-validated Sen's slope: (-4.10 + -47.30 + -0.65 + -4.44 + 0.20) / 5 = -11.26\n",
      "Cross-validated MAPE: (-0.83 + -0.47 + -0.39 + -0.80 + -0.54) / 5 = -0.61\n",
      "\n",
      "Hyperparams (fold number = 1): {'svr__C': np.float64(0.9258747122872903), 'svr__epsilon': 0.01, 'svr__gamma': np.float64(0.010631171876362321)}\n",
      "Hyperparams (fold number = 2): {'svr__C': np.float64(0.5), 'svr__epsilon': 0.01, 'svr__gamma': np.float64(0.010631171876362321)}\n",
      "Hyperparams (fold number = 3): {'svr__C': np.float64(128.0), 'svr__epsilon': 0.01, 'svr__gamma': np.float64(0.0078125)}\n",
      "Hyperparams (fold number = 4): {'svr__C': np.float64(0.5), 'svr__epsilon': 0.01, 'svr__gamma': np.float64(0.026788874464158525)}\n",
      "Hyperparams (fold number = 5): {'svr__C': np.float64(3.1748021039363987), 'svr__epsilon': 0.01, 'svr__gamma': np.float64(0.049606282874006216)}\n"
     ]
    },
    {
     "data": {
      "text/html": [
       "<div>\n",
       "<style scoped>\n",
       "    .dataframe tbody tr th:only-of-type {\n",
       "        vertical-align: middle;\n",
       "    }\n",
       "\n",
       "    .dataframe tbody tr th {\n",
       "        vertical-align: top;\n",
       "    }\n",
       "\n",
       "    .dataframe thead th {\n",
       "        text-align: right;\n",
       "    }\n",
       "</style>\n",
       "<table border=\"1\" class=\"dataframe\">\n",
       "  <thead>\n",
       "    <tr style=\"text-align: right;\">\n",
       "      <th></th>\n",
       "      <th>R^2</th>\n",
       "      <th>Bias_log</th>\n",
       "      <th>Bias</th>\n",
       "      <th>MAE_log</th>\n",
       "      <th>MAE</th>\n",
       "      <th>RMSE</th>\n",
       "      <th>std</th>\n",
       "      <th>SS</th>\n",
       "      <th>MAPE</th>\n",
       "      <th>N</th>\n",
       "    </tr>\n",
       "  </thead>\n",
       "  <tbody>\n",
       "    <tr>\n",
       "      <th>SVR_MSI (bands: ('B2', 'B3', 'B4'))</th>\n",
       "      <td>0.061779</td>\n",
       "      <td>1.114673</td>\n",
       "      <td>0.023884</td>\n",
       "      <td>1.525296</td>\n",
       "      <td>0.527293</td>\n",
       "      <td>0.629737</td>\n",
       "      <td>0.567716</td>\n",
       "      <td>-11.257918</td>\n",
       "      <td>0.606791</td>\n",
       "      <td>70</td>\n",
       "    </tr>\n",
       "  </tbody>\n",
       "</table>\n",
       "</div>"
      ],
      "text/plain": [
       "                                          R^2  Bias_log      Bias   MAE_log  \\\n",
       "SVR_MSI (bands: ('B2', 'B3', 'B4'))  0.061779  1.114673  0.023884  1.525296   \n",
       "\n",
       "                                          MAE      RMSE       std         SS  \\\n",
       "SVR_MSI (bands: ('B2', 'B3', 'B4'))  0.527293  0.629737  0.567716 -11.257918   \n",
       "\n",
       "                                         MAPE   N  \n",
       "SVR_MSI (bands: ('B2', 'B3', 'B4'))  0.606791  70  "
      ]
     },
     "execution_count": 71,
     "metadata": {},
     "output_type": "execute_result"
    }
   ],
   "source": [
    "nested_cv(___, 'MSI', bs_result_msi[1][31], param_grid, 'neg_root_mean_squared_error', SVR())"
   ]
  },
  {
   "cell_type": "markdown",
   "metadata": {},
   "source": [
    "## RF"
   ]
  },
  {
   "cell_type": "code",
   "execution_count": 52,
   "metadata": {},
   "outputs": [
    {
     "data": {
      "text/html": [
       "\n",
       "            <style>\n",
       "                .geemap-dark {\n",
       "                    --jp-widgets-color: white;\n",
       "                    --jp-widgets-label-color: white;\n",
       "                    --jp-ui-font-color1: white;\n",
       "                    --jp-layout-color2: #454545;\n",
       "                    background-color: #383838;\n",
       "                }\n",
       "\n",
       "                .geemap-dark .jupyter-button {\n",
       "                    --jp-layout-color3: #383838;\n",
       "                }\n",
       "\n",
       "                .geemap-colab {\n",
       "                    background-color: var(--colab-primary-surface-color, white);\n",
       "                }\n",
       "\n",
       "                .geemap-colab .jupyter-button {\n",
       "                    --jp-layout-color3: var(--colab-primary-surface-color, white);\n",
       "                }\n",
       "            </style>\n",
       "            "
      ],
      "text/plain": [
       "<IPython.core.display.HTML object>"
      ]
     },
     "metadata": {},
     "output_type": "display_data"
    },
    {
     "name": "stdout",
     "output_type": "stream",
     "text": [
      "Cross-validated R^2: (0.04 + 0.02 + 0.22 + 0.15 + 0.11) / 5 = 0.11 +- 0.07\n",
      "Cross-validated Bias_log: (1.27 + 0.99 + 0.78 + 1.28 + 1.42) / 5 = 1.15 +- 0.23\n",
      "Cross-validated Bias: (-0.14 + 0.12 + 0.50 + -0.16 + -0.40) / 5 = -0.02 +- 0.31\n",
      "Cross-validated MAE_log: (1.65 + 1.46 + 1.64 + 1.50 + 1.48) / 5 = 1.54 +- 0.08\n",
      "Cross-validated MAE: (-0.56 + -0.48 + -0.78 + -0.41 + -0.46) / 5 = -0.54 +- 0.13\n",
      "Cross-validated RMSE: (-0.65 + -0.58 + -0.97 + -0.49 + -0.51) / 5 = -0.64 +- 0.17\n",
      "Cross-validated std: (-0.64 + -0.57 + -0.83 + -0.47 + -0.32) / 5 = -0.57 +- 0.17\n",
      "Cross-validated Sen's slope: (0.05 + 0.12 + -1.10 + 1.03 + 0.69) / 5 = 0.16 +- 0.73\n",
      "Cross-validated MAPE: (-0.86 + -0.46 + -0.42 + -0.78 + -0.51) / 5 = -0.61 +- 0.18\n",
      "Hyperparams (fold 1): {'randomforestregressor__max_depth': 10, 'randomforestregressor__max_features': 0.3, 'randomforestregressor__min_samples_split': 5, 'randomforestregressor__n_estimators': 64}\n",
      "Hyperparams (fold 2): {'randomforestregressor__max_depth': 5, 'randomforestregressor__max_features': 'sqrt', 'randomforestregressor__min_samples_split': 5, 'randomforestregressor__n_estimators': 128}\n",
      "Hyperparams (fold 3): {'randomforestregressor__max_depth': 5, 'randomforestregressor__max_features': 0.3, 'randomforestregressor__min_samples_split': 5, 'randomforestregressor__n_estimators': 32}\n",
      "Hyperparams (fold 4): {'randomforestregressor__max_depth': 5, 'randomforestregressor__max_features': 0.3, 'randomforestregressor__min_samples_split': 2, 'randomforestregressor__n_estimators': 32}\n",
      "Hyperparams (fold 5): {'randomforestregressor__max_depth': 5, 'randomforestregressor__max_features': 0.3, 'randomforestregressor__min_samples_split': 5, 'randomforestregressor__n_estimators': 32}\n"
     ]
    },
    {
     "data": {
      "text/plain": [
       "({'fit_time': array([9.63341165, 9.7135551 , 9.3540628 , 9.65369272, 9.83123255]),\n",
       "  'score_time': array([0.00605059, 0.00881243, 0.00443554, 0.0046761 , 0.00484729]),\n",
       "  'estimator': [GridSearchCV(cv=5,\n",
       "                estimator=Pipeline(steps=[('standardscaler', StandardScaler()),\n",
       "                                          ('randomforestregressor',\n",
       "                                           RandomForestRegressor())]),\n",
       "                param_grid={'randomforestregressor__max_depth': [5, 10, 15],\n",
       "                            'randomforestregressor__max_features': ['sqrt', 0.3],\n",
       "                            'randomforestregressor__min_samples_split': [2, 5],\n",
       "                            'randomforestregressor__n_estimators': [32, 64, 128]},\n",
       "                return_train_score=True, scoring='neg_root_mean_squared_error'),\n",
       "   GridSearchCV(cv=5,\n",
       "                estimator=Pipeline(steps=[('standardscaler', StandardScaler()),\n",
       "                                          ('randomforestregressor',\n",
       "                                           RandomForestRegressor())]),\n",
       "                param_grid={'randomforestregressor__max_depth': [5, 10, 15],\n",
       "                            'randomforestregressor__max_features': ['sqrt', 0.3],\n",
       "                            'randomforestregressor__min_samples_split': [2, 5],\n",
       "                            'randomforestregressor__n_estimators': [32, 64, 128]},\n",
       "                return_train_score=True, scoring='neg_root_mean_squared_error'),\n",
       "   GridSearchCV(cv=5,\n",
       "                estimator=Pipeline(steps=[('standardscaler', StandardScaler()),\n",
       "                                          ('randomforestregressor',\n",
       "                                           RandomForestRegressor())]),\n",
       "                param_grid={'randomforestregressor__max_depth': [5, 10, 15],\n",
       "                            'randomforestregressor__max_features': ['sqrt', 0.3],\n",
       "                            'randomforestregressor__min_samples_split': [2, 5],\n",
       "                            'randomforestregressor__n_estimators': [32, 64, 128]},\n",
       "                return_train_score=True, scoring='neg_root_mean_squared_error'),\n",
       "   GridSearchCV(cv=5,\n",
       "                estimator=Pipeline(steps=[('standardscaler', StandardScaler()),\n",
       "                                          ('randomforestregressor',\n",
       "                                           RandomForestRegressor())]),\n",
       "                param_grid={'randomforestregressor__max_depth': [5, 10, 15],\n",
       "                            'randomforestregressor__max_features': ['sqrt', 0.3],\n",
       "                            'randomforestregressor__min_samples_split': [2, 5],\n",
       "                            'randomforestregressor__n_estimators': [32, 64, 128]},\n",
       "                return_train_score=True, scoring='neg_root_mean_squared_error'),\n",
       "   GridSearchCV(cv=5,\n",
       "                estimator=Pipeline(steps=[('standardscaler', StandardScaler()),\n",
       "                                          ('randomforestregressor',\n",
       "                                           RandomForestRegressor())]),\n",
       "                param_grid={'randomforestregressor__max_depth': [5, 10, 15],\n",
       "                            'randomforestregressor__max_features': ['sqrt', 0.3],\n",
       "                            'randomforestregressor__min_samples_split': [2, 5],\n",
       "                            'randomforestregressor__n_estimators': [32, 64, 128]},\n",
       "                return_train_score=True, scoring='neg_root_mean_squared_error')],\n",
       "  'test_R^2': array([0.04107045, 0.02062768, 0.22456419, 0.15346144, 0.10622633]),\n",
       "  'test_Bias_log': array([1.27331448, 0.9874963 , 0.77513154, 1.27892544, 1.41801468]),\n",
       "  'test_Bias': array([-0.14478472,  0.11558911,  0.50043763, -0.16075908, -0.39610678]),\n",
       "  'test_MAE_log': array([1.64521933, 1.46359189, 1.63778359, 1.49605758, 1.47824886]),\n",
       "  'test_MAE': array([-0.56285448, -0.47501382, -0.78058809, -0.4086561 , -0.46399487]),\n",
       "  'test_RMSE': array([-0.65249393, -0.58240393, -0.97130765, -0.49408226, -0.50848651]),\n",
       "  'test_std': array([-0.63622772, -0.57081827, -0.83246665, -0.46719781, -0.31883844]),\n",
       "  \"test_Sen's slope\": array([ 0.04749996,  0.12223113, -1.10414148,  1.02960763,  0.68827786]),\n",
       "  'test_MAPE': array([-0.86119477, -0.45935661, -0.42198087, -0.78143072, -0.51458332])},\n",
       " Pipeline(steps=[('standardscaler', StandardScaler()),\n",
       "                 ('randomforestregressor',\n",
       "                  RandomForestRegressor(max_depth=15, max_features='sqrt',\n",
       "                                        min_samples_split=5,\n",
       "                                        n_estimators=128))]))"
      ]
     },
     "execution_count": 52,
     "metadata": {},
     "output_type": "execute_result"
    }
   ],
   "source": [
    "_ = create_rrs_df_rgr(df_msi, dict_stats)\n",
    "nested_cv(_, 'MSI', _.columns[:-1], param_grid_rf, 'neg_root_mean_squared_error', RandomForestRegressor())"
   ]
  },
  {
   "cell_type": "code",
   "execution_count": 53,
   "metadata": {},
   "outputs": [
    {
     "data": {
      "text/html": [
       "\n",
       "            <style>\n",
       "                .geemap-dark {\n",
       "                    --jp-widgets-color: white;\n",
       "                    --jp-widgets-label-color: white;\n",
       "                    --jp-ui-font-color1: white;\n",
       "                    --jp-layout-color2: #454545;\n",
       "                    background-color: #383838;\n",
       "                }\n",
       "\n",
       "                .geemap-dark .jupyter-button {\n",
       "                    --jp-layout-color3: #383838;\n",
       "                }\n",
       "\n",
       "                .geemap-colab {\n",
       "                    background-color: var(--colab-primary-surface-color, white);\n",
       "                }\n",
       "\n",
       "                .geemap-colab .jupyter-button {\n",
       "                    --jp-layout-color3: var(--colab-primary-surface-color, white);\n",
       "                }\n",
       "            </style>\n",
       "            "
      ],
      "text/plain": [
       "<IPython.core.display.HTML object>"
      ]
     },
     "metadata": {},
     "output_type": "display_data"
    },
    {
     "name": "stdout",
     "output_type": "stream",
     "text": [
      "Cross-validated R^2: (0.37 + 0.02 + 0.03 + 0.48 + 0.23) / 5 = 0.23 +- 0.18\n",
      "Cross-validated Bias_log: (1.14 + 1.23 + 0.80 + 1.20 + 1.48) / 5 = 1.17 +- 0.22\n",
      "Cross-validated Bias: (-0.03 + -0.20 + 0.47 + -0.09 + -0.47) / 5 = -0.07 +- 0.31\n",
      "Cross-validated MAE_log: (1.44 + 1.37 + 1.54 + 1.40 + 1.52) / 5 = 1.45 +- 0.07\n",
      "Cross-validated MAE: (-0.40 + -0.41 + -0.71 + -0.33 + -0.52) / 5 = -0.47 +- 0.13\n",
      "Cross-validated RMSE: (-0.49 + -0.62 + -0.90 + -0.39 + -0.56) / 5 = -0.59 +- 0.17\n",
      "Cross-validated std: (-0.49 + -0.58 + -0.76 + -0.37 + -0.30) / 5 = -0.50 +- 0.16\n",
      "Cross-validated Sen's slope: (0.72 + 0.39 + -1.28 + 1.35 + 0.18) / 5 = 0.27 +- 0.87\n",
      "Cross-validated MAPE: (-0.54 + -0.52 + -0.38 + -0.51 + -0.54) / 5 = -0.50 +- 0.06\n",
      "Hyperparams (fold 1): {'randomforestregressor__max_depth': 15, 'randomforestregressor__max_features': 0.3, 'randomforestregressor__min_samples_split': 5, 'randomforestregressor__n_estimators': 32}\n",
      "Hyperparams (fold 2): {'randomforestregressor__max_depth': 10, 'randomforestregressor__max_features': 0.3, 'randomforestregressor__min_samples_split': 2, 'randomforestregressor__n_estimators': 32}\n",
      "Hyperparams (fold 3): {'randomforestregressor__max_depth': 5, 'randomforestregressor__max_features': 'sqrt', 'randomforestregressor__min_samples_split': 5, 'randomforestregressor__n_estimators': 32}\n",
      "Hyperparams (fold 4): {'randomforestregressor__max_depth': 10, 'randomforestregressor__max_features': 0.3, 'randomforestregressor__min_samples_split': 5, 'randomforestregressor__n_estimators': 64}\n",
      "Hyperparams (fold 5): {'randomforestregressor__max_depth': 5, 'randomforestregressor__max_features': 0.3, 'randomforestregressor__min_samples_split': 2, 'randomforestregressor__n_estimators': 32}\n"
     ]
    },
    {
     "data": {
      "text/plain": [
       "({'fit_time': array([10.70485854, 10.29529977, 10.51302075, 10.49333429, 10.44762206]),\n",
       "  'score_time': array([0.00481796, 0.00467634, 0.00478029, 0.00603533, 0.00466704]),\n",
       "  'estimator': [GridSearchCV(cv=5,\n",
       "                estimator=Pipeline(steps=[('standardscaler', StandardScaler()),\n",
       "                                          ('randomforestregressor',\n",
       "                                           RandomForestRegressor())]),\n",
       "                param_grid={'randomforestregressor__max_depth': [5, 10, 15],\n",
       "                            'randomforestregressor__max_features': ['sqrt', 0.3],\n",
       "                            'randomforestregressor__min_samples_split': [2, 5],\n",
       "                            'randomforestregressor__n_estimators': [32, 64, 128]},\n",
       "                return_train_score=True, scoring='neg_root_mean_squared_error'),\n",
       "   GridSearchCV(cv=5,\n",
       "                estimator=Pipeline(steps=[('standardscaler', StandardScaler()),\n",
       "                                          ('randomforestregressor',\n",
       "                                           RandomForestRegressor())]),\n",
       "                param_grid={'randomforestregressor__max_depth': [5, 10, 15],\n",
       "                            'randomforestregressor__max_features': ['sqrt', 0.3],\n",
       "                            'randomforestregressor__min_samples_split': [2, 5],\n",
       "                            'randomforestregressor__n_estimators': [32, 64, 128]},\n",
       "                return_train_score=True, scoring='neg_root_mean_squared_error'),\n",
       "   GridSearchCV(cv=5,\n",
       "                estimator=Pipeline(steps=[('standardscaler', StandardScaler()),\n",
       "                                          ('randomforestregressor',\n",
       "                                           RandomForestRegressor())]),\n",
       "                param_grid={'randomforestregressor__max_depth': [5, 10, 15],\n",
       "                            'randomforestregressor__max_features': ['sqrt', 0.3],\n",
       "                            'randomforestregressor__min_samples_split': [2, 5],\n",
       "                            'randomforestregressor__n_estimators': [32, 64, 128]},\n",
       "                return_train_score=True, scoring='neg_root_mean_squared_error'),\n",
       "   GridSearchCV(cv=5,\n",
       "                estimator=Pipeline(steps=[('standardscaler', StandardScaler()),\n",
       "                                          ('randomforestregressor',\n",
       "                                           RandomForestRegressor())]),\n",
       "                param_grid={'randomforestregressor__max_depth': [5, 10, 15],\n",
       "                            'randomforestregressor__max_features': ['sqrt', 0.3],\n",
       "                            'randomforestregressor__min_samples_split': [2, 5],\n",
       "                            'randomforestregressor__n_estimators': [32, 64, 128]},\n",
       "                return_train_score=True, scoring='neg_root_mean_squared_error'),\n",
       "   GridSearchCV(cv=5,\n",
       "                estimator=Pipeline(steps=[('standardscaler', StandardScaler()),\n",
       "                                          ('randomforestregressor',\n",
       "                                           RandomForestRegressor())]),\n",
       "                param_grid={'randomforestregressor__max_depth': [5, 10, 15],\n",
       "                            'randomforestregressor__max_features': ['sqrt', 0.3],\n",
       "                            'randomforestregressor__min_samples_split': [2, 5],\n",
       "                            'randomforestregressor__n_estimators': [32, 64, 128]},\n",
       "                return_train_score=True, scoring='neg_root_mean_squared_error')],\n",
       "  'test_R^2': array([0.37157524, 0.02433576, 0.02793172, 0.47959771, 0.22668904]),\n",
       "  'test_Bias_log': array([1.1398598 , 1.22813963, 0.79851109, 1.19929582, 1.47714554]),\n",
       "  'test_Bias': array([-0.0339052 , -0.1991713 ,  0.46681095, -0.09293163, -0.47283626]),\n",
       "  'test_MAE_log': array([1.44133484, 1.37288745, 1.53999343, 1.39890254, 1.51963846]),\n",
       "  'test_MAE': array([-0.39716182, -0.40677736, -0.7075274 , -0.33372567, -0.52102562]),\n",
       "  'test_RMSE': array([-0.49386327, -0.61507368, -0.89585115, -0.38626808, -0.56023297]),\n",
       "  'test_std': array([-0.49269805, -0.58193335, -0.76461548, -0.37492231, -0.30047771]),\n",
       "  \"test_Sen's slope\": array([ 0.71671988,  0.38846737, -1.28149953,  1.35453415,  0.17864195]),\n",
       "  'test_MAPE': array([-0.53647535, -0.51575137, -0.378336  , -0.51351032, -0.54154558])},\n",
       " Pipeline(steps=[('standardscaler', StandardScaler()),\n",
       "                 ('randomforestregressor',\n",
       "                  RandomForestRegressor(max_depth=15, max_features=0.3,\n",
       "                                        n_estimators=32))]))"
      ]
     },
     "execution_count": 53,
     "metadata": {},
     "output_type": "execute_result"
    }
   ],
   "source": [
    "__ = create_rrs_df_rgr(\n",
    "    df_msi, dict_stats,\n",
    "    emp_algo_data={'oc3_msi': oreilly_data['oc3_msi'],\n",
    "                   'li13': li_candidate_data['li13']}\n",
    ")\n",
    "nested_cv(__, 'MSI', __.columns[:-1], param_grid_rf, 'neg_root_mean_squared_error', RandomForestRegressor())"
   ]
  }
 ],
 "metadata": {
  "kernelspec": {
   "display_name": "venv",
   "language": "python",
   "name": "python3"
  },
  "language_info": {
   "codemirror_mode": {
    "name": "ipython",
    "version": 3
   },
   "file_extension": ".py",
   "mimetype": "text/x-python",
   "name": "python",
   "nbconvert_exporter": "python",
   "pygments_lexer": "ipython3",
   "version": "3.12.3"
  }
 },
 "nbformat": 4,
 "nbformat_minor": 2
}
